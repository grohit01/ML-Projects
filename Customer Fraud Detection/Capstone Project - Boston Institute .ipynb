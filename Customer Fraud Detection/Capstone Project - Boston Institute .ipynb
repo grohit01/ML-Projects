{
 "cells": [
  {
   "cell_type": "markdown",
   "id": "e073a564",
   "metadata": {},
   "source": [
    "# Ecommerce Fraud Detection EDA + Feature Engg. + ML"
   ]
  },
  {
   "cell_type": "markdown",
   "id": "0d2a0ce8",
   "metadata": {},
   "source": [
    "# Objective:\n",
    "Ecommerce Transaction to Detect the How Many Customer Transaction wheather Fraud / Not."
   ]
  },
  {
   "cell_type": "markdown",
   "id": "daeb56f8",
   "metadata": {},
   "source": [
    "# Libraries Used:\n",
    "Pandas - Data manipulation and Analysis\n",
    "\n",
    "Numpy - Numerical computing tasks\n",
    "\n",
    "Seaborn - Data Visualisation\n",
    "\n",
    "Matplotlib.pyplot - Plotting Graphs and Visualisation "
   ]
  },
  {
   "cell_type": "markdown",
   "id": "5fb4de24",
   "metadata": {},
   "source": [
    "# Import all Libraries."
   ]
  },
  {
   "cell_type": "code",
   "execution_count": 323,
   "id": "7e4ecba2",
   "metadata": {},
   "outputs": [],
   "source": [
    "import pandas as pd\n",
    "import numpy as np\n",
    "import matplotlib.pyplot as plt\n",
    "%matplotlib inline\n",
    "import seaborn as sns\n",
    "import warnings\n",
    "warnings.filterwarnings('ignore')"
   ]
  },
  {
   "cell_type": "markdown",
   "id": "e04690c0",
   "metadata": {},
   "source": [
    "# 1. Data Ingesction."
   ]
  },
  {
   "cell_type": "code",
   "execution_count": 324,
   "id": "ccabd79c",
   "metadata": {},
   "outputs": [],
   "source": [
    "# Import Dataset 1."
   ]
  },
  {
   "cell_type": "code",
   "execution_count": 325,
   "id": "4a5c4b73",
   "metadata": {},
   "outputs": [],
   "source": [
    "df1=pd.read_csv(r\"C:\\Users\\rohit\\OneDrive\\Desktop\\Data Analyst\\Project\\Customer_DF (1).csv\")"
   ]
  },
  {
   "cell_type": "code",
   "execution_count": 326,
   "id": "0101b37e",
   "metadata": {},
   "outputs": [
    {
     "data": {
      "text/html": [
       "<div>\n",
       "<style scoped>\n",
       "    .dataframe tbody tr th:only-of-type {\n",
       "        vertical-align: middle;\n",
       "    }\n",
       "\n",
       "    .dataframe tbody tr th {\n",
       "        vertical-align: top;\n",
       "    }\n",
       "\n",
       "    .dataframe thead th {\n",
       "        text-align: right;\n",
       "    }\n",
       "</style>\n",
       "<table border=\"1\" class=\"dataframe\">\n",
       "  <thead>\n",
       "    <tr style=\"text-align: right;\">\n",
       "      <th></th>\n",
       "      <th>Unnamed: 0</th>\n",
       "      <th>customerEmail</th>\n",
       "      <th>customerPhone</th>\n",
       "      <th>customerDevice</th>\n",
       "      <th>customerIPAddress</th>\n",
       "      <th>customerBillingAddress</th>\n",
       "      <th>No_Transactions</th>\n",
       "      <th>No_Orders</th>\n",
       "      <th>No_Payments</th>\n",
       "      <th>Fraud</th>\n",
       "    </tr>\n",
       "  </thead>\n",
       "  <tbody>\n",
       "    <tr>\n",
       "      <th>0</th>\n",
       "      <td>0</td>\n",
       "      <td>josephhoward@yahoo.com</td>\n",
       "      <td>400-108-5415</td>\n",
       "      <td>yyeiaxpltf82440jnb3v</td>\n",
       "      <td>8.129.104.40</td>\n",
       "      <td>5493 Jones Islands\\nBrownside, CA 51896</td>\n",
       "      <td>2</td>\n",
       "      <td>2</td>\n",
       "      <td>1</td>\n",
       "      <td>False</td>\n",
       "    </tr>\n",
       "    <tr>\n",
       "      <th>1</th>\n",
       "      <td>1</td>\n",
       "      <td>evansjeffery@yahoo.com</td>\n",
       "      <td>1-788-091-7546</td>\n",
       "      <td>r0jpm7xaeqqa3kr6mzum</td>\n",
       "      <td>219.173.211.202</td>\n",
       "      <td>356 Elizabeth Inlet Suite 120\\nPort Joshuabury...</td>\n",
       "      <td>3</td>\n",
       "      <td>3</td>\n",
       "      <td>7</td>\n",
       "      <td>True</td>\n",
       "    </tr>\n",
       "  </tbody>\n",
       "</table>\n",
       "</div>"
      ],
      "text/plain": [
       "   Unnamed: 0           customerEmail   customerPhone        customerDevice  \\\n",
       "0           0  josephhoward@yahoo.com    400-108-5415  yyeiaxpltf82440jnb3v   \n",
       "1           1  evansjeffery@yahoo.com  1-788-091-7546  r0jpm7xaeqqa3kr6mzum   \n",
       "\n",
       "  customerIPAddress                             customerBillingAddress  \\\n",
       "0      8.129.104.40            5493 Jones Islands\\nBrownside, CA 51896   \n",
       "1   219.173.211.202  356 Elizabeth Inlet Suite 120\\nPort Joshuabury...   \n",
       "\n",
       "   No_Transactions  No_Orders  No_Payments  Fraud  \n",
       "0                2          2            1  False  \n",
       "1                3          3            7   True  "
      ]
     },
     "execution_count": 326,
     "metadata": {},
     "output_type": "execute_result"
    }
   ],
   "source": [
    "df1.head(2)"
   ]
  },
  {
   "cell_type": "code",
   "execution_count": 327,
   "id": "df60751e",
   "metadata": {},
   "outputs": [],
   "source": [
    "# Import Dataset 2."
   ]
  },
  {
   "cell_type": "code",
   "execution_count": 328,
   "id": "02809a9c",
   "metadata": {},
   "outputs": [],
   "source": [
    "df2=pd.read_csv(r\"C:\\Users\\rohit\\OneDrive\\Desktop\\Data Analyst\\Project\\cust_transaction_details (1).csv\")"
   ]
  },
  {
   "cell_type": "code",
   "execution_count": 329,
   "id": "612c245d",
   "metadata": {},
   "outputs": [
    {
     "data": {
      "text/html": [
       "<div>\n",
       "<style scoped>\n",
       "    .dataframe tbody tr th:only-of-type {\n",
       "        vertical-align: middle;\n",
       "    }\n",
       "\n",
       "    .dataframe tbody tr th {\n",
       "        vertical-align: top;\n",
       "    }\n",
       "\n",
       "    .dataframe thead th {\n",
       "        text-align: right;\n",
       "    }\n",
       "</style>\n",
       "<table border=\"1\" class=\"dataframe\">\n",
       "  <thead>\n",
       "    <tr style=\"text-align: right;\">\n",
       "      <th></th>\n",
       "      <th>Unnamed: 0</th>\n",
       "      <th>customerEmail</th>\n",
       "      <th>transactionId</th>\n",
       "      <th>orderId</th>\n",
       "      <th>paymentMethodId</th>\n",
       "      <th>paymentMethodRegistrationFailure</th>\n",
       "      <th>paymentMethodType</th>\n",
       "      <th>paymentMethodProvider</th>\n",
       "      <th>transactionAmount</th>\n",
       "      <th>transactionFailed</th>\n",
       "      <th>orderState</th>\n",
       "    </tr>\n",
       "  </thead>\n",
       "  <tbody>\n",
       "    <tr>\n",
       "      <th>0</th>\n",
       "      <td>0</td>\n",
       "      <td>josephhoward@yahoo.com</td>\n",
       "      <td>a9lcj51r</td>\n",
       "      <td>vjbdvd</td>\n",
       "      <td>wt07xm68b</td>\n",
       "      <td>1</td>\n",
       "      <td>card</td>\n",
       "      <td>JCB 16 digit</td>\n",
       "      <td>18</td>\n",
       "      <td>0</td>\n",
       "      <td>pending</td>\n",
       "    </tr>\n",
       "    <tr>\n",
       "      <th>1</th>\n",
       "      <td>1</td>\n",
       "      <td>josephhoward@yahoo.com</td>\n",
       "      <td>y4wcv03i</td>\n",
       "      <td>yp6x27</td>\n",
       "      <td>wt07xm68b</td>\n",
       "      <td>1</td>\n",
       "      <td>card</td>\n",
       "      <td>JCB 16 digit</td>\n",
       "      <td>26</td>\n",
       "      <td>0</td>\n",
       "      <td>fulfilled</td>\n",
       "    </tr>\n",
       "  </tbody>\n",
       "</table>\n",
       "</div>"
      ],
      "text/plain": [
       "   Unnamed: 0           customerEmail transactionId orderId paymentMethodId  \\\n",
       "0           0  josephhoward@yahoo.com      a9lcj51r  vjbdvd       wt07xm68b   \n",
       "1           1  josephhoward@yahoo.com      y4wcv03i  yp6x27       wt07xm68b   \n",
       "\n",
       "   paymentMethodRegistrationFailure paymentMethodType paymentMethodProvider  \\\n",
       "0                                 1              card          JCB 16 digit   \n",
       "1                                 1              card          JCB 16 digit   \n",
       "\n",
       "   transactionAmount  transactionFailed orderState  \n",
       "0                 18                  0    pending  \n",
       "1                 26                  0  fulfilled  "
      ]
     },
     "execution_count": 329,
     "metadata": {},
     "output_type": "execute_result"
    }
   ],
   "source": [
    "df2.head(2)"
   ]
  },
  {
   "cell_type": "code",
   "execution_count": 330,
   "id": "bd938e3f",
   "metadata": {},
   "outputs": [],
   "source": [
    "# we analysis Both Dataset we got primary columns i.e 'customerEmail'"
   ]
  },
  {
   "cell_type": "markdown",
   "id": "0f352140",
   "metadata": {},
   "source": [
    "# 2. Marge Both Dataset df1 & df2."
   ]
  },
  {
   "cell_type": "code",
   "execution_count": 331,
   "id": "e694fff4",
   "metadata": {},
   "outputs": [],
   "source": [
    "df=pd.merge(df1,df2,on='customerEmail')"
   ]
  },
  {
   "cell_type": "code",
   "execution_count": 332,
   "id": "68b2db63",
   "metadata": {},
   "outputs": [],
   "source": [
    "# Check Top 5 Rows."
   ]
  },
  {
   "cell_type": "code",
   "execution_count": 333,
   "id": "d132ab63",
   "metadata": {},
   "outputs": [
    {
     "data": {
      "text/html": [
       "<div>\n",
       "<style scoped>\n",
       "    .dataframe tbody tr th:only-of-type {\n",
       "        vertical-align: middle;\n",
       "    }\n",
       "\n",
       "    .dataframe tbody tr th {\n",
       "        vertical-align: top;\n",
       "    }\n",
       "\n",
       "    .dataframe thead th {\n",
       "        text-align: right;\n",
       "    }\n",
       "</style>\n",
       "<table border=\"1\" class=\"dataframe\">\n",
       "  <thead>\n",
       "    <tr style=\"text-align: right;\">\n",
       "      <th></th>\n",
       "      <th>Unnamed: 0_x</th>\n",
       "      <th>customerEmail</th>\n",
       "      <th>customerPhone</th>\n",
       "      <th>customerDevice</th>\n",
       "      <th>customerIPAddress</th>\n",
       "      <th>customerBillingAddress</th>\n",
       "      <th>No_Transactions</th>\n",
       "      <th>No_Orders</th>\n",
       "      <th>No_Payments</th>\n",
       "      <th>Fraud</th>\n",
       "      <th>Unnamed: 0_y</th>\n",
       "      <th>transactionId</th>\n",
       "      <th>orderId</th>\n",
       "      <th>paymentMethodId</th>\n",
       "      <th>paymentMethodRegistrationFailure</th>\n",
       "      <th>paymentMethodType</th>\n",
       "      <th>paymentMethodProvider</th>\n",
       "      <th>transactionAmount</th>\n",
       "      <th>transactionFailed</th>\n",
       "      <th>orderState</th>\n",
       "    </tr>\n",
       "  </thead>\n",
       "  <tbody>\n",
       "    <tr>\n",
       "      <th>0</th>\n",
       "      <td>0</td>\n",
       "      <td>josephhoward@yahoo.com</td>\n",
       "      <td>400-108-5415</td>\n",
       "      <td>yyeiaxpltf82440jnb3v</td>\n",
       "      <td>8.129.104.40</td>\n",
       "      <td>5493 Jones Islands\\nBrownside, CA 51896</td>\n",
       "      <td>2</td>\n",
       "      <td>2</td>\n",
       "      <td>1</td>\n",
       "      <td>False</td>\n",
       "      <td>0</td>\n",
       "      <td>a9lcj51r</td>\n",
       "      <td>vjbdvd</td>\n",
       "      <td>wt07xm68b</td>\n",
       "      <td>1</td>\n",
       "      <td>card</td>\n",
       "      <td>JCB 16 digit</td>\n",
       "      <td>18</td>\n",
       "      <td>0</td>\n",
       "      <td>pending</td>\n",
       "    </tr>\n",
       "    <tr>\n",
       "      <th>1</th>\n",
       "      <td>0</td>\n",
       "      <td>josephhoward@yahoo.com</td>\n",
       "      <td>400-108-5415</td>\n",
       "      <td>yyeiaxpltf82440jnb3v</td>\n",
       "      <td>8.129.104.40</td>\n",
       "      <td>5493 Jones Islands\\nBrownside, CA 51896</td>\n",
       "      <td>2</td>\n",
       "      <td>2</td>\n",
       "      <td>1</td>\n",
       "      <td>False</td>\n",
       "      <td>1</td>\n",
       "      <td>y4wcv03i</td>\n",
       "      <td>yp6x27</td>\n",
       "      <td>wt07xm68b</td>\n",
       "      <td>1</td>\n",
       "      <td>card</td>\n",
       "      <td>JCB 16 digit</td>\n",
       "      <td>26</td>\n",
       "      <td>0</td>\n",
       "      <td>fulfilled</td>\n",
       "    </tr>\n",
       "    <tr>\n",
       "      <th>2</th>\n",
       "      <td>1</td>\n",
       "      <td>evansjeffery@yahoo.com</td>\n",
       "      <td>1-788-091-7546</td>\n",
       "      <td>r0jpm7xaeqqa3kr6mzum</td>\n",
       "      <td>219.173.211.202</td>\n",
       "      <td>356 Elizabeth Inlet Suite 120\\nPort Joshuabury...</td>\n",
       "      <td>3</td>\n",
       "      <td>3</td>\n",
       "      <td>7</td>\n",
       "      <td>True</td>\n",
       "      <td>2</td>\n",
       "      <td>5mi94sfw</td>\n",
       "      <td>nlghpa</td>\n",
       "      <td>41ug157xz</td>\n",
       "      <td>0</td>\n",
       "      <td>bitcoin</td>\n",
       "      <td>American Express</td>\n",
       "      <td>45</td>\n",
       "      <td>0</td>\n",
       "      <td>fulfilled</td>\n",
       "    </tr>\n",
       "    <tr>\n",
       "      <th>3</th>\n",
       "      <td>1</td>\n",
       "      <td>evansjeffery@yahoo.com</td>\n",
       "      <td>1-788-091-7546</td>\n",
       "      <td>r0jpm7xaeqqa3kr6mzum</td>\n",
       "      <td>219.173.211.202</td>\n",
       "      <td>356 Elizabeth Inlet Suite 120\\nPort Joshuabury...</td>\n",
       "      <td>3</td>\n",
       "      <td>3</td>\n",
       "      <td>7</td>\n",
       "      <td>True</td>\n",
       "      <td>3</td>\n",
       "      <td>br8ba1nu</td>\n",
       "      <td>uw0eeb</td>\n",
       "      <td>41ug157xz</td>\n",
       "      <td>0</td>\n",
       "      <td>bitcoin</td>\n",
       "      <td>American Express</td>\n",
       "      <td>23</td>\n",
       "      <td>0</td>\n",
       "      <td>fulfilled</td>\n",
       "    </tr>\n",
       "    <tr>\n",
       "      <th>4</th>\n",
       "      <td>1</td>\n",
       "      <td>evansjeffery@yahoo.com</td>\n",
       "      <td>1-788-091-7546</td>\n",
       "      <td>r0jpm7xaeqqa3kr6mzum</td>\n",
       "      <td>219.173.211.202</td>\n",
       "      <td>356 Elizabeth Inlet Suite 120\\nPort Joshuabury...</td>\n",
       "      <td>3</td>\n",
       "      <td>3</td>\n",
       "      <td>7</td>\n",
       "      <td>True</td>\n",
       "      <td>4</td>\n",
       "      <td>a33145ss</td>\n",
       "      <td>bn44oh</td>\n",
       "      <td>y3xp697jx</td>\n",
       "      <td>1</td>\n",
       "      <td>bitcoin</td>\n",
       "      <td>VISA 16 digit</td>\n",
       "      <td>43</td>\n",
       "      <td>1</td>\n",
       "      <td>fulfilled</td>\n",
       "    </tr>\n",
       "  </tbody>\n",
       "</table>\n",
       "</div>"
      ],
      "text/plain": [
       "   Unnamed: 0_x           customerEmail   customerPhone        customerDevice  \\\n",
       "0             0  josephhoward@yahoo.com    400-108-5415  yyeiaxpltf82440jnb3v   \n",
       "1             0  josephhoward@yahoo.com    400-108-5415  yyeiaxpltf82440jnb3v   \n",
       "2             1  evansjeffery@yahoo.com  1-788-091-7546  r0jpm7xaeqqa3kr6mzum   \n",
       "3             1  evansjeffery@yahoo.com  1-788-091-7546  r0jpm7xaeqqa3kr6mzum   \n",
       "4             1  evansjeffery@yahoo.com  1-788-091-7546  r0jpm7xaeqqa3kr6mzum   \n",
       "\n",
       "  customerIPAddress                             customerBillingAddress  \\\n",
       "0      8.129.104.40            5493 Jones Islands\\nBrownside, CA 51896   \n",
       "1      8.129.104.40            5493 Jones Islands\\nBrownside, CA 51896   \n",
       "2   219.173.211.202  356 Elizabeth Inlet Suite 120\\nPort Joshuabury...   \n",
       "3   219.173.211.202  356 Elizabeth Inlet Suite 120\\nPort Joshuabury...   \n",
       "4   219.173.211.202  356 Elizabeth Inlet Suite 120\\nPort Joshuabury...   \n",
       "\n",
       "   No_Transactions  No_Orders  No_Payments  Fraud  Unnamed: 0_y transactionId  \\\n",
       "0                2          2            1  False             0      a9lcj51r   \n",
       "1                2          2            1  False             1      y4wcv03i   \n",
       "2                3          3            7   True             2      5mi94sfw   \n",
       "3                3          3            7   True             3      br8ba1nu   \n",
       "4                3          3            7   True             4      a33145ss   \n",
       "\n",
       "  orderId paymentMethodId  paymentMethodRegistrationFailure paymentMethodType  \\\n",
       "0  vjbdvd       wt07xm68b                                 1              card   \n",
       "1  yp6x27       wt07xm68b                                 1              card   \n",
       "2  nlghpa       41ug157xz                                 0           bitcoin   \n",
       "3  uw0eeb       41ug157xz                                 0           bitcoin   \n",
       "4  bn44oh       y3xp697jx                                 1           bitcoin   \n",
       "\n",
       "  paymentMethodProvider  transactionAmount  transactionFailed orderState  \n",
       "0          JCB 16 digit                 18                  0    pending  \n",
       "1          JCB 16 digit                 26                  0  fulfilled  \n",
       "2      American Express                 45                  0  fulfilled  \n",
       "3      American Express                 23                  0  fulfilled  \n",
       "4         VISA 16 digit                 43                  1  fulfilled  "
      ]
     },
     "execution_count": 333,
     "metadata": {},
     "output_type": "execute_result"
    }
   ],
   "source": [
    "df.head()"
   ]
  },
  {
   "cell_type": "code",
   "execution_count": 334,
   "id": "579f891c",
   "metadata": {},
   "outputs": [],
   "source": [
    "# Check Buttom 5 Rows."
   ]
  },
  {
   "cell_type": "code",
   "execution_count": 335,
   "id": "f2242f07",
   "metadata": {},
   "outputs": [
    {
     "data": {
      "text/html": [
       "<div>\n",
       "<style scoped>\n",
       "    .dataframe tbody tr th:only-of-type {\n",
       "        vertical-align: middle;\n",
       "    }\n",
       "\n",
       "    .dataframe tbody tr th {\n",
       "        vertical-align: top;\n",
       "    }\n",
       "\n",
       "    .dataframe thead th {\n",
       "        text-align: right;\n",
       "    }\n",
       "</style>\n",
       "<table border=\"1\" class=\"dataframe\">\n",
       "  <thead>\n",
       "    <tr style=\"text-align: right;\">\n",
       "      <th></th>\n",
       "      <th>Unnamed: 0_x</th>\n",
       "      <th>customerEmail</th>\n",
       "      <th>customerPhone</th>\n",
       "      <th>customerDevice</th>\n",
       "      <th>customerIPAddress</th>\n",
       "      <th>customerBillingAddress</th>\n",
       "      <th>No_Transactions</th>\n",
       "      <th>No_Orders</th>\n",
       "      <th>No_Payments</th>\n",
       "      <th>Fraud</th>\n",
       "      <th>Unnamed: 0_y</th>\n",
       "      <th>transactionId</th>\n",
       "      <th>orderId</th>\n",
       "      <th>paymentMethodId</th>\n",
       "      <th>paymentMethodRegistrationFailure</th>\n",
       "      <th>paymentMethodType</th>\n",
       "      <th>paymentMethodProvider</th>\n",
       "      <th>transactionAmount</th>\n",
       "      <th>transactionFailed</th>\n",
       "      <th>orderState</th>\n",
       "    </tr>\n",
       "  </thead>\n",
       "  <tbody>\n",
       "    <tr>\n",
       "      <th>814</th>\n",
       "      <td>167</td>\n",
       "      <td>dawn05@tucker-brown.com</td>\n",
       "      <td>(089)703-7360x8848</td>\n",
       "      <td>lu4fgcug8dr0dwbcuui1</td>\n",
       "      <td>132.132.95.33</td>\n",
       "      <td>130 Kimberly Junctions\\nEricmouth, KS 59756-2919</td>\n",
       "      <td>7</td>\n",
       "      <td>5</td>\n",
       "      <td>4</td>\n",
       "      <td>False</td>\n",
       "      <td>618</td>\n",
       "      <td>7yilsi1o</td>\n",
       "      <td>1bubxa</td>\n",
       "      <td>7yen1m1q8</td>\n",
       "      <td>0</td>\n",
       "      <td>card</td>\n",
       "      <td>VISA 13 digit</td>\n",
       "      <td>25</td>\n",
       "      <td>1</td>\n",
       "      <td>fulfilled</td>\n",
       "    </tr>\n",
       "    <tr>\n",
       "      <th>815</th>\n",
       "      <td>167</td>\n",
       "      <td>dawn05@tucker-brown.com</td>\n",
       "      <td>(089)703-7360x8848</td>\n",
       "      <td>lu4fgcug8dr0dwbcuui1</td>\n",
       "      <td>132.132.95.33</td>\n",
       "      <td>130 Kimberly Junctions\\nEricmouth, KS 59756-2919</td>\n",
       "      <td>7</td>\n",
       "      <td>5</td>\n",
       "      <td>4</td>\n",
       "      <td>False</td>\n",
       "      <td>619</td>\n",
       "      <td>c82k5bcv</td>\n",
       "      <td>1bubxa</td>\n",
       "      <td>7yen1m1q8</td>\n",
       "      <td>0</td>\n",
       "      <td>card</td>\n",
       "      <td>VISA 13 digit</td>\n",
       "      <td>25</td>\n",
       "      <td>0</td>\n",
       "      <td>fulfilled</td>\n",
       "    </tr>\n",
       "    <tr>\n",
       "      <th>816</th>\n",
       "      <td>167</td>\n",
       "      <td>dawn05@tucker-brown.com</td>\n",
       "      <td>(089)703-7360x8848</td>\n",
       "      <td>lu4fgcug8dr0dwbcuui1</td>\n",
       "      <td>132.132.95.33</td>\n",
       "      <td>130 Kimberly Junctions\\nEricmouth, KS 59756-2919</td>\n",
       "      <td>7</td>\n",
       "      <td>5</td>\n",
       "      <td>4</td>\n",
       "      <td>False</td>\n",
       "      <td>620</td>\n",
       "      <td>wmh52bns</td>\n",
       "      <td>1bubxa</td>\n",
       "      <td>3zmkegkb8</td>\n",
       "      <td>0</td>\n",
       "      <td>paypal</td>\n",
       "      <td>JCB 15 digit</td>\n",
       "      <td>25</td>\n",
       "      <td>1</td>\n",
       "      <td>fulfilled</td>\n",
       "    </tr>\n",
       "    <tr>\n",
       "      <th>817</th>\n",
       "      <td>167</td>\n",
       "      <td>dawn05@tucker-brown.com</td>\n",
       "      <td>(089)703-7360x8848</td>\n",
       "      <td>lu4fgcug8dr0dwbcuui1</td>\n",
       "      <td>132.132.95.33</td>\n",
       "      <td>130 Kimberly Junctions\\nEricmouth, KS 59756-2919</td>\n",
       "      <td>7</td>\n",
       "      <td>5</td>\n",
       "      <td>4</td>\n",
       "      <td>False</td>\n",
       "      <td>621</td>\n",
       "      <td>xdw33hfp</td>\n",
       "      <td>p0gdbf</td>\n",
       "      <td>3zmkegkb8</td>\n",
       "      <td>0</td>\n",
       "      <td>paypal</td>\n",
       "      <td>JCB 15 digit</td>\n",
       "      <td>19</td>\n",
       "      <td>0</td>\n",
       "      <td>fulfilled</td>\n",
       "    </tr>\n",
       "    <tr>\n",
       "      <th>818</th>\n",
       "      <td>167</td>\n",
       "      <td>dawn05@tucker-brown.com</td>\n",
       "      <td>(089)703-7360x8848</td>\n",
       "      <td>lu4fgcug8dr0dwbcuui1</td>\n",
       "      <td>132.132.95.33</td>\n",
       "      <td>130 Kimberly Junctions\\nEricmouth, KS 59756-2919</td>\n",
       "      <td>7</td>\n",
       "      <td>5</td>\n",
       "      <td>4</td>\n",
       "      <td>False</td>\n",
       "      <td>622</td>\n",
       "      <td>wgmajf82</td>\n",
       "      <td>5lmvrj</td>\n",
       "      <td>f0xnu5om9</td>\n",
       "      <td>0</td>\n",
       "      <td>card</td>\n",
       "      <td>JCB 16 digit</td>\n",
       "      <td>27</td>\n",
       "      <td>0</td>\n",
       "      <td>fulfilled</td>\n",
       "    </tr>\n",
       "  </tbody>\n",
       "</table>\n",
       "</div>"
      ],
      "text/plain": [
       "     Unnamed: 0_x            customerEmail       customerPhone  \\\n",
       "814           167  dawn05@tucker-brown.com  (089)703-7360x8848   \n",
       "815           167  dawn05@tucker-brown.com  (089)703-7360x8848   \n",
       "816           167  dawn05@tucker-brown.com  (089)703-7360x8848   \n",
       "817           167  dawn05@tucker-brown.com  (089)703-7360x8848   \n",
       "818           167  dawn05@tucker-brown.com  (089)703-7360x8848   \n",
       "\n",
       "           customerDevice customerIPAddress  \\\n",
       "814  lu4fgcug8dr0dwbcuui1     132.132.95.33   \n",
       "815  lu4fgcug8dr0dwbcuui1     132.132.95.33   \n",
       "816  lu4fgcug8dr0dwbcuui1     132.132.95.33   \n",
       "817  lu4fgcug8dr0dwbcuui1     132.132.95.33   \n",
       "818  lu4fgcug8dr0dwbcuui1     132.132.95.33   \n",
       "\n",
       "                               customerBillingAddress  No_Transactions  \\\n",
       "814  130 Kimberly Junctions\\nEricmouth, KS 59756-2919                7   \n",
       "815  130 Kimberly Junctions\\nEricmouth, KS 59756-2919                7   \n",
       "816  130 Kimberly Junctions\\nEricmouth, KS 59756-2919                7   \n",
       "817  130 Kimberly Junctions\\nEricmouth, KS 59756-2919                7   \n",
       "818  130 Kimberly Junctions\\nEricmouth, KS 59756-2919                7   \n",
       "\n",
       "     No_Orders  No_Payments  Fraud  Unnamed: 0_y transactionId orderId  \\\n",
       "814          5            4  False           618      7yilsi1o  1bubxa   \n",
       "815          5            4  False           619      c82k5bcv  1bubxa   \n",
       "816          5            4  False           620      wmh52bns  1bubxa   \n",
       "817          5            4  False           621      xdw33hfp  p0gdbf   \n",
       "818          5            4  False           622      wgmajf82  5lmvrj   \n",
       "\n",
       "    paymentMethodId  paymentMethodRegistrationFailure paymentMethodType  \\\n",
       "814       7yen1m1q8                                 0              card   \n",
       "815       7yen1m1q8                                 0              card   \n",
       "816       3zmkegkb8                                 0            paypal   \n",
       "817       3zmkegkb8                                 0            paypal   \n",
       "818       f0xnu5om9                                 0              card   \n",
       "\n",
       "    paymentMethodProvider  transactionAmount  transactionFailed orderState  \n",
       "814         VISA 13 digit                 25                  1  fulfilled  \n",
       "815         VISA 13 digit                 25                  0  fulfilled  \n",
       "816          JCB 15 digit                 25                  1  fulfilled  \n",
       "817          JCB 15 digit                 19                  0  fulfilled  \n",
       "818          JCB 16 digit                 27                  0  fulfilled  "
      ]
     },
     "execution_count": 335,
     "metadata": {},
     "output_type": "execute_result"
    }
   ],
   "source": [
    "df.tail()"
   ]
  },
  {
   "cell_type": "markdown",
   "id": "a000f2e7",
   "metadata": {},
   "source": [
    "# 3. Data Cleaning"
   ]
  },
  {
   "cell_type": "code",
   "execution_count": 336,
   "id": "34316371",
   "metadata": {},
   "outputs": [
    {
     "data": {
      "text/html": [
       "<div>\n",
       "<style scoped>\n",
       "    .dataframe tbody tr th:only-of-type {\n",
       "        vertical-align: middle;\n",
       "    }\n",
       "\n",
       "    .dataframe tbody tr th {\n",
       "        vertical-align: top;\n",
       "    }\n",
       "\n",
       "    .dataframe thead th {\n",
       "        text-align: right;\n",
       "    }\n",
       "</style>\n",
       "<table border=\"1\" class=\"dataframe\">\n",
       "  <thead>\n",
       "    <tr style=\"text-align: right;\">\n",
       "      <th></th>\n",
       "      <th>Unnamed: 0_x</th>\n",
       "      <th>customerEmail</th>\n",
       "      <th>customerPhone</th>\n",
       "      <th>customerDevice</th>\n",
       "      <th>customerIPAddress</th>\n",
       "      <th>customerBillingAddress</th>\n",
       "      <th>No_Transactions</th>\n",
       "      <th>No_Orders</th>\n",
       "      <th>No_Payments</th>\n",
       "      <th>Fraud</th>\n",
       "      <th>Unnamed: 0_y</th>\n",
       "      <th>transactionId</th>\n",
       "      <th>orderId</th>\n",
       "      <th>paymentMethodId</th>\n",
       "      <th>paymentMethodRegistrationFailure</th>\n",
       "      <th>paymentMethodType</th>\n",
       "      <th>paymentMethodProvider</th>\n",
       "      <th>transactionAmount</th>\n",
       "      <th>transactionFailed</th>\n",
       "      <th>orderState</th>\n",
       "    </tr>\n",
       "  </thead>\n",
       "  <tbody>\n",
       "    <tr>\n",
       "      <th>0</th>\n",
       "      <td>0</td>\n",
       "      <td>josephhoward@yahoo.com</td>\n",
       "      <td>400-108-5415</td>\n",
       "      <td>yyeiaxpltf82440jnb3v</td>\n",
       "      <td>8.129.104.40</td>\n",
       "      <td>5493 Jones Islands\\nBrownside, CA 51896</td>\n",
       "      <td>2</td>\n",
       "      <td>2</td>\n",
       "      <td>1</td>\n",
       "      <td>False</td>\n",
       "      <td>0</td>\n",
       "      <td>a9lcj51r</td>\n",
       "      <td>vjbdvd</td>\n",
       "      <td>wt07xm68b</td>\n",
       "      <td>1</td>\n",
       "      <td>card</td>\n",
       "      <td>JCB 16 digit</td>\n",
       "      <td>18</td>\n",
       "      <td>0</td>\n",
       "      <td>pending</td>\n",
       "    </tr>\n",
       "    <tr>\n",
       "      <th>1</th>\n",
       "      <td>0</td>\n",
       "      <td>josephhoward@yahoo.com</td>\n",
       "      <td>400-108-5415</td>\n",
       "      <td>yyeiaxpltf82440jnb3v</td>\n",
       "      <td>8.129.104.40</td>\n",
       "      <td>5493 Jones Islands\\nBrownside, CA 51896</td>\n",
       "      <td>2</td>\n",
       "      <td>2</td>\n",
       "      <td>1</td>\n",
       "      <td>False</td>\n",
       "      <td>1</td>\n",
       "      <td>y4wcv03i</td>\n",
       "      <td>yp6x27</td>\n",
       "      <td>wt07xm68b</td>\n",
       "      <td>1</td>\n",
       "      <td>card</td>\n",
       "      <td>JCB 16 digit</td>\n",
       "      <td>26</td>\n",
       "      <td>0</td>\n",
       "      <td>fulfilled</td>\n",
       "    </tr>\n",
       "    <tr>\n",
       "      <th>2</th>\n",
       "      <td>1</td>\n",
       "      <td>evansjeffery@yahoo.com</td>\n",
       "      <td>1-788-091-7546</td>\n",
       "      <td>r0jpm7xaeqqa3kr6mzum</td>\n",
       "      <td>219.173.211.202</td>\n",
       "      <td>356 Elizabeth Inlet Suite 120\\nPort Joshuabury...</td>\n",
       "      <td>3</td>\n",
       "      <td>3</td>\n",
       "      <td>7</td>\n",
       "      <td>True</td>\n",
       "      <td>2</td>\n",
       "      <td>5mi94sfw</td>\n",
       "      <td>nlghpa</td>\n",
       "      <td>41ug157xz</td>\n",
       "      <td>0</td>\n",
       "      <td>bitcoin</td>\n",
       "      <td>American Express</td>\n",
       "      <td>45</td>\n",
       "      <td>0</td>\n",
       "      <td>fulfilled</td>\n",
       "    </tr>\n",
       "    <tr>\n",
       "      <th>3</th>\n",
       "      <td>1</td>\n",
       "      <td>evansjeffery@yahoo.com</td>\n",
       "      <td>1-788-091-7546</td>\n",
       "      <td>r0jpm7xaeqqa3kr6mzum</td>\n",
       "      <td>219.173.211.202</td>\n",
       "      <td>356 Elizabeth Inlet Suite 120\\nPort Joshuabury...</td>\n",
       "      <td>3</td>\n",
       "      <td>3</td>\n",
       "      <td>7</td>\n",
       "      <td>True</td>\n",
       "      <td>3</td>\n",
       "      <td>br8ba1nu</td>\n",
       "      <td>uw0eeb</td>\n",
       "      <td>41ug157xz</td>\n",
       "      <td>0</td>\n",
       "      <td>bitcoin</td>\n",
       "      <td>American Express</td>\n",
       "      <td>23</td>\n",
       "      <td>0</td>\n",
       "      <td>fulfilled</td>\n",
       "    </tr>\n",
       "    <tr>\n",
       "      <th>4</th>\n",
       "      <td>1</td>\n",
       "      <td>evansjeffery@yahoo.com</td>\n",
       "      <td>1-788-091-7546</td>\n",
       "      <td>r0jpm7xaeqqa3kr6mzum</td>\n",
       "      <td>219.173.211.202</td>\n",
       "      <td>356 Elizabeth Inlet Suite 120\\nPort Joshuabury...</td>\n",
       "      <td>3</td>\n",
       "      <td>3</td>\n",
       "      <td>7</td>\n",
       "      <td>True</td>\n",
       "      <td>4</td>\n",
       "      <td>a33145ss</td>\n",
       "      <td>bn44oh</td>\n",
       "      <td>y3xp697jx</td>\n",
       "      <td>1</td>\n",
       "      <td>bitcoin</td>\n",
       "      <td>VISA 16 digit</td>\n",
       "      <td>43</td>\n",
       "      <td>1</td>\n",
       "      <td>fulfilled</td>\n",
       "    </tr>\n",
       "    <tr>\n",
       "      <th>...</th>\n",
       "      <td>...</td>\n",
       "      <td>...</td>\n",
       "      <td>...</td>\n",
       "      <td>...</td>\n",
       "      <td>...</td>\n",
       "      <td>...</td>\n",
       "      <td>...</td>\n",
       "      <td>...</td>\n",
       "      <td>...</td>\n",
       "      <td>...</td>\n",
       "      <td>...</td>\n",
       "      <td>...</td>\n",
       "      <td>...</td>\n",
       "      <td>...</td>\n",
       "      <td>...</td>\n",
       "      <td>...</td>\n",
       "      <td>...</td>\n",
       "      <td>...</td>\n",
       "      <td>...</td>\n",
       "      <td>...</td>\n",
       "    </tr>\n",
       "    <tr>\n",
       "      <th>814</th>\n",
       "      <td>167</td>\n",
       "      <td>dawn05@tucker-brown.com</td>\n",
       "      <td>(089)703-7360x8848</td>\n",
       "      <td>lu4fgcug8dr0dwbcuui1</td>\n",
       "      <td>132.132.95.33</td>\n",
       "      <td>130 Kimberly Junctions\\nEricmouth, KS 59756-2919</td>\n",
       "      <td>7</td>\n",
       "      <td>5</td>\n",
       "      <td>4</td>\n",
       "      <td>False</td>\n",
       "      <td>618</td>\n",
       "      <td>7yilsi1o</td>\n",
       "      <td>1bubxa</td>\n",
       "      <td>7yen1m1q8</td>\n",
       "      <td>0</td>\n",
       "      <td>card</td>\n",
       "      <td>VISA 13 digit</td>\n",
       "      <td>25</td>\n",
       "      <td>1</td>\n",
       "      <td>fulfilled</td>\n",
       "    </tr>\n",
       "    <tr>\n",
       "      <th>815</th>\n",
       "      <td>167</td>\n",
       "      <td>dawn05@tucker-brown.com</td>\n",
       "      <td>(089)703-7360x8848</td>\n",
       "      <td>lu4fgcug8dr0dwbcuui1</td>\n",
       "      <td>132.132.95.33</td>\n",
       "      <td>130 Kimberly Junctions\\nEricmouth, KS 59756-2919</td>\n",
       "      <td>7</td>\n",
       "      <td>5</td>\n",
       "      <td>4</td>\n",
       "      <td>False</td>\n",
       "      <td>619</td>\n",
       "      <td>c82k5bcv</td>\n",
       "      <td>1bubxa</td>\n",
       "      <td>7yen1m1q8</td>\n",
       "      <td>0</td>\n",
       "      <td>card</td>\n",
       "      <td>VISA 13 digit</td>\n",
       "      <td>25</td>\n",
       "      <td>0</td>\n",
       "      <td>fulfilled</td>\n",
       "    </tr>\n",
       "    <tr>\n",
       "      <th>816</th>\n",
       "      <td>167</td>\n",
       "      <td>dawn05@tucker-brown.com</td>\n",
       "      <td>(089)703-7360x8848</td>\n",
       "      <td>lu4fgcug8dr0dwbcuui1</td>\n",
       "      <td>132.132.95.33</td>\n",
       "      <td>130 Kimberly Junctions\\nEricmouth, KS 59756-2919</td>\n",
       "      <td>7</td>\n",
       "      <td>5</td>\n",
       "      <td>4</td>\n",
       "      <td>False</td>\n",
       "      <td>620</td>\n",
       "      <td>wmh52bns</td>\n",
       "      <td>1bubxa</td>\n",
       "      <td>3zmkegkb8</td>\n",
       "      <td>0</td>\n",
       "      <td>paypal</td>\n",
       "      <td>JCB 15 digit</td>\n",
       "      <td>25</td>\n",
       "      <td>1</td>\n",
       "      <td>fulfilled</td>\n",
       "    </tr>\n",
       "    <tr>\n",
       "      <th>817</th>\n",
       "      <td>167</td>\n",
       "      <td>dawn05@tucker-brown.com</td>\n",
       "      <td>(089)703-7360x8848</td>\n",
       "      <td>lu4fgcug8dr0dwbcuui1</td>\n",
       "      <td>132.132.95.33</td>\n",
       "      <td>130 Kimberly Junctions\\nEricmouth, KS 59756-2919</td>\n",
       "      <td>7</td>\n",
       "      <td>5</td>\n",
       "      <td>4</td>\n",
       "      <td>False</td>\n",
       "      <td>621</td>\n",
       "      <td>xdw33hfp</td>\n",
       "      <td>p0gdbf</td>\n",
       "      <td>3zmkegkb8</td>\n",
       "      <td>0</td>\n",
       "      <td>paypal</td>\n",
       "      <td>JCB 15 digit</td>\n",
       "      <td>19</td>\n",
       "      <td>0</td>\n",
       "      <td>fulfilled</td>\n",
       "    </tr>\n",
       "    <tr>\n",
       "      <th>818</th>\n",
       "      <td>167</td>\n",
       "      <td>dawn05@tucker-brown.com</td>\n",
       "      <td>(089)703-7360x8848</td>\n",
       "      <td>lu4fgcug8dr0dwbcuui1</td>\n",
       "      <td>132.132.95.33</td>\n",
       "      <td>130 Kimberly Junctions\\nEricmouth, KS 59756-2919</td>\n",
       "      <td>7</td>\n",
       "      <td>5</td>\n",
       "      <td>4</td>\n",
       "      <td>False</td>\n",
       "      <td>622</td>\n",
       "      <td>wgmajf82</td>\n",
       "      <td>5lmvrj</td>\n",
       "      <td>f0xnu5om9</td>\n",
       "      <td>0</td>\n",
       "      <td>card</td>\n",
       "      <td>JCB 16 digit</td>\n",
       "      <td>27</td>\n",
       "      <td>0</td>\n",
       "      <td>fulfilled</td>\n",
       "    </tr>\n",
       "  </tbody>\n",
       "</table>\n",
       "<p>819 rows × 20 columns</p>\n",
       "</div>"
      ],
      "text/plain": [
       "     Unnamed: 0_x            customerEmail       customerPhone  \\\n",
       "0               0   josephhoward@yahoo.com        400-108-5415   \n",
       "1               0   josephhoward@yahoo.com        400-108-5415   \n",
       "2               1   evansjeffery@yahoo.com      1-788-091-7546   \n",
       "3               1   evansjeffery@yahoo.com      1-788-091-7546   \n",
       "4               1   evansjeffery@yahoo.com      1-788-091-7546   \n",
       "..            ...                      ...                 ...   \n",
       "814           167  dawn05@tucker-brown.com  (089)703-7360x8848   \n",
       "815           167  dawn05@tucker-brown.com  (089)703-7360x8848   \n",
       "816           167  dawn05@tucker-brown.com  (089)703-7360x8848   \n",
       "817           167  dawn05@tucker-brown.com  (089)703-7360x8848   \n",
       "818           167  dawn05@tucker-brown.com  (089)703-7360x8848   \n",
       "\n",
       "           customerDevice customerIPAddress  \\\n",
       "0    yyeiaxpltf82440jnb3v      8.129.104.40   \n",
       "1    yyeiaxpltf82440jnb3v      8.129.104.40   \n",
       "2    r0jpm7xaeqqa3kr6mzum   219.173.211.202   \n",
       "3    r0jpm7xaeqqa3kr6mzum   219.173.211.202   \n",
       "4    r0jpm7xaeqqa3kr6mzum   219.173.211.202   \n",
       "..                    ...               ...   \n",
       "814  lu4fgcug8dr0dwbcuui1     132.132.95.33   \n",
       "815  lu4fgcug8dr0dwbcuui1     132.132.95.33   \n",
       "816  lu4fgcug8dr0dwbcuui1     132.132.95.33   \n",
       "817  lu4fgcug8dr0dwbcuui1     132.132.95.33   \n",
       "818  lu4fgcug8dr0dwbcuui1     132.132.95.33   \n",
       "\n",
       "                                customerBillingAddress  No_Transactions  \\\n",
       "0              5493 Jones Islands\\nBrownside, CA 51896                2   \n",
       "1              5493 Jones Islands\\nBrownside, CA 51896                2   \n",
       "2    356 Elizabeth Inlet Suite 120\\nPort Joshuabury...                3   \n",
       "3    356 Elizabeth Inlet Suite 120\\nPort Joshuabury...                3   \n",
       "4    356 Elizabeth Inlet Suite 120\\nPort Joshuabury...                3   \n",
       "..                                                 ...              ...   \n",
       "814   130 Kimberly Junctions\\nEricmouth, KS 59756-2919                7   \n",
       "815   130 Kimberly Junctions\\nEricmouth, KS 59756-2919                7   \n",
       "816   130 Kimberly Junctions\\nEricmouth, KS 59756-2919                7   \n",
       "817   130 Kimberly Junctions\\nEricmouth, KS 59756-2919                7   \n",
       "818   130 Kimberly Junctions\\nEricmouth, KS 59756-2919                7   \n",
       "\n",
       "     No_Orders  No_Payments  Fraud  Unnamed: 0_y transactionId orderId  \\\n",
       "0            2            1  False             0      a9lcj51r  vjbdvd   \n",
       "1            2            1  False             1      y4wcv03i  yp6x27   \n",
       "2            3            7   True             2      5mi94sfw  nlghpa   \n",
       "3            3            7   True             3      br8ba1nu  uw0eeb   \n",
       "4            3            7   True             4      a33145ss  bn44oh   \n",
       "..         ...          ...    ...           ...           ...     ...   \n",
       "814          5            4  False           618      7yilsi1o  1bubxa   \n",
       "815          5            4  False           619      c82k5bcv  1bubxa   \n",
       "816          5            4  False           620      wmh52bns  1bubxa   \n",
       "817          5            4  False           621      xdw33hfp  p0gdbf   \n",
       "818          5            4  False           622      wgmajf82  5lmvrj   \n",
       "\n",
       "    paymentMethodId  paymentMethodRegistrationFailure paymentMethodType  \\\n",
       "0         wt07xm68b                                 1              card   \n",
       "1         wt07xm68b                                 1              card   \n",
       "2         41ug157xz                                 0           bitcoin   \n",
       "3         41ug157xz                                 0           bitcoin   \n",
       "4         y3xp697jx                                 1           bitcoin   \n",
       "..              ...                               ...               ...   \n",
       "814       7yen1m1q8                                 0              card   \n",
       "815       7yen1m1q8                                 0              card   \n",
       "816       3zmkegkb8                                 0            paypal   \n",
       "817       3zmkegkb8                                 0            paypal   \n",
       "818       f0xnu5om9                                 0              card   \n",
       "\n",
       "    paymentMethodProvider  transactionAmount  transactionFailed orderState  \n",
       "0            JCB 16 digit                 18                  0    pending  \n",
       "1            JCB 16 digit                 26                  0  fulfilled  \n",
       "2        American Express                 45                  0  fulfilled  \n",
       "3        American Express                 23                  0  fulfilled  \n",
       "4           VISA 16 digit                 43                  1  fulfilled  \n",
       "..                    ...                ...                ...        ...  \n",
       "814         VISA 13 digit                 25                  1  fulfilled  \n",
       "815         VISA 13 digit                 25                  0  fulfilled  \n",
       "816          JCB 15 digit                 25                  1  fulfilled  \n",
       "817          JCB 15 digit                 19                  0  fulfilled  \n",
       "818          JCB 16 digit                 27                  0  fulfilled  \n",
       "\n",
       "[819 rows x 20 columns]"
      ]
     },
     "execution_count": 336,
     "metadata": {},
     "output_type": "execute_result"
    }
   ],
   "source": [
    "df"
   ]
  },
  {
   "cell_type": "code",
   "execution_count": 337,
   "id": "82a1e55a",
   "metadata": {},
   "outputs": [],
   "source": [
    "# Drop Unwanted Columns in Data."
   ]
  },
  {
   "cell_type": "code",
   "execution_count": 338,
   "id": "051abf3e",
   "metadata": {},
   "outputs": [],
   "source": [
    "df.drop(['Unnamed: 0_x','Unnamed: 0_y'],axis=1,inplace=True)"
   ]
  },
  {
   "cell_type": "code",
   "execution_count": 339,
   "id": "0f767a04",
   "metadata": {},
   "outputs": [
    {
     "data": {
      "text/html": [
       "<div>\n",
       "<style scoped>\n",
       "    .dataframe tbody tr th:only-of-type {\n",
       "        vertical-align: middle;\n",
       "    }\n",
       "\n",
       "    .dataframe tbody tr th {\n",
       "        vertical-align: top;\n",
       "    }\n",
       "\n",
       "    .dataframe thead th {\n",
       "        text-align: right;\n",
       "    }\n",
       "</style>\n",
       "<table border=\"1\" class=\"dataframe\">\n",
       "  <thead>\n",
       "    <tr style=\"text-align: right;\">\n",
       "      <th></th>\n",
       "      <th>customerEmail</th>\n",
       "      <th>customerPhone</th>\n",
       "      <th>customerDevice</th>\n",
       "      <th>customerIPAddress</th>\n",
       "      <th>customerBillingAddress</th>\n",
       "      <th>No_Transactions</th>\n",
       "      <th>No_Orders</th>\n",
       "      <th>No_Payments</th>\n",
       "      <th>Fraud</th>\n",
       "      <th>transactionId</th>\n",
       "      <th>orderId</th>\n",
       "      <th>paymentMethodId</th>\n",
       "      <th>paymentMethodRegistrationFailure</th>\n",
       "      <th>paymentMethodType</th>\n",
       "      <th>paymentMethodProvider</th>\n",
       "      <th>transactionAmount</th>\n",
       "      <th>transactionFailed</th>\n",
       "      <th>orderState</th>\n",
       "    </tr>\n",
       "  </thead>\n",
       "  <tbody>\n",
       "    <tr>\n",
       "      <th>0</th>\n",
       "      <td>josephhoward@yahoo.com</td>\n",
       "      <td>400-108-5415</td>\n",
       "      <td>yyeiaxpltf82440jnb3v</td>\n",
       "      <td>8.129.104.40</td>\n",
       "      <td>5493 Jones Islands\\nBrownside, CA 51896</td>\n",
       "      <td>2</td>\n",
       "      <td>2</td>\n",
       "      <td>1</td>\n",
       "      <td>False</td>\n",
       "      <td>a9lcj51r</td>\n",
       "      <td>vjbdvd</td>\n",
       "      <td>wt07xm68b</td>\n",
       "      <td>1</td>\n",
       "      <td>card</td>\n",
       "      <td>JCB 16 digit</td>\n",
       "      <td>18</td>\n",
       "      <td>0</td>\n",
       "      <td>pending</td>\n",
       "    </tr>\n",
       "    <tr>\n",
       "      <th>1</th>\n",
       "      <td>josephhoward@yahoo.com</td>\n",
       "      <td>400-108-5415</td>\n",
       "      <td>yyeiaxpltf82440jnb3v</td>\n",
       "      <td>8.129.104.40</td>\n",
       "      <td>5493 Jones Islands\\nBrownside, CA 51896</td>\n",
       "      <td>2</td>\n",
       "      <td>2</td>\n",
       "      <td>1</td>\n",
       "      <td>False</td>\n",
       "      <td>y4wcv03i</td>\n",
       "      <td>yp6x27</td>\n",
       "      <td>wt07xm68b</td>\n",
       "      <td>1</td>\n",
       "      <td>card</td>\n",
       "      <td>JCB 16 digit</td>\n",
       "      <td>26</td>\n",
       "      <td>0</td>\n",
       "      <td>fulfilled</td>\n",
       "    </tr>\n",
       "    <tr>\n",
       "      <th>2</th>\n",
       "      <td>evansjeffery@yahoo.com</td>\n",
       "      <td>1-788-091-7546</td>\n",
       "      <td>r0jpm7xaeqqa3kr6mzum</td>\n",
       "      <td>219.173.211.202</td>\n",
       "      <td>356 Elizabeth Inlet Suite 120\\nPort Joshuabury...</td>\n",
       "      <td>3</td>\n",
       "      <td>3</td>\n",
       "      <td>7</td>\n",
       "      <td>True</td>\n",
       "      <td>5mi94sfw</td>\n",
       "      <td>nlghpa</td>\n",
       "      <td>41ug157xz</td>\n",
       "      <td>0</td>\n",
       "      <td>bitcoin</td>\n",
       "      <td>American Express</td>\n",
       "      <td>45</td>\n",
       "      <td>0</td>\n",
       "      <td>fulfilled</td>\n",
       "    </tr>\n",
       "    <tr>\n",
       "      <th>3</th>\n",
       "      <td>evansjeffery@yahoo.com</td>\n",
       "      <td>1-788-091-7546</td>\n",
       "      <td>r0jpm7xaeqqa3kr6mzum</td>\n",
       "      <td>219.173.211.202</td>\n",
       "      <td>356 Elizabeth Inlet Suite 120\\nPort Joshuabury...</td>\n",
       "      <td>3</td>\n",
       "      <td>3</td>\n",
       "      <td>7</td>\n",
       "      <td>True</td>\n",
       "      <td>br8ba1nu</td>\n",
       "      <td>uw0eeb</td>\n",
       "      <td>41ug157xz</td>\n",
       "      <td>0</td>\n",
       "      <td>bitcoin</td>\n",
       "      <td>American Express</td>\n",
       "      <td>23</td>\n",
       "      <td>0</td>\n",
       "      <td>fulfilled</td>\n",
       "    </tr>\n",
       "    <tr>\n",
       "      <th>4</th>\n",
       "      <td>evansjeffery@yahoo.com</td>\n",
       "      <td>1-788-091-7546</td>\n",
       "      <td>r0jpm7xaeqqa3kr6mzum</td>\n",
       "      <td>219.173.211.202</td>\n",
       "      <td>356 Elizabeth Inlet Suite 120\\nPort Joshuabury...</td>\n",
       "      <td>3</td>\n",
       "      <td>3</td>\n",
       "      <td>7</td>\n",
       "      <td>True</td>\n",
       "      <td>a33145ss</td>\n",
       "      <td>bn44oh</td>\n",
       "      <td>y3xp697jx</td>\n",
       "      <td>1</td>\n",
       "      <td>bitcoin</td>\n",
       "      <td>VISA 16 digit</td>\n",
       "      <td>43</td>\n",
       "      <td>1</td>\n",
       "      <td>fulfilled</td>\n",
       "    </tr>\n",
       "  </tbody>\n",
       "</table>\n",
       "</div>"
      ],
      "text/plain": [
       "            customerEmail   customerPhone        customerDevice  \\\n",
       "0  josephhoward@yahoo.com    400-108-5415  yyeiaxpltf82440jnb3v   \n",
       "1  josephhoward@yahoo.com    400-108-5415  yyeiaxpltf82440jnb3v   \n",
       "2  evansjeffery@yahoo.com  1-788-091-7546  r0jpm7xaeqqa3kr6mzum   \n",
       "3  evansjeffery@yahoo.com  1-788-091-7546  r0jpm7xaeqqa3kr6mzum   \n",
       "4  evansjeffery@yahoo.com  1-788-091-7546  r0jpm7xaeqqa3kr6mzum   \n",
       "\n",
       "  customerIPAddress                             customerBillingAddress  \\\n",
       "0      8.129.104.40            5493 Jones Islands\\nBrownside, CA 51896   \n",
       "1      8.129.104.40            5493 Jones Islands\\nBrownside, CA 51896   \n",
       "2   219.173.211.202  356 Elizabeth Inlet Suite 120\\nPort Joshuabury...   \n",
       "3   219.173.211.202  356 Elizabeth Inlet Suite 120\\nPort Joshuabury...   \n",
       "4   219.173.211.202  356 Elizabeth Inlet Suite 120\\nPort Joshuabury...   \n",
       "\n",
       "   No_Transactions  No_Orders  No_Payments  Fraud transactionId orderId  \\\n",
       "0                2          2            1  False      a9lcj51r  vjbdvd   \n",
       "1                2          2            1  False      y4wcv03i  yp6x27   \n",
       "2                3          3            7   True      5mi94sfw  nlghpa   \n",
       "3                3          3            7   True      br8ba1nu  uw0eeb   \n",
       "4                3          3            7   True      a33145ss  bn44oh   \n",
       "\n",
       "  paymentMethodId  paymentMethodRegistrationFailure paymentMethodType  \\\n",
       "0       wt07xm68b                                 1              card   \n",
       "1       wt07xm68b                                 1              card   \n",
       "2       41ug157xz                                 0           bitcoin   \n",
       "3       41ug157xz                                 0           bitcoin   \n",
       "4       y3xp697jx                                 1           bitcoin   \n",
       "\n",
       "  paymentMethodProvider  transactionAmount  transactionFailed orderState  \n",
       "0          JCB 16 digit                 18                  0    pending  \n",
       "1          JCB 16 digit                 26                  0  fulfilled  \n",
       "2      American Express                 45                  0  fulfilled  \n",
       "3      American Express                 23                  0  fulfilled  \n",
       "4         VISA 16 digit                 43                  1  fulfilled  "
      ]
     },
     "execution_count": 339,
     "metadata": {},
     "output_type": "execute_result"
    }
   ],
   "source": [
    "df.head()"
   ]
  },
  {
   "cell_type": "code",
   "execution_count": 340,
   "id": "2a922276",
   "metadata": {},
   "outputs": [],
   "source": [
    "# Checking Null Values in Data."
   ]
  },
  {
   "cell_type": "code",
   "execution_count": 341,
   "id": "e0a682b9",
   "metadata": {},
   "outputs": [
    {
     "data": {
      "text/plain": [
       "customerEmail                       0\n",
       "customerPhone                       0\n",
       "customerDevice                      0\n",
       "customerIPAddress                   0\n",
       "customerBillingAddress              0\n",
       "No_Transactions                     0\n",
       "No_Orders                           0\n",
       "No_Payments                         0\n",
       "Fraud                               0\n",
       "transactionId                       0\n",
       "orderId                             0\n",
       "paymentMethodId                     0\n",
       "paymentMethodRegistrationFailure    0\n",
       "paymentMethodType                   0\n",
       "paymentMethodProvider               0\n",
       "transactionAmount                   0\n",
       "transactionFailed                   0\n",
       "orderState                          0\n",
       "dtype: int64"
      ]
     },
     "execution_count": 341,
     "metadata": {},
     "output_type": "execute_result"
    }
   ],
   "source": [
    "df.isnull().sum()"
   ]
  },
  {
   "cell_type": "code",
   "execution_count": 342,
   "id": "4a971792",
   "metadata": {},
   "outputs": [],
   "source": [
    "# Plot a Heatmap to Check the Null Values in Dataframe."
   ]
  },
  {
   "cell_type": "code",
   "execution_count": 343,
   "id": "a2997bb6",
   "metadata": {},
   "outputs": [
    {
     "data": {
      "text/plain": [
       "<AxesSubplot:>"
      ]
     },
     "execution_count": 343,
     "metadata": {},
     "output_type": "execute_result"
    },
    {
     "data": {
      "image/png": "[encoded data removed]",
      "text/plain": [
       "<Figure size 640x480 with 2 Axes>"
      ]
     },
     "metadata": {},
     "output_type": "display_data"
    }
   ],
   "source": [
    "sns.heatmap(df.isnull())"
   ]
  },
  {
   "cell_type": "code",
   "execution_count": 344,
   "id": "217a3a16",
   "metadata": {},
   "outputs": [],
   "source": [
    "# Check Duplicated Values in DataFrame."
   ]
  },
  {
   "cell_type": "code",
   "execution_count": 345,
   "id": "f260f512",
   "metadata": {},
   "outputs": [
    {
     "data": {
      "text/plain": [
       "0"
      ]
     },
     "execution_count": 345,
     "metadata": {},
     "output_type": "execute_result"
    }
   ],
   "source": [
    "df.duplicated().sum()"
   ]
  },
  {
   "cell_type": "code",
   "execution_count": 346,
   "id": "d0ced05e",
   "metadata": {},
   "outputs": [],
   "source": [
    "# Stastical Analysis."
   ]
  },
  {
   "cell_type": "code",
   "execution_count": 347,
   "id": "c3e98202",
   "metadata": {},
   "outputs": [
    {
     "data": {
      "text/html": [
       "<div>\n",
       "<style scoped>\n",
       "    .dataframe tbody tr th:only-of-type {\n",
       "        vertical-align: middle;\n",
       "    }\n",
       "\n",
       "    .dataframe tbody tr th {\n",
       "        vertical-align: top;\n",
       "    }\n",
       "\n",
       "    .dataframe thead th {\n",
       "        text-align: right;\n",
       "    }\n",
       "</style>\n",
       "<table border=\"1\" class=\"dataframe\">\n",
       "  <thead>\n",
       "    <tr style=\"text-align: right;\">\n",
       "      <th></th>\n",
       "      <th>No_Transactions</th>\n",
       "      <th>No_Orders</th>\n",
       "      <th>No_Payments</th>\n",
       "      <th>paymentMethodRegistrationFailure</th>\n",
       "      <th>transactionAmount</th>\n",
       "      <th>transactionFailed</th>\n",
       "    </tr>\n",
       "  </thead>\n",
       "  <tbody>\n",
       "    <tr>\n",
       "      <th>count</th>\n",
       "      <td>819.000000</td>\n",
       "      <td>819.000000</td>\n",
       "      <td>819.000000</td>\n",
       "      <td>819.000000</td>\n",
       "      <td>819.000000</td>\n",
       "      <td>819.000000</td>\n",
       "    </tr>\n",
       "    <tr>\n",
       "      <th>mean</th>\n",
       "      <td>5.195360</td>\n",
       "      <td>3.808303</td>\n",
       "      <td>2.135531</td>\n",
       "      <td>0.100122</td>\n",
       "      <td>35.147741</td>\n",
       "      <td>0.256410</td>\n",
       "    </tr>\n",
       "    <tr>\n",
       "      <th>std</th>\n",
       "      <td>2.924214</td>\n",
       "      <td>1.866872</td>\n",
       "      <td>1.860001</td>\n",
       "      <td>0.300346</td>\n",
       "      <td>19.640072</td>\n",
       "      <td>0.436918</td>\n",
       "    </tr>\n",
       "    <tr>\n",
       "      <th>min</th>\n",
       "      <td>0.000000</td>\n",
       "      <td>0.000000</td>\n",
       "      <td>0.000000</td>\n",
       "      <td>0.000000</td>\n",
       "      <td>10.000000</td>\n",
       "      <td>0.000000</td>\n",
       "    </tr>\n",
       "    <tr>\n",
       "      <th>25%</th>\n",
       "      <td>3.000000</td>\n",
       "      <td>3.000000</td>\n",
       "      <td>1.000000</td>\n",
       "      <td>0.000000</td>\n",
       "      <td>22.000000</td>\n",
       "      <td>0.000000</td>\n",
       "    </tr>\n",
       "    <tr>\n",
       "      <th>50%</th>\n",
       "      <td>5.000000</td>\n",
       "      <td>4.000000</td>\n",
       "      <td>2.000000</td>\n",
       "      <td>0.000000</td>\n",
       "      <td>34.000000</td>\n",
       "      <td>0.000000</td>\n",
       "    </tr>\n",
       "    <tr>\n",
       "      <th>75%</th>\n",
       "      <td>7.000000</td>\n",
       "      <td>5.000000</td>\n",
       "      <td>3.000000</td>\n",
       "      <td>0.000000</td>\n",
       "      <td>46.000000</td>\n",
       "      <td>1.000000</td>\n",
       "    </tr>\n",
       "    <tr>\n",
       "      <th>max</th>\n",
       "      <td>15.000000</td>\n",
       "      <td>8.000000</td>\n",
       "      <td>15.000000</td>\n",
       "      <td>1.000000</td>\n",
       "      <td>353.000000</td>\n",
       "      <td>1.000000</td>\n",
       "    </tr>\n",
       "  </tbody>\n",
       "</table>\n",
       "</div>"
      ],
      "text/plain": [
       "       No_Transactions   No_Orders  No_Payments  \\\n",
       "count       819.000000  819.000000   819.000000   \n",
       "mean          5.195360    3.808303     2.135531   \n",
       "std           2.924214    1.866872     1.860001   \n",
       "min           0.000000    0.000000     0.000000   \n",
       "25%           3.000000    3.000000     1.000000   \n",
       "50%           5.000000    4.000000     2.000000   \n",
       "75%           7.000000    5.000000     3.000000   \n",
       "max          15.000000    8.000000    15.000000   \n",
       "\n",
       "       paymentMethodRegistrationFailure  transactionAmount  transactionFailed  \n",
       "count                        819.000000         819.000000         819.000000  \n",
       "mean                           0.100122          35.147741           0.256410  \n",
       "std                            0.300346          19.640072           0.436918  \n",
       "min                            0.000000          10.000000           0.000000  \n",
       "25%                            0.000000          22.000000           0.000000  \n",
       "50%                            0.000000          34.000000           0.000000  \n",
       "75%                            0.000000          46.000000           1.000000  \n",
       "max                            1.000000         353.000000           1.000000  "
      ]
     },
     "execution_count": 347,
     "metadata": {},
     "output_type": "execute_result"
    }
   ],
   "source": [
    "df.describe()"
   ]
  },
  {
   "cell_type": "code",
   "execution_count": 348,
   "id": "5e7b9741",
   "metadata": {},
   "outputs": [
    {
     "name": "stdout",
     "output_type": "stream",
     "text": [
      "<class 'pandas.core.frame.DataFrame'>\n",
      "Int64Index: 819 entries, 0 to 818\n",
      "Data columns (total 18 columns):\n",
      " #   Column                            Non-Null Count  Dtype \n",
      "---  ------                            --------------  ----- \n",
      " 0   customerEmail                     819 non-null    object\n",
      " 1   customerPhone                     819 non-null    object\n",
      " 2   customerDevice                    819 non-null    object\n",
      " 3   customerIPAddress                 819 non-null    object\n",
      " 4   customerBillingAddress            819 non-null    object\n",
      " 5   No_Transactions                   819 non-null    int64 \n",
      " 6   No_Orders                         819 non-null    int64 \n",
      " 7   No_Payments                       819 non-null    int64 \n",
      " 8   Fraud                             819 non-null    bool  \n",
      " 9   transactionId                     819 non-null    object\n",
      " 10  orderId                           819 non-null    object\n",
      " 11  paymentMethodId                   819 non-null    object\n",
      " 12  paymentMethodRegistrationFailure  819 non-null    int64 \n",
      " 13  paymentMethodType                 819 non-null    object\n",
      " 14  paymentMethodProvider             819 non-null    object\n",
      " 15  transactionAmount                 819 non-null    int64 \n",
      " 16  transactionFailed                 819 non-null    int64 \n",
      " 17  orderState                        819 non-null    object\n",
      "dtypes: bool(1), int64(6), object(11)\n",
      "memory usage: 116.0+ KB\n"
     ]
    }
   ],
   "source": [
    "df.info()"
   ]
  },
  {
   "cell_type": "markdown",
   "id": "23305bc4",
   "metadata": {},
   "source": [
    "# 4. Exploratroy Data Analysis."
   ]
  },
  {
   "cell_type": "code",
   "execution_count": 349,
   "id": "13fa10ef",
   "metadata": {},
   "outputs": [
    {
     "data": {
      "text/plain": [
       "<AxesSubplot:xlabel='paymentMethodType', ylabel='count'>"
      ]
     },
     "execution_count": 349,
     "metadata": {},
     "output_type": "execute_result"
    },
    {
     "data": {
      "image/png": "[encoded data removed]",
      "text/plain": [
       "<Figure size 640x480 with 1 Axes>"
      ]
     },
     "metadata": {},
     "output_type": "display_data"
    }
   ],
   "source": [
    "sns.countplot(df['paymentMethodType'])"
   ]
  },
  {
   "cell_type": "markdown",
   "id": "821f1a5f",
   "metadata": {},
   "source": [
    "Here, We see the most of the time payment done by the Card, then Bitcoin, Paypal and Apple Pay."
   ]
  },
  {
   "cell_type": "code",
   "execution_count": 350,
   "id": "edd349e9",
   "metadata": {},
   "outputs": [
    {
     "data": {
      "text/plain": [
       "<AxesSubplot:xlabel='orderState', ylabel='count'>"
      ]
     },
     "execution_count": 350,
     "metadata": {},
     "output_type": "execute_result"
    },
    {
     "data": {
      "image/png": "[encoded data removed]",
      "text/plain": [
       "<Figure size 640x480 with 1 Axes>"
      ]
     },
     "metadata": {},
     "output_type": "display_data"
    }
   ],
   "source": [
    "sns.countplot(df['orderState'])"
   ]
  },
  {
   "cell_type": "markdown",
   "id": "e34d205b",
   "metadata": {},
   "source": [
    "Here,we See and Analysis the OrderSate Fulfilled 680, Failed 100 and Pending OrderSate is almost 50."
   ]
  },
  {
   "cell_type": "code",
   "execution_count": 351,
   "id": "b54c5345",
   "metadata": {},
   "outputs": [
    {
     "data": {
      "text/plain": [
       "<AxesSubplot:xlabel='paymentMethodProvider', ylabel='count'>"
      ]
     },
     "execution_count": 351,
     "metadata": {},
     "output_type": "execute_result"
    },
    {
     "data": {
      "image/png": "[encoded data removed]",
      "text/plain": [
       "<Figure size 1800x700 with 1 Axes>"
      ]
     },
     "metadata": {},
     "output_type": "display_data"
    }
   ],
   "source": [
    "plt.figure(figsize=(18,7))\n",
    "sns.countplot(df['paymentMethodProvider'])"
   ]
  },
  {
   "cell_type": "markdown",
   "id": "7357ef0d",
   "metadata": {},
   "source": [
    "**More Payments by 'VISA 16 digit' and 'JCB 16 digit' as compared to other payment method providers.**"
   ]
  },
  {
   "cell_type": "code",
   "execution_count": 352,
   "id": "e9b4375e",
   "metadata": {},
   "outputs": [
    {
     "data": {
      "text/plain": [
       "<AxesSubplot:xlabel='No_Payments', ylabel='count'>"
      ]
     },
     "execution_count": 352,
     "metadata": {},
     "output_type": "execute_result"
    },
    {
     "data": {
      "image/png": "[encoded data removed]",
      "text/plain": [
       "<Figure size 640x480 with 1 Axes>"
      ]
     },
     "metadata": {},
     "output_type": "display_data"
    }
   ],
   "source": [
    "sns.countplot(df['No_Payments'],hue = df['Fraud'])"
   ]
  },
  {
   "cell_type": "code",
   "execution_count": 353,
   "id": "42fc1304",
   "metadata": {},
   "outputs": [
    {
     "data": {
      "text/plain": [
       "<AxesSubplot:xlabel='No_Transactions', ylabel='Density'>"
      ]
     },
     "execution_count": 353,
     "metadata": {},
     "output_type": "execute_result"
    },
    {
     "data": {
      "image/png": "[encoded data removed]",
      "text/plain": [
       "<Figure size 640x480 with 1 Axes>"
      ]
     },
     "metadata": {},
     "output_type": "display_data"
    }
   ],
   "source": [
    "sns.distplot(df['No_Transactions'])"
   ]
  },
  {
   "cell_type": "code",
   "execution_count": 354,
   "id": "fbc62f94",
   "metadata": {},
   "outputs": [
    {
     "data": {
      "text/plain": [
       "<AxesSubplot:xlabel='No_Orders', ylabel='Density'>"
      ]
     },
     "execution_count": 354,
     "metadata": {},
     "output_type": "execute_result"
    },
    {
     "data": {
      "image/png": "[encoded data removed]",
      "text/plain": [
       "<Figure size 640x480 with 1 Axes>"
      ]
     },
     "metadata": {},
     "output_type": "display_data"
    }
   ],
   "source": [
    "sns.distplot(df['No_Orders'])"
   ]
  },
  {
   "cell_type": "code",
   "execution_count": 355,
   "id": "788e67ae",
   "metadata": {},
   "outputs": [
    {
     "data": {
      "text/plain": [
       "<AxesSubplot:xlabel='No_Payments', ylabel='Count'>"
      ]
     },
     "execution_count": 355,
     "metadata": {},
     "output_type": "execute_result"
    },
    {
     "data": {
      "image/png": "[encoded data removed]",
      "text/plain": [
       "<Figure size 640x480 with 1 Axes>"
      ]
     },
     "metadata": {},
     "output_type": "display_data"
    }
   ],
   "source": [
    "sns.histplot(df['No_Payments'])"
   ]
  },
  {
   "cell_type": "code",
   "execution_count": 356,
   "id": "19b073e0",
   "metadata": {},
   "outputs": [
    {
     "data": {
      "text/plain": [
       "<AxesSubplot:xlabel='transactionAmount', ylabel='Count'>"
      ]
     },
     "execution_count": 356,
     "metadata": {},
     "output_type": "execute_result"
    },
    {
     "data": {
      "image/png": "[encoded data removed]",
      "text/plain": [
       "<Figure size 640x480 with 1 Axes>"
      ]
     },
     "metadata": {},
     "output_type": "display_data"
    }
   ],
   "source": [
    "sns.histplot(df['transactionAmount'])"
   ]
  },
  {
   "cell_type": "code",
   "execution_count": 357,
   "id": "d0d9c9e2",
   "metadata": {},
   "outputs": [
    {
     "data": {
      "text/plain": [
       "<AxesSubplot:xlabel='transactionFailed', ylabel='Count'>"
      ]
     },
     "execution_count": 357,
     "metadata": {},
     "output_type": "execute_result"
    },
    {
     "data": {
      "image/png": "[encoded data removed]",
      "text/plain": [
       "<Figure size 640x480 with 1 Axes>"
      ]
     },
     "metadata": {},
     "output_type": "display_data"
    }
   ],
   "source": [
    "sns.histplot(df['transactionFailed'])"
   ]
  },
  {
   "cell_type": "code",
   "execution_count": 358,
   "id": "810f01b5",
   "metadata": {},
   "outputs": [
    {
     "data": {
      "text/plain": [
       "<AxesSubplot:xlabel='paymentMethodRegistrationFailure', ylabel='Count'>"
      ]
     },
     "execution_count": 358,
     "metadata": {},
     "output_type": "execute_result"
    },
    {
     "data": {
      "image/png": "[encoded data removed]",
      "text/plain": [
       "<Figure size 640x480 with 1 Axes>"
      ]
     },
     "metadata": {},
     "output_type": "display_data"
    }
   ],
   "source": [
    "sns.histplot(df['paymentMethodRegistrationFailure'])"
   ]
  },
  {
   "cell_type": "code",
   "execution_count": 359,
   "id": "be5c5d33",
   "metadata": {},
   "outputs": [],
   "source": [
    "# Find Correlation."
   ]
  },
  {
   "cell_type": "code",
   "execution_count": 360,
   "id": "8c7c0f3f",
   "metadata": {},
   "outputs": [
    {
     "data": {
      "image/png": "[encoded data removed]",
      "text/plain": [
       "<Figure size 640x480 with 2 Axes>"
      ]
     },
     "metadata": {},
     "output_type": "display_data"
    }
   ],
   "source": [
    "corr_matrix = df.corr()\n",
    "\n",
    "# Plot a heatmap of the correlation matrix\n",
    "sns.heatmap(corr_matrix, cmap='coolwarm', annot=True)\n",
    "plt.title('Correlation Matrix')\n",
    "plt.show()"
   ]
  },
  {
   "cell_type": "markdown",
   "id": "5f53d16c",
   "metadata": {},
   "source": [
    "# 5.Check Imblance or Balance Data."
   ]
  },
  {
   "cell_type": "code",
   "execution_count": 361,
   "id": "6c3b5bd7",
   "metadata": {},
   "outputs": [
    {
     "data": {
      "image/png": "[encoded data removed]",
      "text/plain": [
       "<Figure size 640x480 with 1 Axes>"
      ]
     },
     "metadata": {},
     "output_type": "display_data"
    }
   ],
   "source": [
    "df['Fraud'].value_counts().plot(kind=\"pie\",autopct=\"%.1f%%\")\n",
    "plt.title(\"Fraud\")\n",
    "plt.show()"
   ]
  },
  {
   "cell_type": "markdown",
   "id": "89eb8e94",
   "metadata": {},
   "source": [
    "***Here,we see 55.3% Fraud is True & 44.7% Fraud is False***"
   ]
  },
  {
   "cell_type": "code",
   "execution_count": 362,
   "id": "66225790",
   "metadata": {},
   "outputs": [
    {
     "data": {
      "text/plain": [
       "<AxesSubplot:xlabel='Fraud', ylabel='count'>"
      ]
     },
     "execution_count": 362,
     "metadata": {},
     "output_type": "execute_result"
    },
    {
     "data": {
      "image/png": "[encoded data removed]",
      "text/plain": [
       "<Figure size 640x480 with 1 Axes>"
      ]
     },
     "metadata": {},
     "output_type": "display_data"
    }
   ],
   "source": [
    "sns.countplot(df.Fraud.value_counts())"
   ]
  },
  {
   "cell_type": "code",
   "execution_count": 363,
   "id": "cbfb4179",
   "metadata": {},
   "outputs": [
    {
     "data": {
      "text/plain": [
       "True     453\n",
       "False    366\n",
       "Name: Fraud, dtype: int64"
      ]
     },
     "execution_count": 363,
     "metadata": {},
     "output_type": "execute_result"
    }
   ],
   "source": [
    "df.Fraud.value_counts()"
   ]
  },
  {
   "cell_type": "markdown",
   "id": "be6b7dc9",
   "metadata": {},
   "source": [
    "***Here, we see No Inbalance Data***"
   ]
  },
  {
   "cell_type": "markdown",
   "id": "6d5d0c97",
   "metadata": {},
   "source": [
    "# 6. Outlier Handle"
   ]
  },
  {
   "cell_type": "code",
   "execution_count": 193,
   "id": "55603b9f",
   "metadata": {},
   "outputs": [
    {
     "data": {
      "text/plain": [
       "<AxesSubplot:>"
      ]
     },
     "execution_count": 193,
     "metadata": {},
     "output_type": "execute_result"
    },
    {
     "data": {
      "image/png": "[encoded data removed]",
      "text/plain": [
       "<Figure size 2000x1200 with 1 Axes>"
      ]
     },
     "metadata": {},
     "output_type": "display_data"
    }
   ],
   "source": [
    "plt.figure(figsize=(20,12))\n",
    "sns.boxplot(data=df)"
   ]
  },
  {
   "cell_type": "markdown",
   "id": "1df1aac5",
   "metadata": {},
   "source": [
    "***Here,we see some outlier present in data***"
   ]
  },
  {
   "cell_type": "code",
   "execution_count": 194,
   "id": "1b699b56",
   "metadata": {},
   "outputs": [],
   "source": [
    "# Outlier in 'No_Transaction' "
   ]
  },
  {
   "cell_type": "code",
   "execution_count": 195,
   "id": "ae81fe25",
   "metadata": {},
   "outputs": [
    {
     "data": {
      "text/plain": [
       "<AxesSubplot:>"
      ]
     },
     "execution_count": 195,
     "metadata": {},
     "output_type": "execute_result"
    },
    {
     "data": {
      "image/png": "[encoded data removed]",
      "text/plain": [
       "<Figure size 640x480 with 1 Axes>"
      ]
     },
     "metadata": {},
     "output_type": "display_data"
    }
   ],
   "source": [
    "df['No_Transactions'].plot(kind='box')"
   ]
  },
  {
   "cell_type": "markdown",
   "id": "1ed2beea",
   "metadata": {},
   "source": [
    "***Here, we see some Outlier in data.***"
   ]
  },
  {
   "cell_type": "code",
   "execution_count": 196,
   "id": "32a977d4",
   "metadata": {},
   "outputs": [],
   "source": [
    "q1,q3=np.percentile(df['No_Transactions'],[25,75])"
   ]
  },
  {
   "cell_type": "code",
   "execution_count": 197,
   "id": "338728d0",
   "metadata": {},
   "outputs": [
    {
     "data": {
      "text/plain": [
       "(3.0, 7.0)"
      ]
     },
     "execution_count": 197,
     "metadata": {},
     "output_type": "execute_result"
    }
   ],
   "source": [
    "q1,q3"
   ]
  },
  {
   "cell_type": "code",
   "execution_count": 198,
   "id": "60071c1a",
   "metadata": {},
   "outputs": [],
   "source": [
    "IQR=q3-q1"
   ]
  },
  {
   "cell_type": "code",
   "execution_count": 199,
   "id": "2e4a929a",
   "metadata": {},
   "outputs": [
    {
     "data": {
      "text/plain": [
       "4.0"
      ]
     },
     "execution_count": 199,
     "metadata": {},
     "output_type": "execute_result"
    }
   ],
   "source": [
    "IQR"
   ]
  },
  {
   "cell_type": "code",
   "execution_count": 200,
   "id": "4e8db09c",
   "metadata": {},
   "outputs": [],
   "source": [
    "# Upper & Lower Bound"
   ]
  },
  {
   "cell_type": "code",
   "execution_count": 201,
   "id": "91a64820",
   "metadata": {},
   "outputs": [],
   "source": [
    "lower_bound = q1 -(1.5 * IQR) \n",
    "upper_bound = q3 +(1.5 * IQR)"
   ]
  },
  {
   "cell_type": "code",
   "execution_count": 202,
   "id": "a2699f6c",
   "metadata": {},
   "outputs": [
    {
     "data": {
      "text/plain": [
       "(-3.0, 13.0)"
      ]
     },
     "execution_count": 202,
     "metadata": {},
     "output_type": "execute_result"
    }
   ],
   "source": [
    "lower_bound,upper_bound"
   ]
  },
  {
   "cell_type": "code",
   "execution_count": 203,
   "id": "6f470bae",
   "metadata": {},
   "outputs": [],
   "source": [
    "# Capping Metohd."
   ]
  },
  {
   "cell_type": "code",
   "execution_count": 204,
   "id": "262eeefd",
   "metadata": {},
   "outputs": [],
   "source": [
    "outlier1=df.copy()\n",
    "outlier1['No_Transactions']=np.where(\n",
    "    outlier1['No_Transactions']>upper_bound, \n",
    "    upper_bound,\n",
    "    np.where(\n",
    "        outlier1['No_Transactions']<lower_bound,\n",
    "        lower_bound,\n",
    "        outlier1['No_Transactions']\n",
    "    )  \n",
    ")"
   ]
  },
  {
   "cell_type": "code",
   "execution_count": 205,
   "id": "cdb9639a",
   "metadata": {},
   "outputs": [
    {
     "data": {
      "text/plain": [
       "<AxesSubplot:>"
      ]
     },
     "execution_count": 205,
     "metadata": {},
     "output_type": "execute_result"
    },
    {
     "data": {
      "image/png": "[encoded data removed]",
      "text/plain": [
       "<Figure size 640x480 with 1 Axes>"
      ]
     },
     "metadata": {},
     "output_type": "display_data"
    }
   ],
   "source": [
    "outlier1['No_Transactions'].plot(kind='box')"
   ]
  },
  {
   "cell_type": "code",
   "execution_count": 206,
   "id": "ad874727",
   "metadata": {},
   "outputs": [],
   "source": [
    "# Outlier in \"No_Payments\""
   ]
  },
  {
   "cell_type": "code",
   "execution_count": 207,
   "id": "8dd08916",
   "metadata": {},
   "outputs": [
    {
     "data": {
      "text/plain": [
       "<AxesSubplot:>"
      ]
     },
     "execution_count": 207,
     "metadata": {},
     "output_type": "execute_result"
    },
    {
     "data": {
      "image/png": "[encoded data removed]",
      "text/plain": [
       "<Figure size 640x480 with 1 Axes>"
      ]
     },
     "metadata": {},
     "output_type": "display_data"
    }
   ],
   "source": [
    "outlier1['No_Payments'].plot(kind='box')"
   ]
  },
  {
   "cell_type": "code",
   "execution_count": 208,
   "id": "f85bd520",
   "metadata": {},
   "outputs": [],
   "source": [
    "# Check Skewness of Data."
   ]
  },
  {
   "cell_type": "code",
   "execution_count": 209,
   "id": "669819b9",
   "metadata": {},
   "outputs": [
    {
     "name": "stderr",
     "output_type": "stream",
     "text": [
      "C:\\Users\\rohit\\anaconda3\\lib\\site-packages\\seaborn\\distributions.py:2619: FutureWarning: `distplot` is a deprecated function and will be removed in a future version. Please adapt your code to use either `displot` (a figure-level function with similar flexibility) or `histplot` (an axes-level function for histograms).\n",
      "  warnings.warn(msg, FutureWarning)\n"
     ]
    },
    {
     "data": {
      "text/plain": [
       "<AxesSubplot:xlabel='No_Payments', ylabel='Density'>"
      ]
     },
     "execution_count": 209,
     "metadata": {},
     "output_type": "execute_result"
    },
    {
     "data": {
      "image/png": "[encoded data removed]",
      "text/plain": [
       "<Figure size 640x480 with 1 Axes>"
      ]
     },
     "metadata": {},
     "output_type": "display_data"
    }
   ],
   "source": [
    "sns.distplot(outlier1['No_Payments'])"
   ]
  },
  {
   "cell_type": "markdown",
   "id": "84adf469",
   "metadata": {},
   "source": [
    "***Here, we see skewness is right.***"
   ]
  },
  {
   "cell_type": "code",
   "execution_count": 210,
   "id": "6b5c2ddd",
   "metadata": {},
   "outputs": [],
   "source": [
    "# IQR Method."
   ]
  },
  {
   "cell_type": "code",
   "execution_count": 211,
   "id": "3a0bc94f",
   "metadata": {},
   "outputs": [],
   "source": [
    "q1,q3=np.percentile(outlier1['No_Payments'],[25,75])"
   ]
  },
  {
   "cell_type": "code",
   "execution_count": 212,
   "id": "476f0280",
   "metadata": {},
   "outputs": [
    {
     "data": {
      "text/plain": [
       "(1.0, 3.0)"
      ]
     },
     "execution_count": 212,
     "metadata": {},
     "output_type": "execute_result"
    }
   ],
   "source": [
    "q1,q3"
   ]
  },
  {
   "cell_type": "code",
   "execution_count": 213,
   "id": "fdfef1f1",
   "metadata": {},
   "outputs": [],
   "source": [
    "# IQR."
   ]
  },
  {
   "cell_type": "code",
   "execution_count": 214,
   "id": "bef81c2a",
   "metadata": {},
   "outputs": [],
   "source": [
    "IQR=q3-q1"
   ]
  },
  {
   "cell_type": "code",
   "execution_count": 215,
   "id": "73b0d3ca",
   "metadata": {},
   "outputs": [
    {
     "data": {
      "text/plain": [
       "2.0"
      ]
     },
     "execution_count": 215,
     "metadata": {},
     "output_type": "execute_result"
    }
   ],
   "source": [
    "IQR"
   ]
  },
  {
   "cell_type": "code",
   "execution_count": 216,
   "id": "a13e5d62",
   "metadata": {},
   "outputs": [],
   "source": [
    "# Upper & Lower Bound"
   ]
  },
  {
   "cell_type": "code",
   "execution_count": 217,
   "id": "85ce2cf6",
   "metadata": {},
   "outputs": [],
   "source": [
    "lower_bound=q1-1.5*IQR\n",
    "upper_bound=q3+1.5*IQR"
   ]
  },
  {
   "cell_type": "code",
   "execution_count": 218,
   "id": "751592f6",
   "metadata": {},
   "outputs": [
    {
     "data": {
      "text/plain": [
       "(-2.0, 6.0)"
      ]
     },
     "execution_count": 218,
     "metadata": {},
     "output_type": "execute_result"
    }
   ],
   "source": [
    "lower_bound,upper_bound"
   ]
  },
  {
   "cell_type": "code",
   "execution_count": 219,
   "id": "95ce4ce7",
   "metadata": {},
   "outputs": [],
   "source": [
    "# Capping Method"
   ]
  },
  {
   "cell_type": "code",
   "execution_count": 220,
   "id": "3a25ecbe",
   "metadata": {},
   "outputs": [],
   "source": [
    "outlier2=outlier1.copy()\n",
    "outlier2['No_Payments']=np.where(\n",
    "    outlier2['No_Payments']>upper_bound, \n",
    "    upper_bound,\n",
    "    np.where(\n",
    "        outlier2['No_Payments']<lower_bound,\n",
    "        lower_bound,\n",
    "        outlier2['No_Payments']\n",
    "    )  \n",
    ")"
   ]
  },
  {
   "cell_type": "code",
   "execution_count": 221,
   "id": "9f6156d5",
   "metadata": {},
   "outputs": [
    {
     "data": {
      "text/plain": [
       "<AxesSubplot:>"
      ]
     },
     "execution_count": 221,
     "metadata": {},
     "output_type": "execute_result"
    },
    {
     "data": {
      "image/png": "[encoded data removed]",
      "text/plain": [
       "<Figure size 640x480 with 1 Axes>"
      ]
     },
     "metadata": {},
     "output_type": "display_data"
    }
   ],
   "source": [
    "outlier2['No_Payments'].plot(kind='box')"
   ]
  },
  {
   "cell_type": "code",
   "execution_count": 222,
   "id": "63ba231d",
   "metadata": {},
   "outputs": [],
   "source": [
    "# Outlier in \"transactionAmount\"."
   ]
  },
  {
   "cell_type": "code",
   "execution_count": 223,
   "id": "dd64b787",
   "metadata": {},
   "outputs": [
    {
     "data": {
      "text/plain": [
       "<AxesSubplot:>"
      ]
     },
     "execution_count": 223,
     "metadata": {},
     "output_type": "execute_result"
    },
    {
     "data": {
      "image/png": "[encoded data removed]",
      "text/plain": [
       "<Figure size 640x480 with 1 Axes>"
      ]
     },
     "metadata": {},
     "output_type": "display_data"
    }
   ],
   "source": [
    "outlier2['transactionAmount'].plot(kind='box')"
   ]
  },
  {
   "cell_type": "code",
   "execution_count": 224,
   "id": "36f08860",
   "metadata": {},
   "outputs": [],
   "source": [
    "# Check Skewness"
   ]
  },
  {
   "cell_type": "code",
   "execution_count": 364,
   "id": "f4b9c4cd",
   "metadata": {},
   "outputs": [
    {
     "data": {
      "text/plain": [
       "<AxesSubplot:xlabel='transactionAmount', ylabel='Density'>"
      ]
     },
     "execution_count": 364,
     "metadata": {},
     "output_type": "execute_result"
    },
    {
     "data": {
      "image/png": "[encoded data removed]",
      "text/plain": [
       "<Figure size 640x480 with 1 Axes>"
      ]
     },
     "metadata": {},
     "output_type": "display_data"
    }
   ],
   "source": [
    "sns.distplot(outlier2['transactionAmount'])"
   ]
  },
  {
   "cell_type": "markdown",
   "id": "879e3c1c",
   "metadata": {},
   "source": [
    "***Here,we see skewness is right***"
   ]
  },
  {
   "cell_type": "code",
   "execution_count": 226,
   "id": "68be3d1a",
   "metadata": {},
   "outputs": [],
   "source": [
    "# IQR Method."
   ]
  },
  {
   "cell_type": "code",
   "execution_count": 227,
   "id": "43c88f6c",
   "metadata": {},
   "outputs": [],
   "source": [
    "q1,q3=np.percentile(outlier2['transactionAmount'],[25,75])"
   ]
  },
  {
   "cell_type": "code",
   "execution_count": 228,
   "id": "5afb219c",
   "metadata": {},
   "outputs": [
    {
     "data": {
      "text/plain": [
       "(22.0, 46.0)"
      ]
     },
     "execution_count": 228,
     "metadata": {},
     "output_type": "execute_result"
    }
   ],
   "source": [
    "q1,q3"
   ]
  },
  {
   "cell_type": "code",
   "execution_count": 229,
   "id": "313a4dfb",
   "metadata": {},
   "outputs": [],
   "source": [
    "IQR=q3-q1"
   ]
  },
  {
   "cell_type": "code",
   "execution_count": 230,
   "id": "cb3981a9",
   "metadata": {},
   "outputs": [
    {
     "data": {
      "text/plain": [
       "24.0"
      ]
     },
     "execution_count": 230,
     "metadata": {},
     "output_type": "execute_result"
    }
   ],
   "source": [
    "IQR"
   ]
  },
  {
   "cell_type": "code",
   "execution_count": 231,
   "id": "c70daa78",
   "metadata": {},
   "outputs": [],
   "source": [
    "# Upper & Lower Bound."
   ]
  },
  {
   "cell_type": "code",
   "execution_count": 232,
   "id": "49a22b2d",
   "metadata": {},
   "outputs": [],
   "source": [
    "lower_bound = q1 -(1.5 * IQR) \n",
    "upper_bound = q3 +(1.5 * IQR)"
   ]
  },
  {
   "cell_type": "code",
   "execution_count": 233,
   "id": "e355c025",
   "metadata": {},
   "outputs": [
    {
     "data": {
      "text/plain": [
       "(-14.0, 82.0)"
      ]
     },
     "execution_count": 233,
     "metadata": {},
     "output_type": "execute_result"
    }
   ],
   "source": [
    "lower_bound,upper_bound"
   ]
  },
  {
   "cell_type": "code",
   "execution_count": 234,
   "id": "ad7891f1",
   "metadata": {},
   "outputs": [],
   "source": [
    "# Capping Method."
   ]
  },
  {
   "cell_type": "code",
   "execution_count": 235,
   "id": "b7ce4980",
   "metadata": {},
   "outputs": [],
   "source": [
    "outlier3=outlier2.copy()\n",
    "outlier3['transactionAmount']=np.where(\n",
    "    outlier3['transactionAmount']>upper_bound, \n",
    "    upper_bound,\n",
    "    np.where(\n",
    "        outlier3['transactionAmount']<lower_bound,\n",
    "        lower_bound,\n",
    "        outlier3['transactionAmount']\n",
    "    )  \n",
    ")"
   ]
  },
  {
   "cell_type": "code",
   "execution_count": 236,
   "id": "f8732cfe",
   "metadata": {},
   "outputs": [
    {
     "data": {
      "text/plain": [
       "<AxesSubplot:>"
      ]
     },
     "execution_count": 236,
     "metadata": {},
     "output_type": "execute_result"
    },
    {
     "data": {
      "image/png": "[encoded data removed]",
      "text/plain": [
       "<Figure size 640x480 with 1 Axes>"
      ]
     },
     "metadata": {},
     "output_type": "display_data"
    }
   ],
   "source": [
    "outlier3['transactionAmount'].plot(kind='box')"
   ]
  },
  {
   "cell_type": "code",
   "execution_count": 237,
   "id": "8fd89e40",
   "metadata": {},
   "outputs": [],
   "source": [
    "# Save Data in New Veriable."
   ]
  },
  {
   "cell_type": "code",
   "execution_count": 238,
   "id": "63cad233",
   "metadata": {},
   "outputs": [],
   "source": [
    "Data=outlier3"
   ]
  },
  {
   "cell_type": "code",
   "execution_count": 239,
   "id": "aa41e833",
   "metadata": {},
   "outputs": [
    {
     "data": {
      "text/html": [
       "<div>\n",
       "<style scoped>\n",
       "    .dataframe tbody tr th:only-of-type {\n",
       "        vertical-align: middle;\n",
       "    }\n",
       "\n",
       "    .dataframe tbody tr th {\n",
       "        vertical-align: top;\n",
       "    }\n",
       "\n",
       "    .dataframe thead th {\n",
       "        text-align: right;\n",
       "    }\n",
       "</style>\n",
       "<table border=\"1\" class=\"dataframe\">\n",
       "  <thead>\n",
       "    <tr style=\"text-align: right;\">\n",
       "      <th></th>\n",
       "      <th>customerEmail</th>\n",
       "      <th>customerPhone</th>\n",
       "      <th>customerDevice</th>\n",
       "      <th>customerIPAddress</th>\n",
       "      <th>customerBillingAddress</th>\n",
       "      <th>No_Transactions</th>\n",
       "      <th>No_Orders</th>\n",
       "      <th>No_Payments</th>\n",
       "      <th>Fraud</th>\n",
       "      <th>transactionId</th>\n",
       "      <th>orderId</th>\n",
       "      <th>paymentMethodId</th>\n",
       "      <th>paymentMethodRegistrationFailure</th>\n",
       "      <th>paymentMethodType</th>\n",
       "      <th>paymentMethodProvider</th>\n",
       "      <th>transactionAmount</th>\n",
       "      <th>transactionFailed</th>\n",
       "      <th>orderState</th>\n",
       "    </tr>\n",
       "  </thead>\n",
       "  <tbody>\n",
       "    <tr>\n",
       "      <th>0</th>\n",
       "      <td>josephhoward@yahoo.com</td>\n",
       "      <td>400-108-5415</td>\n",
       "      <td>yyeiaxpltf82440jnb3v</td>\n",
       "      <td>8.129.104.40</td>\n",
       "      <td>5493 Jones Islands\\nBrownside, CA 51896</td>\n",
       "      <td>2.0</td>\n",
       "      <td>2</td>\n",
       "      <td>1.0</td>\n",
       "      <td>False</td>\n",
       "      <td>a9lcj51r</td>\n",
       "      <td>vjbdvd</td>\n",
       "      <td>wt07xm68b</td>\n",
       "      <td>1</td>\n",
       "      <td>card</td>\n",
       "      <td>JCB 16 digit</td>\n",
       "      <td>18.0</td>\n",
       "      <td>0</td>\n",
       "      <td>pending</td>\n",
       "    </tr>\n",
       "    <tr>\n",
       "      <th>1</th>\n",
       "      <td>josephhoward@yahoo.com</td>\n",
       "      <td>400-108-5415</td>\n",
       "      <td>yyeiaxpltf82440jnb3v</td>\n",
       "      <td>8.129.104.40</td>\n",
       "      <td>5493 Jones Islands\\nBrownside, CA 51896</td>\n",
       "      <td>2.0</td>\n",
       "      <td>2</td>\n",
       "      <td>1.0</td>\n",
       "      <td>False</td>\n",
       "      <td>y4wcv03i</td>\n",
       "      <td>yp6x27</td>\n",
       "      <td>wt07xm68b</td>\n",
       "      <td>1</td>\n",
       "      <td>card</td>\n",
       "      <td>JCB 16 digit</td>\n",
       "      <td>26.0</td>\n",
       "      <td>0</td>\n",
       "      <td>fulfilled</td>\n",
       "    </tr>\n",
       "    <tr>\n",
       "      <th>2</th>\n",
       "      <td>evansjeffery@yahoo.com</td>\n",
       "      <td>1-788-091-7546</td>\n",
       "      <td>r0jpm7xaeqqa3kr6mzum</td>\n",
       "      <td>219.173.211.202</td>\n",
       "      <td>356 Elizabeth Inlet Suite 120\\nPort Joshuabury...</td>\n",
       "      <td>3.0</td>\n",
       "      <td>3</td>\n",
       "      <td>6.0</td>\n",
       "      <td>True</td>\n",
       "      <td>5mi94sfw</td>\n",
       "      <td>nlghpa</td>\n",
       "      <td>41ug157xz</td>\n",
       "      <td>0</td>\n",
       "      <td>bitcoin</td>\n",
       "      <td>American Express</td>\n",
       "      <td>45.0</td>\n",
       "      <td>0</td>\n",
       "      <td>fulfilled</td>\n",
       "    </tr>\n",
       "    <tr>\n",
       "      <th>3</th>\n",
       "      <td>evansjeffery@yahoo.com</td>\n",
       "      <td>1-788-091-7546</td>\n",
       "      <td>r0jpm7xaeqqa3kr6mzum</td>\n",
       "      <td>219.173.211.202</td>\n",
       "      <td>356 Elizabeth Inlet Suite 120\\nPort Joshuabury...</td>\n",
       "      <td>3.0</td>\n",
       "      <td>3</td>\n",
       "      <td>6.0</td>\n",
       "      <td>True</td>\n",
       "      <td>br8ba1nu</td>\n",
       "      <td>uw0eeb</td>\n",
       "      <td>41ug157xz</td>\n",
       "      <td>0</td>\n",
       "      <td>bitcoin</td>\n",
       "      <td>American Express</td>\n",
       "      <td>23.0</td>\n",
       "      <td>0</td>\n",
       "      <td>fulfilled</td>\n",
       "    </tr>\n",
       "    <tr>\n",
       "      <th>4</th>\n",
       "      <td>evansjeffery@yahoo.com</td>\n",
       "      <td>1-788-091-7546</td>\n",
       "      <td>r0jpm7xaeqqa3kr6mzum</td>\n",
       "      <td>219.173.211.202</td>\n",
       "      <td>356 Elizabeth Inlet Suite 120\\nPort Joshuabury...</td>\n",
       "      <td>3.0</td>\n",
       "      <td>3</td>\n",
       "      <td>6.0</td>\n",
       "      <td>True</td>\n",
       "      <td>a33145ss</td>\n",
       "      <td>bn44oh</td>\n",
       "      <td>y3xp697jx</td>\n",
       "      <td>1</td>\n",
       "      <td>bitcoin</td>\n",
       "      <td>VISA 16 digit</td>\n",
       "      <td>43.0</td>\n",
       "      <td>1</td>\n",
       "      <td>fulfilled</td>\n",
       "    </tr>\n",
       "    <tr>\n",
       "      <th>...</th>\n",
       "      <td>...</td>\n",
       "      <td>...</td>\n",
       "      <td>...</td>\n",
       "      <td>...</td>\n",
       "      <td>...</td>\n",
       "      <td>...</td>\n",
       "      <td>...</td>\n",
       "      <td>...</td>\n",
       "      <td>...</td>\n",
       "      <td>...</td>\n",
       "      <td>...</td>\n",
       "      <td>...</td>\n",
       "      <td>...</td>\n",
       "      <td>...</td>\n",
       "      <td>...</td>\n",
       "      <td>...</td>\n",
       "      <td>...</td>\n",
       "      <td>...</td>\n",
       "    </tr>\n",
       "    <tr>\n",
       "      <th>814</th>\n",
       "      <td>dawn05@tucker-brown.com</td>\n",
       "      <td>(089)703-7360x8848</td>\n",
       "      <td>lu4fgcug8dr0dwbcuui1</td>\n",
       "      <td>132.132.95.33</td>\n",
       "      <td>130 Kimberly Junctions\\nEricmouth, KS 59756-2919</td>\n",
       "      <td>7.0</td>\n",
       "      <td>5</td>\n",
       "      <td>4.0</td>\n",
       "      <td>False</td>\n",
       "      <td>7yilsi1o</td>\n",
       "      <td>1bubxa</td>\n",
       "      <td>7yen1m1q8</td>\n",
       "      <td>0</td>\n",
       "      <td>card</td>\n",
       "      <td>VISA 13 digit</td>\n",
       "      <td>25.0</td>\n",
       "      <td>1</td>\n",
       "      <td>fulfilled</td>\n",
       "    </tr>\n",
       "    <tr>\n",
       "      <th>815</th>\n",
       "      <td>dawn05@tucker-brown.com</td>\n",
       "      <td>(089)703-7360x8848</td>\n",
       "      <td>lu4fgcug8dr0dwbcuui1</td>\n",
       "      <td>132.132.95.33</td>\n",
       "      <td>130 Kimberly Junctions\\nEricmouth, KS 59756-2919</td>\n",
       "      <td>7.0</td>\n",
       "      <td>5</td>\n",
       "      <td>4.0</td>\n",
       "      <td>False</td>\n",
       "      <td>c82k5bcv</td>\n",
       "      <td>1bubxa</td>\n",
       "      <td>7yen1m1q8</td>\n",
       "      <td>0</td>\n",
       "      <td>card</td>\n",
       "      <td>VISA 13 digit</td>\n",
       "      <td>25.0</td>\n",
       "      <td>0</td>\n",
       "      <td>fulfilled</td>\n",
       "    </tr>\n",
       "    <tr>\n",
       "      <th>816</th>\n",
       "      <td>dawn05@tucker-brown.com</td>\n",
       "      <td>(089)703-7360x8848</td>\n",
       "      <td>lu4fgcug8dr0dwbcuui1</td>\n",
       "      <td>132.132.95.33</td>\n",
       "      <td>130 Kimberly Junctions\\nEricmouth, KS 59756-2919</td>\n",
       "      <td>7.0</td>\n",
       "      <td>5</td>\n",
       "      <td>4.0</td>\n",
       "      <td>False</td>\n",
       "      <td>wmh52bns</td>\n",
       "      <td>1bubxa</td>\n",
       "      <td>3zmkegkb8</td>\n",
       "      <td>0</td>\n",
       "      <td>paypal</td>\n",
       "      <td>JCB 15 digit</td>\n",
       "      <td>25.0</td>\n",
       "      <td>1</td>\n",
       "      <td>fulfilled</td>\n",
       "    </tr>\n",
       "    <tr>\n",
       "      <th>817</th>\n",
       "      <td>dawn05@tucker-brown.com</td>\n",
       "      <td>(089)703-7360x8848</td>\n",
       "      <td>lu4fgcug8dr0dwbcuui1</td>\n",
       "      <td>132.132.95.33</td>\n",
       "      <td>130 Kimberly Junctions\\nEricmouth, KS 59756-2919</td>\n",
       "      <td>7.0</td>\n",
       "      <td>5</td>\n",
       "      <td>4.0</td>\n",
       "      <td>False</td>\n",
       "      <td>xdw33hfp</td>\n",
       "      <td>p0gdbf</td>\n",
       "      <td>3zmkegkb8</td>\n",
       "      <td>0</td>\n",
       "      <td>paypal</td>\n",
       "      <td>JCB 15 digit</td>\n",
       "      <td>19.0</td>\n",
       "      <td>0</td>\n",
       "      <td>fulfilled</td>\n",
       "    </tr>\n",
       "    <tr>\n",
       "      <th>818</th>\n",
       "      <td>dawn05@tucker-brown.com</td>\n",
       "      <td>(089)703-7360x8848</td>\n",
       "      <td>lu4fgcug8dr0dwbcuui1</td>\n",
       "      <td>132.132.95.33</td>\n",
       "      <td>130 Kimberly Junctions\\nEricmouth, KS 59756-2919</td>\n",
       "      <td>7.0</td>\n",
       "      <td>5</td>\n",
       "      <td>4.0</td>\n",
       "      <td>False</td>\n",
       "      <td>wgmajf82</td>\n",
       "      <td>5lmvrj</td>\n",
       "      <td>f0xnu5om9</td>\n",
       "      <td>0</td>\n",
       "      <td>card</td>\n",
       "      <td>JCB 16 digit</td>\n",
       "      <td>27.0</td>\n",
       "      <td>0</td>\n",
       "      <td>fulfilled</td>\n",
       "    </tr>\n",
       "  </tbody>\n",
       "</table>\n",
       "<p>819 rows × 18 columns</p>\n",
       "</div>"
      ],
      "text/plain": [
       "               customerEmail       customerPhone        customerDevice  \\\n",
       "0     josephhoward@yahoo.com        400-108-5415  yyeiaxpltf82440jnb3v   \n",
       "1     josephhoward@yahoo.com        400-108-5415  yyeiaxpltf82440jnb3v   \n",
       "2     evansjeffery@yahoo.com      1-788-091-7546  r0jpm7xaeqqa3kr6mzum   \n",
       "3     evansjeffery@yahoo.com      1-788-091-7546  r0jpm7xaeqqa3kr6mzum   \n",
       "4     evansjeffery@yahoo.com      1-788-091-7546  r0jpm7xaeqqa3kr6mzum   \n",
       "..                       ...                 ...                   ...   \n",
       "814  dawn05@tucker-brown.com  (089)703-7360x8848  lu4fgcug8dr0dwbcuui1   \n",
       "815  dawn05@tucker-brown.com  (089)703-7360x8848  lu4fgcug8dr0dwbcuui1   \n",
       "816  dawn05@tucker-brown.com  (089)703-7360x8848  lu4fgcug8dr0dwbcuui1   \n",
       "817  dawn05@tucker-brown.com  (089)703-7360x8848  lu4fgcug8dr0dwbcuui1   \n",
       "818  dawn05@tucker-brown.com  (089)703-7360x8848  lu4fgcug8dr0dwbcuui1   \n",
       "\n",
       "    customerIPAddress                             customerBillingAddress  \\\n",
       "0        8.129.104.40            5493 Jones Islands\\nBrownside, CA 51896   \n",
       "1        8.129.104.40            5493 Jones Islands\\nBrownside, CA 51896   \n",
       "2     219.173.211.202  356 Elizabeth Inlet Suite 120\\nPort Joshuabury...   \n",
       "3     219.173.211.202  356 Elizabeth Inlet Suite 120\\nPort Joshuabury...   \n",
       "4     219.173.211.202  356 Elizabeth Inlet Suite 120\\nPort Joshuabury...   \n",
       "..                ...                                                ...   \n",
       "814     132.132.95.33   130 Kimberly Junctions\\nEricmouth, KS 59756-2919   \n",
       "815     132.132.95.33   130 Kimberly Junctions\\nEricmouth, KS 59756-2919   \n",
       "816     132.132.95.33   130 Kimberly Junctions\\nEricmouth, KS 59756-2919   \n",
       "817     132.132.95.33   130 Kimberly Junctions\\nEricmouth, KS 59756-2919   \n",
       "818     132.132.95.33   130 Kimberly Junctions\\nEricmouth, KS 59756-2919   \n",
       "\n",
       "     No_Transactions  No_Orders  No_Payments  Fraud transactionId orderId  \\\n",
       "0                2.0          2          1.0  False      a9lcj51r  vjbdvd   \n",
       "1                2.0          2          1.0  False      y4wcv03i  yp6x27   \n",
       "2                3.0          3          6.0   True      5mi94sfw  nlghpa   \n",
       "3                3.0          3          6.0   True      br8ba1nu  uw0eeb   \n",
       "4                3.0          3          6.0   True      a33145ss  bn44oh   \n",
       "..               ...        ...          ...    ...           ...     ...   \n",
       "814              7.0          5          4.0  False      7yilsi1o  1bubxa   \n",
       "815              7.0          5          4.0  False      c82k5bcv  1bubxa   \n",
       "816              7.0          5          4.0  False      wmh52bns  1bubxa   \n",
       "817              7.0          5          4.0  False      xdw33hfp  p0gdbf   \n",
       "818              7.0          5          4.0  False      wgmajf82  5lmvrj   \n",
       "\n",
       "    paymentMethodId  paymentMethodRegistrationFailure paymentMethodType  \\\n",
       "0         wt07xm68b                                 1              card   \n",
       "1         wt07xm68b                                 1              card   \n",
       "2         41ug157xz                                 0           bitcoin   \n",
       "3         41ug157xz                                 0           bitcoin   \n",
       "4         y3xp697jx                                 1           bitcoin   \n",
       "..              ...                               ...               ...   \n",
       "814       7yen1m1q8                                 0              card   \n",
       "815       7yen1m1q8                                 0              card   \n",
       "816       3zmkegkb8                                 0            paypal   \n",
       "817       3zmkegkb8                                 0            paypal   \n",
       "818       f0xnu5om9                                 0              card   \n",
       "\n",
       "    paymentMethodProvider  transactionAmount  transactionFailed orderState  \n",
       "0            JCB 16 digit               18.0                  0    pending  \n",
       "1            JCB 16 digit               26.0                  0  fulfilled  \n",
       "2        American Express               45.0                  0  fulfilled  \n",
       "3        American Express               23.0                  0  fulfilled  \n",
       "4           VISA 16 digit               43.0                  1  fulfilled  \n",
       "..                    ...                ...                ...        ...  \n",
       "814         VISA 13 digit               25.0                  1  fulfilled  \n",
       "815         VISA 13 digit               25.0                  0  fulfilled  \n",
       "816          JCB 15 digit               25.0                  1  fulfilled  \n",
       "817          JCB 15 digit               19.0                  0  fulfilled  \n",
       "818          JCB 16 digit               27.0                  0  fulfilled  \n",
       "\n",
       "[819 rows x 18 columns]"
      ]
     },
     "execution_count": 239,
     "metadata": {},
     "output_type": "execute_result"
    }
   ],
   "source": [
    "Data"
   ]
  },
  {
   "cell_type": "code",
   "execution_count": 240,
   "id": "9621826f",
   "metadata": {},
   "outputs": [
    {
     "data": {
      "text/html": [
       "<div>\n",
       "<style scoped>\n",
       "    .dataframe tbody tr th:only-of-type {\n",
       "        vertical-align: middle;\n",
       "    }\n",
       "\n",
       "    .dataframe tbody tr th {\n",
       "        vertical-align: top;\n",
       "    }\n",
       "\n",
       "    .dataframe thead th {\n",
       "        text-align: right;\n",
       "    }\n",
       "</style>\n",
       "<table border=\"1\" class=\"dataframe\">\n",
       "  <thead>\n",
       "    <tr style=\"text-align: right;\">\n",
       "      <th></th>\n",
       "      <th>No_Transactions</th>\n",
       "      <th>No_Orders</th>\n",
       "      <th>No_Payments</th>\n",
       "      <th>paymentMethodRegistrationFailure</th>\n",
       "      <th>transactionAmount</th>\n",
       "      <th>transactionFailed</th>\n",
       "    </tr>\n",
       "  </thead>\n",
       "  <tbody>\n",
       "    <tr>\n",
       "      <th>count</th>\n",
       "      <td>819.000000</td>\n",
       "      <td>819.000000</td>\n",
       "      <td>819.000000</td>\n",
       "      <td>819.000000</td>\n",
       "      <td>819.000000</td>\n",
       "      <td>819.000000</td>\n",
       "    </tr>\n",
       "    <tr>\n",
       "      <th>mean</th>\n",
       "      <td>5.158730</td>\n",
       "      <td>3.808303</td>\n",
       "      <td>2.042735</td>\n",
       "      <td>0.100122</td>\n",
       "      <td>34.816850</td>\n",
       "      <td>0.256410</td>\n",
       "    </tr>\n",
       "    <tr>\n",
       "      <th>std</th>\n",
       "      <td>2.811382</td>\n",
       "      <td>1.866872</td>\n",
       "      <td>1.413999</td>\n",
       "      <td>0.300346</td>\n",
       "      <td>16.272606</td>\n",
       "      <td>0.436918</td>\n",
       "    </tr>\n",
       "    <tr>\n",
       "      <th>min</th>\n",
       "      <td>0.000000</td>\n",
       "      <td>0.000000</td>\n",
       "      <td>0.000000</td>\n",
       "      <td>0.000000</td>\n",
       "      <td>10.000000</td>\n",
       "      <td>0.000000</td>\n",
       "    </tr>\n",
       "    <tr>\n",
       "      <th>25%</th>\n",
       "      <td>3.000000</td>\n",
       "      <td>3.000000</td>\n",
       "      <td>1.000000</td>\n",
       "      <td>0.000000</td>\n",
       "      <td>22.000000</td>\n",
       "      <td>0.000000</td>\n",
       "    </tr>\n",
       "    <tr>\n",
       "      <th>50%</th>\n",
       "      <td>5.000000</td>\n",
       "      <td>4.000000</td>\n",
       "      <td>2.000000</td>\n",
       "      <td>0.000000</td>\n",
       "      <td>34.000000</td>\n",
       "      <td>0.000000</td>\n",
       "    </tr>\n",
       "    <tr>\n",
       "      <th>75%</th>\n",
       "      <td>7.000000</td>\n",
       "      <td>5.000000</td>\n",
       "      <td>3.000000</td>\n",
       "      <td>0.000000</td>\n",
       "      <td>46.000000</td>\n",
       "      <td>1.000000</td>\n",
       "    </tr>\n",
       "    <tr>\n",
       "      <th>max</th>\n",
       "      <td>13.000000</td>\n",
       "      <td>8.000000</td>\n",
       "      <td>6.000000</td>\n",
       "      <td>1.000000</td>\n",
       "      <td>82.000000</td>\n",
       "      <td>1.000000</td>\n",
       "    </tr>\n",
       "  </tbody>\n",
       "</table>\n",
       "</div>"
      ],
      "text/plain": [
       "       No_Transactions   No_Orders  No_Payments  \\\n",
       "count       819.000000  819.000000   819.000000   \n",
       "mean          5.158730    3.808303     2.042735   \n",
       "std           2.811382    1.866872     1.413999   \n",
       "min           0.000000    0.000000     0.000000   \n",
       "25%           3.000000    3.000000     1.000000   \n",
       "50%           5.000000    4.000000     2.000000   \n",
       "75%           7.000000    5.000000     3.000000   \n",
       "max          13.000000    8.000000     6.000000   \n",
       "\n",
       "       paymentMethodRegistrationFailure  transactionAmount  transactionFailed  \n",
       "count                        819.000000         819.000000         819.000000  \n",
       "mean                           0.100122          34.816850           0.256410  \n",
       "std                            0.300346          16.272606           0.436918  \n",
       "min                            0.000000          10.000000           0.000000  \n",
       "25%                            0.000000          22.000000           0.000000  \n",
       "50%                            0.000000          34.000000           0.000000  \n",
       "75%                            0.000000          46.000000           1.000000  \n",
       "max                            1.000000          82.000000           1.000000  "
      ]
     },
     "execution_count": 240,
     "metadata": {},
     "output_type": "execute_result"
    }
   ],
   "source": [
    "Data.describe()"
   ]
  },
  {
   "cell_type": "markdown",
   "id": "5ceced28",
   "metadata": {},
   "source": [
    "# 7. Encoding."
   ]
  },
  {
   "cell_type": "code",
   "execution_count": 241,
   "id": "edf1e0a0",
   "metadata": {},
   "outputs": [],
   "source": [
    "from sklearn.preprocessing import LabelEncoder"
   ]
  },
  {
   "cell_type": "code",
   "execution_count": 242,
   "id": "a1ea74c1",
   "metadata": {},
   "outputs": [],
   "source": [
    "le=LabelEncoder()"
   ]
  },
  {
   "cell_type": "code",
   "execution_count": 243,
   "id": "b2e0a297",
   "metadata": {},
   "outputs": [
    {
     "data": {
      "text/plain": [
       "LabelEncoder()"
      ]
     },
     "execution_count": 243,
     "metadata": {},
     "output_type": "execute_result"
    }
   ],
   "source": [
    "le"
   ]
  },
  {
   "cell_type": "code",
   "execution_count": 244,
   "id": "8925ae20",
   "metadata": {},
   "outputs": [],
   "source": [
    "fraud=le.fit_transform(Data['Fraud'])"
   ]
  },
  {
   "cell_type": "code",
   "execution_count": 245,
   "id": "ab321862",
   "metadata": {},
   "outputs": [],
   "source": [
    "# OneHotEncoder"
   ]
  },
  {
   "cell_type": "code",
   "execution_count": 246,
   "id": "e2837798",
   "metadata": {},
   "outputs": [],
   "source": [
    "from sklearn.preprocessing import OneHotEncoder"
   ]
  },
  {
   "cell_type": "code",
   "execution_count": 247,
   "id": "7038e76f",
   "metadata": {},
   "outputs": [],
   "source": [
    "oh=OneHotEncoder()"
   ]
  },
  {
   "cell_type": "code",
   "execution_count": 248,
   "id": "05fbcd4e",
   "metadata": {},
   "outputs": [
    {
     "data": {
      "text/plain": [
       "OneHotEncoder()"
      ]
     },
     "execution_count": 248,
     "metadata": {},
     "output_type": "execute_result"
    }
   ],
   "source": [
    "oh"
   ]
  },
  {
   "cell_type": "code",
   "execution_count": 249,
   "id": "4f095a47",
   "metadata": {},
   "outputs": [],
   "source": [
    "Encode=oh.fit_transform(Data[['paymentMethodType','paymentMethodProvider','orderState']]).toarray()"
   ]
  },
  {
   "cell_type": "code",
   "execution_count": 250,
   "id": "9b2a7181",
   "metadata": {},
   "outputs": [],
   "source": [
    "encoded=pd.DataFrame(Encode,columns=oh.get_feature_names_out())"
   ]
  },
  {
   "cell_type": "code",
   "execution_count": 251,
   "id": "6d957b77",
   "metadata": {},
   "outputs": [
    {
     "data": {
      "text/html": [
       "<div>\n",
       "<style scoped>\n",
       "    .dataframe tbody tr th:only-of-type {\n",
       "        vertical-align: middle;\n",
       "    }\n",
       "\n",
       "    .dataframe tbody tr th {\n",
       "        vertical-align: top;\n",
       "    }\n",
       "\n",
       "    .dataframe thead th {\n",
       "        text-align: right;\n",
       "    }\n",
       "</style>\n",
       "<table border=\"1\" class=\"dataframe\">\n",
       "  <thead>\n",
       "    <tr style=\"text-align: right;\">\n",
       "      <th></th>\n",
       "      <th>paymentMethodType_apple pay</th>\n",
       "      <th>paymentMethodType_bitcoin</th>\n",
       "      <th>paymentMethodType_card</th>\n",
       "      <th>paymentMethodType_paypal</th>\n",
       "      <th>paymentMethodProvider_American Express</th>\n",
       "      <th>paymentMethodProvider_Diners Club / Carte Blanche</th>\n",
       "      <th>paymentMethodProvider_Discover</th>\n",
       "      <th>paymentMethodProvider_JCB 15 digit</th>\n",
       "      <th>paymentMethodProvider_JCB 16 digit</th>\n",
       "      <th>paymentMethodProvider_Maestro</th>\n",
       "      <th>paymentMethodProvider_Mastercard</th>\n",
       "      <th>paymentMethodProvider_VISA 13 digit</th>\n",
       "      <th>paymentMethodProvider_VISA 16 digit</th>\n",
       "      <th>paymentMethodProvider_Voyager</th>\n",
       "      <th>orderState_failed</th>\n",
       "      <th>orderState_fulfilled</th>\n",
       "      <th>orderState_pending</th>\n",
       "    </tr>\n",
       "  </thead>\n",
       "  <tbody>\n",
       "    <tr>\n",
       "      <th>0</th>\n",
       "      <td>0.0</td>\n",
       "      <td>0.0</td>\n",
       "      <td>1.0</td>\n",
       "      <td>0.0</td>\n",
       "      <td>0.0</td>\n",
       "      <td>0.0</td>\n",
       "      <td>0.0</td>\n",
       "      <td>0.0</td>\n",
       "      <td>1.0</td>\n",
       "      <td>0.0</td>\n",
       "      <td>0.0</td>\n",
       "      <td>0.0</td>\n",
       "      <td>0.0</td>\n",
       "      <td>0.0</td>\n",
       "      <td>0.0</td>\n",
       "      <td>0.0</td>\n",
       "      <td>1.0</td>\n",
       "    </tr>\n",
       "    <tr>\n",
       "      <th>1</th>\n",
       "      <td>0.0</td>\n",
       "      <td>0.0</td>\n",
       "      <td>1.0</td>\n",
       "      <td>0.0</td>\n",
       "      <td>0.0</td>\n",
       "      <td>0.0</td>\n",
       "      <td>0.0</td>\n",
       "      <td>0.0</td>\n",
       "      <td>1.0</td>\n",
       "      <td>0.0</td>\n",
       "      <td>0.0</td>\n",
       "      <td>0.0</td>\n",
       "      <td>0.0</td>\n",
       "      <td>0.0</td>\n",
       "      <td>0.0</td>\n",
       "      <td>1.0</td>\n",
       "      <td>0.0</td>\n",
       "    </tr>\n",
       "    <tr>\n",
       "      <th>2</th>\n",
       "      <td>0.0</td>\n",
       "      <td>1.0</td>\n",
       "      <td>0.0</td>\n",
       "      <td>0.0</td>\n",
       "      <td>1.0</td>\n",
       "      <td>0.0</td>\n",
       "      <td>0.0</td>\n",
       "      <td>0.0</td>\n",
       "      <td>0.0</td>\n",
       "      <td>0.0</td>\n",
       "      <td>0.0</td>\n",
       "      <td>0.0</td>\n",
       "      <td>0.0</td>\n",
       "      <td>0.0</td>\n",
       "      <td>0.0</td>\n",
       "      <td>1.0</td>\n",
       "      <td>0.0</td>\n",
       "    </tr>\n",
       "    <tr>\n",
       "      <th>3</th>\n",
       "      <td>0.0</td>\n",
       "      <td>1.0</td>\n",
       "      <td>0.0</td>\n",
       "      <td>0.0</td>\n",
       "      <td>1.0</td>\n",
       "      <td>0.0</td>\n",
       "      <td>0.0</td>\n",
       "      <td>0.0</td>\n",
       "      <td>0.0</td>\n",
       "      <td>0.0</td>\n",
       "      <td>0.0</td>\n",
       "      <td>0.0</td>\n",
       "      <td>0.0</td>\n",
       "      <td>0.0</td>\n",
       "      <td>0.0</td>\n",
       "      <td>1.0</td>\n",
       "      <td>0.0</td>\n",
       "    </tr>\n",
       "    <tr>\n",
       "      <th>4</th>\n",
       "      <td>0.0</td>\n",
       "      <td>1.0</td>\n",
       "      <td>0.0</td>\n",
       "      <td>0.0</td>\n",
       "      <td>0.0</td>\n",
       "      <td>0.0</td>\n",
       "      <td>0.0</td>\n",
       "      <td>0.0</td>\n",
       "      <td>0.0</td>\n",
       "      <td>0.0</td>\n",
       "      <td>0.0</td>\n",
       "      <td>0.0</td>\n",
       "      <td>1.0</td>\n",
       "      <td>0.0</td>\n",
       "      <td>0.0</td>\n",
       "      <td>1.0</td>\n",
       "      <td>0.0</td>\n",
       "    </tr>\n",
       "    <tr>\n",
       "      <th>...</th>\n",
       "      <td>...</td>\n",
       "      <td>...</td>\n",
       "      <td>...</td>\n",
       "      <td>...</td>\n",
       "      <td>...</td>\n",
       "      <td>...</td>\n",
       "      <td>...</td>\n",
       "      <td>...</td>\n",
       "      <td>...</td>\n",
       "      <td>...</td>\n",
       "      <td>...</td>\n",
       "      <td>...</td>\n",
       "      <td>...</td>\n",
       "      <td>...</td>\n",
       "      <td>...</td>\n",
       "      <td>...</td>\n",
       "      <td>...</td>\n",
       "    </tr>\n",
       "    <tr>\n",
       "      <th>814</th>\n",
       "      <td>0.0</td>\n",
       "      <td>0.0</td>\n",
       "      <td>1.0</td>\n",
       "      <td>0.0</td>\n",
       "      <td>0.0</td>\n",
       "      <td>0.0</td>\n",
       "      <td>0.0</td>\n",
       "      <td>0.0</td>\n",
       "      <td>0.0</td>\n",
       "      <td>0.0</td>\n",
       "      <td>0.0</td>\n",
       "      <td>1.0</td>\n",
       "      <td>0.0</td>\n",
       "      <td>0.0</td>\n",
       "      <td>0.0</td>\n",
       "      <td>1.0</td>\n",
       "      <td>0.0</td>\n",
       "    </tr>\n",
       "    <tr>\n",
       "      <th>815</th>\n",
       "      <td>0.0</td>\n",
       "      <td>0.0</td>\n",
       "      <td>1.0</td>\n",
       "      <td>0.0</td>\n",
       "      <td>0.0</td>\n",
       "      <td>0.0</td>\n",
       "      <td>0.0</td>\n",
       "      <td>0.0</td>\n",
       "      <td>0.0</td>\n",
       "      <td>0.0</td>\n",
       "      <td>0.0</td>\n",
       "      <td>1.0</td>\n",
       "      <td>0.0</td>\n",
       "      <td>0.0</td>\n",
       "      <td>0.0</td>\n",
       "      <td>1.0</td>\n",
       "      <td>0.0</td>\n",
       "    </tr>\n",
       "    <tr>\n",
       "      <th>816</th>\n",
       "      <td>0.0</td>\n",
       "      <td>0.0</td>\n",
       "      <td>0.0</td>\n",
       "      <td>1.0</td>\n",
       "      <td>0.0</td>\n",
       "      <td>0.0</td>\n",
       "      <td>0.0</td>\n",
       "      <td>1.0</td>\n",
       "      <td>0.0</td>\n",
       "      <td>0.0</td>\n",
       "      <td>0.0</td>\n",
       "      <td>0.0</td>\n",
       "      <td>0.0</td>\n",
       "      <td>0.0</td>\n",
       "      <td>0.0</td>\n",
       "      <td>1.0</td>\n",
       "      <td>0.0</td>\n",
       "    </tr>\n",
       "    <tr>\n",
       "      <th>817</th>\n",
       "      <td>0.0</td>\n",
       "      <td>0.0</td>\n",
       "      <td>0.0</td>\n",
       "      <td>1.0</td>\n",
       "      <td>0.0</td>\n",
       "      <td>0.0</td>\n",
       "      <td>0.0</td>\n",
       "      <td>1.0</td>\n",
       "      <td>0.0</td>\n",
       "      <td>0.0</td>\n",
       "      <td>0.0</td>\n",
       "      <td>0.0</td>\n",
       "      <td>0.0</td>\n",
       "      <td>0.0</td>\n",
       "      <td>0.0</td>\n",
       "      <td>1.0</td>\n",
       "      <td>0.0</td>\n",
       "    </tr>\n",
       "    <tr>\n",
       "      <th>818</th>\n",
       "      <td>0.0</td>\n",
       "      <td>0.0</td>\n",
       "      <td>1.0</td>\n",
       "      <td>0.0</td>\n",
       "      <td>0.0</td>\n",
       "      <td>0.0</td>\n",
       "      <td>0.0</td>\n",
       "      <td>0.0</td>\n",
       "      <td>1.0</td>\n",
       "      <td>0.0</td>\n",
       "      <td>0.0</td>\n",
       "      <td>0.0</td>\n",
       "      <td>0.0</td>\n",
       "      <td>0.0</td>\n",
       "      <td>0.0</td>\n",
       "      <td>1.0</td>\n",
       "      <td>0.0</td>\n",
       "    </tr>\n",
       "  </tbody>\n",
       "</table>\n",
       "<p>819 rows × 17 columns</p>\n",
       "</div>"
      ],
      "text/plain": [
       "     paymentMethodType_apple pay  paymentMethodType_bitcoin  \\\n",
       "0                            0.0                        0.0   \n",
       "1                            0.0                        0.0   \n",
       "2                            0.0                        1.0   \n",
       "3                            0.0                        1.0   \n",
       "4                            0.0                        1.0   \n",
       "..                           ...                        ...   \n",
       "814                          0.0                        0.0   \n",
       "815                          0.0                        0.0   \n",
       "816                          0.0                        0.0   \n",
       "817                          0.0                        0.0   \n",
       "818                          0.0                        0.0   \n",
       "\n",
       "     paymentMethodType_card  paymentMethodType_paypal  \\\n",
       "0                       1.0                       0.0   \n",
       "1                       1.0                       0.0   \n",
       "2                       0.0                       0.0   \n",
       "3                       0.0                       0.0   \n",
       "4                       0.0                       0.0   \n",
       "..                      ...                       ...   \n",
       "814                     1.0                       0.0   \n",
       "815                     1.0                       0.0   \n",
       "816                     0.0                       1.0   \n",
       "817                     0.0                       1.0   \n",
       "818                     1.0                       0.0   \n",
       "\n",
       "     paymentMethodProvider_American Express  \\\n",
       "0                                       0.0   \n",
       "1                                       0.0   \n",
       "2                                       1.0   \n",
       "3                                       1.0   \n",
       "4                                       0.0   \n",
       "..                                      ...   \n",
       "814                                     0.0   \n",
       "815                                     0.0   \n",
       "816                                     0.0   \n",
       "817                                     0.0   \n",
       "818                                     0.0   \n",
       "\n",
       "     paymentMethodProvider_Diners Club / Carte Blanche  \\\n",
       "0                                                  0.0   \n",
       "1                                                  0.0   \n",
       "2                                                  0.0   \n",
       "3                                                  0.0   \n",
       "4                                                  0.0   \n",
       "..                                                 ...   \n",
       "814                                                0.0   \n",
       "815                                                0.0   \n",
       "816                                                0.0   \n",
       "817                                                0.0   \n",
       "818                                                0.0   \n",
       "\n",
       "     paymentMethodProvider_Discover  paymentMethodProvider_JCB 15 digit  \\\n",
       "0                               0.0                                 0.0   \n",
       "1                               0.0                                 0.0   \n",
       "2                               0.0                                 0.0   \n",
       "3                               0.0                                 0.0   \n",
       "4                               0.0                                 0.0   \n",
       "..                              ...                                 ...   \n",
       "814                             0.0                                 0.0   \n",
       "815                             0.0                                 0.0   \n",
       "816                             0.0                                 1.0   \n",
       "817                             0.0                                 1.0   \n",
       "818                             0.0                                 0.0   \n",
       "\n",
       "     paymentMethodProvider_JCB 16 digit  paymentMethodProvider_Maestro  \\\n",
       "0                                   1.0                            0.0   \n",
       "1                                   1.0                            0.0   \n",
       "2                                   0.0                            0.0   \n",
       "3                                   0.0                            0.0   \n",
       "4                                   0.0                            0.0   \n",
       "..                                  ...                            ...   \n",
       "814                                 0.0                            0.0   \n",
       "815                                 0.0                            0.0   \n",
       "816                                 0.0                            0.0   \n",
       "817                                 0.0                            0.0   \n",
       "818                                 1.0                            0.0   \n",
       "\n",
       "     paymentMethodProvider_Mastercard  paymentMethodProvider_VISA 13 digit  \\\n",
       "0                                 0.0                                  0.0   \n",
       "1                                 0.0                                  0.0   \n",
       "2                                 0.0                                  0.0   \n",
       "3                                 0.0                                  0.0   \n",
       "4                                 0.0                                  0.0   \n",
       "..                                ...                                  ...   \n",
       "814                               0.0                                  1.0   \n",
       "815                               0.0                                  1.0   \n",
       "816                               0.0                                  0.0   \n",
       "817                               0.0                                  0.0   \n",
       "818                               0.0                                  0.0   \n",
       "\n",
       "     paymentMethodProvider_VISA 16 digit  paymentMethodProvider_Voyager  \\\n",
       "0                                    0.0                            0.0   \n",
       "1                                    0.0                            0.0   \n",
       "2                                    0.0                            0.0   \n",
       "3                                    0.0                            0.0   \n",
       "4                                    1.0                            0.0   \n",
       "..                                   ...                            ...   \n",
       "814                                  0.0                            0.0   \n",
       "815                                  0.0                            0.0   \n",
       "816                                  0.0                            0.0   \n",
       "817                                  0.0                            0.0   \n",
       "818                                  0.0                            0.0   \n",
       "\n",
       "     orderState_failed  orderState_fulfilled  orderState_pending  \n",
       "0                  0.0                   0.0                 1.0  \n",
       "1                  0.0                   1.0                 0.0  \n",
       "2                  0.0                   1.0                 0.0  \n",
       "3                  0.0                   1.0                 0.0  \n",
       "4                  0.0                   1.0                 0.0  \n",
       "..                 ...                   ...                 ...  \n",
       "814                0.0                   1.0                 0.0  \n",
       "815                0.0                   1.0                 0.0  \n",
       "816                0.0                   1.0                 0.0  \n",
       "817                0.0                   1.0                 0.0  \n",
       "818                0.0                   1.0                 0.0  \n",
       "\n",
       "[819 rows x 17 columns]"
      ]
     },
     "execution_count": 251,
     "metadata": {},
     "output_type": "execute_result"
    }
   ],
   "source": [
    "encoded"
   ]
  },
  {
   "cell_type": "code",
   "execution_count": 252,
   "id": "356082bd",
   "metadata": {},
   "outputs": [],
   "source": [
    "# Concat Data"
   ]
  },
  {
   "cell_type": "code",
   "execution_count": 256,
   "id": "401ed4e2",
   "metadata": {},
   "outputs": [],
   "source": [
    "Model=pd.concat([Data,encoded],axis=1)"
   ]
  },
  {
   "cell_type": "code",
   "execution_count": 257,
   "id": "0c7688c3",
   "metadata": {},
   "outputs": [],
   "source": [
    "Model['fraud']=fraud"
   ]
  },
  {
   "cell_type": "code",
   "execution_count": 258,
   "id": "c2c2e6a1",
   "metadata": {},
   "outputs": [
    {
     "data": {
      "text/html": [
       "<div>\n",
       "<style scoped>\n",
       "    .dataframe tbody tr th:only-of-type {\n",
       "        vertical-align: middle;\n",
       "    }\n",
       "\n",
       "    .dataframe tbody tr th {\n",
       "        vertical-align: top;\n",
       "    }\n",
       "\n",
       "    .dataframe thead th {\n",
       "        text-align: right;\n",
       "    }\n",
       "</style>\n",
       "<table border=\"1\" class=\"dataframe\">\n",
       "  <thead>\n",
       "    <tr style=\"text-align: right;\">\n",
       "      <th></th>\n",
       "      <th>customerEmail</th>\n",
       "      <th>customerPhone</th>\n",
       "      <th>customerDevice</th>\n",
       "      <th>customerIPAddress</th>\n",
       "      <th>customerBillingAddress</th>\n",
       "      <th>No_Transactions</th>\n",
       "      <th>No_Orders</th>\n",
       "      <th>No_Payments</th>\n",
       "      <th>Fraud</th>\n",
       "      <th>transactionId</th>\n",
       "      <th>...</th>\n",
       "      <th>paymentMethodProvider_JCB 16 digit</th>\n",
       "      <th>paymentMethodProvider_Maestro</th>\n",
       "      <th>paymentMethodProvider_Mastercard</th>\n",
       "      <th>paymentMethodProvider_VISA 13 digit</th>\n",
       "      <th>paymentMethodProvider_VISA 16 digit</th>\n",
       "      <th>paymentMethodProvider_Voyager</th>\n",
       "      <th>orderState_failed</th>\n",
       "      <th>orderState_fulfilled</th>\n",
       "      <th>orderState_pending</th>\n",
       "      <th>fraud</th>\n",
       "    </tr>\n",
       "  </thead>\n",
       "  <tbody>\n",
       "    <tr>\n",
       "      <th>0</th>\n",
       "      <td>josephhoward@yahoo.com</td>\n",
       "      <td>400-108-5415</td>\n",
       "      <td>yyeiaxpltf82440jnb3v</td>\n",
       "      <td>8.129.104.40</td>\n",
       "      <td>5493 Jones Islands\\nBrownside, CA 51896</td>\n",
       "      <td>2.0</td>\n",
       "      <td>2</td>\n",
       "      <td>1.0</td>\n",
       "      <td>False</td>\n",
       "      <td>a9lcj51r</td>\n",
       "      <td>...</td>\n",
       "      <td>1.0</td>\n",
       "      <td>0.0</td>\n",
       "      <td>0.0</td>\n",
       "      <td>0.0</td>\n",
       "      <td>0.0</td>\n",
       "      <td>0.0</td>\n",
       "      <td>0.0</td>\n",
       "      <td>0.0</td>\n",
       "      <td>1.0</td>\n",
       "      <td>0</td>\n",
       "    </tr>\n",
       "    <tr>\n",
       "      <th>1</th>\n",
       "      <td>josephhoward@yahoo.com</td>\n",
       "      <td>400-108-5415</td>\n",
       "      <td>yyeiaxpltf82440jnb3v</td>\n",
       "      <td>8.129.104.40</td>\n",
       "      <td>5493 Jones Islands\\nBrownside, CA 51896</td>\n",
       "      <td>2.0</td>\n",
       "      <td>2</td>\n",
       "      <td>1.0</td>\n",
       "      <td>False</td>\n",
       "      <td>y4wcv03i</td>\n",
       "      <td>...</td>\n",
       "      <td>1.0</td>\n",
       "      <td>0.0</td>\n",
       "      <td>0.0</td>\n",
       "      <td>0.0</td>\n",
       "      <td>0.0</td>\n",
       "      <td>0.0</td>\n",
       "      <td>0.0</td>\n",
       "      <td>1.0</td>\n",
       "      <td>0.0</td>\n",
       "      <td>0</td>\n",
       "    </tr>\n",
       "    <tr>\n",
       "      <th>2</th>\n",
       "      <td>evansjeffery@yahoo.com</td>\n",
       "      <td>1-788-091-7546</td>\n",
       "      <td>r0jpm7xaeqqa3kr6mzum</td>\n",
       "      <td>219.173.211.202</td>\n",
       "      <td>356 Elizabeth Inlet Suite 120\\nPort Joshuabury...</td>\n",
       "      <td>3.0</td>\n",
       "      <td>3</td>\n",
       "      <td>6.0</td>\n",
       "      <td>True</td>\n",
       "      <td>5mi94sfw</td>\n",
       "      <td>...</td>\n",
       "      <td>0.0</td>\n",
       "      <td>0.0</td>\n",
       "      <td>0.0</td>\n",
       "      <td>0.0</td>\n",
       "      <td>0.0</td>\n",
       "      <td>0.0</td>\n",
       "      <td>0.0</td>\n",
       "      <td>1.0</td>\n",
       "      <td>0.0</td>\n",
       "      <td>1</td>\n",
       "    </tr>\n",
       "    <tr>\n",
       "      <th>3</th>\n",
       "      <td>evansjeffery@yahoo.com</td>\n",
       "      <td>1-788-091-7546</td>\n",
       "      <td>r0jpm7xaeqqa3kr6mzum</td>\n",
       "      <td>219.173.211.202</td>\n",
       "      <td>356 Elizabeth Inlet Suite 120\\nPort Joshuabury...</td>\n",
       "      <td>3.0</td>\n",
       "      <td>3</td>\n",
       "      <td>6.0</td>\n",
       "      <td>True</td>\n",
       "      <td>br8ba1nu</td>\n",
       "      <td>...</td>\n",
       "      <td>0.0</td>\n",
       "      <td>0.0</td>\n",
       "      <td>0.0</td>\n",
       "      <td>0.0</td>\n",
       "      <td>0.0</td>\n",
       "      <td>0.0</td>\n",
       "      <td>0.0</td>\n",
       "      <td>1.0</td>\n",
       "      <td>0.0</td>\n",
       "      <td>1</td>\n",
       "    </tr>\n",
       "    <tr>\n",
       "      <th>4</th>\n",
       "      <td>evansjeffery@yahoo.com</td>\n",
       "      <td>1-788-091-7546</td>\n",
       "      <td>r0jpm7xaeqqa3kr6mzum</td>\n",
       "      <td>219.173.211.202</td>\n",
       "      <td>356 Elizabeth Inlet Suite 120\\nPort Joshuabury...</td>\n",
       "      <td>3.0</td>\n",
       "      <td>3</td>\n",
       "      <td>6.0</td>\n",
       "      <td>True</td>\n",
       "      <td>a33145ss</td>\n",
       "      <td>...</td>\n",
       "      <td>0.0</td>\n",
       "      <td>0.0</td>\n",
       "      <td>0.0</td>\n",
       "      <td>0.0</td>\n",
       "      <td>1.0</td>\n",
       "      <td>0.0</td>\n",
       "      <td>0.0</td>\n",
       "      <td>1.0</td>\n",
       "      <td>0.0</td>\n",
       "      <td>1</td>\n",
       "    </tr>\n",
       "    <tr>\n",
       "      <th>...</th>\n",
       "      <td>...</td>\n",
       "      <td>...</td>\n",
       "      <td>...</td>\n",
       "      <td>...</td>\n",
       "      <td>...</td>\n",
       "      <td>...</td>\n",
       "      <td>...</td>\n",
       "      <td>...</td>\n",
       "      <td>...</td>\n",
       "      <td>...</td>\n",
       "      <td>...</td>\n",
       "      <td>...</td>\n",
       "      <td>...</td>\n",
       "      <td>...</td>\n",
       "      <td>...</td>\n",
       "      <td>...</td>\n",
       "      <td>...</td>\n",
       "      <td>...</td>\n",
       "      <td>...</td>\n",
       "      <td>...</td>\n",
       "      <td>...</td>\n",
       "    </tr>\n",
       "    <tr>\n",
       "      <th>814</th>\n",
       "      <td>dawn05@tucker-brown.com</td>\n",
       "      <td>(089)703-7360x8848</td>\n",
       "      <td>lu4fgcug8dr0dwbcuui1</td>\n",
       "      <td>132.132.95.33</td>\n",
       "      <td>130 Kimberly Junctions\\nEricmouth, KS 59756-2919</td>\n",
       "      <td>7.0</td>\n",
       "      <td>5</td>\n",
       "      <td>4.0</td>\n",
       "      <td>False</td>\n",
       "      <td>7yilsi1o</td>\n",
       "      <td>...</td>\n",
       "      <td>0.0</td>\n",
       "      <td>0.0</td>\n",
       "      <td>0.0</td>\n",
       "      <td>1.0</td>\n",
       "      <td>0.0</td>\n",
       "      <td>0.0</td>\n",
       "      <td>0.0</td>\n",
       "      <td>1.0</td>\n",
       "      <td>0.0</td>\n",
       "      <td>0</td>\n",
       "    </tr>\n",
       "    <tr>\n",
       "      <th>815</th>\n",
       "      <td>dawn05@tucker-brown.com</td>\n",
       "      <td>(089)703-7360x8848</td>\n",
       "      <td>lu4fgcug8dr0dwbcuui1</td>\n",
       "      <td>132.132.95.33</td>\n",
       "      <td>130 Kimberly Junctions\\nEricmouth, KS 59756-2919</td>\n",
       "      <td>7.0</td>\n",
       "      <td>5</td>\n",
       "      <td>4.0</td>\n",
       "      <td>False</td>\n",
       "      <td>c82k5bcv</td>\n",
       "      <td>...</td>\n",
       "      <td>0.0</td>\n",
       "      <td>0.0</td>\n",
       "      <td>0.0</td>\n",
       "      <td>1.0</td>\n",
       "      <td>0.0</td>\n",
       "      <td>0.0</td>\n",
       "      <td>0.0</td>\n",
       "      <td>1.0</td>\n",
       "      <td>0.0</td>\n",
       "      <td>0</td>\n",
       "    </tr>\n",
       "    <tr>\n",
       "      <th>816</th>\n",
       "      <td>dawn05@tucker-brown.com</td>\n",
       "      <td>(089)703-7360x8848</td>\n",
       "      <td>lu4fgcug8dr0dwbcuui1</td>\n",
       "      <td>132.132.95.33</td>\n",
       "      <td>130 Kimberly Junctions\\nEricmouth, KS 59756-2919</td>\n",
       "      <td>7.0</td>\n",
       "      <td>5</td>\n",
       "      <td>4.0</td>\n",
       "      <td>False</td>\n",
       "      <td>wmh52bns</td>\n",
       "      <td>...</td>\n",
       "      <td>0.0</td>\n",
       "      <td>0.0</td>\n",
       "      <td>0.0</td>\n",
       "      <td>0.0</td>\n",
       "      <td>0.0</td>\n",
       "      <td>0.0</td>\n",
       "      <td>0.0</td>\n",
       "      <td>1.0</td>\n",
       "      <td>0.0</td>\n",
       "      <td>0</td>\n",
       "    </tr>\n",
       "    <tr>\n",
       "      <th>817</th>\n",
       "      <td>dawn05@tucker-brown.com</td>\n",
       "      <td>(089)703-7360x8848</td>\n",
       "      <td>lu4fgcug8dr0dwbcuui1</td>\n",
       "      <td>132.132.95.33</td>\n",
       "      <td>130 Kimberly Junctions\\nEricmouth, KS 59756-2919</td>\n",
       "      <td>7.0</td>\n",
       "      <td>5</td>\n",
       "      <td>4.0</td>\n",
       "      <td>False</td>\n",
       "      <td>xdw33hfp</td>\n",
       "      <td>...</td>\n",
       "      <td>0.0</td>\n",
       "      <td>0.0</td>\n",
       "      <td>0.0</td>\n",
       "      <td>0.0</td>\n",
       "      <td>0.0</td>\n",
       "      <td>0.0</td>\n",
       "      <td>0.0</td>\n",
       "      <td>1.0</td>\n",
       "      <td>0.0</td>\n",
       "      <td>0</td>\n",
       "    </tr>\n",
       "    <tr>\n",
       "      <th>818</th>\n",
       "      <td>dawn05@tucker-brown.com</td>\n",
       "      <td>(089)703-7360x8848</td>\n",
       "      <td>lu4fgcug8dr0dwbcuui1</td>\n",
       "      <td>132.132.95.33</td>\n",
       "      <td>130 Kimberly Junctions\\nEricmouth, KS 59756-2919</td>\n",
       "      <td>7.0</td>\n",
       "      <td>5</td>\n",
       "      <td>4.0</td>\n",
       "      <td>False</td>\n",
       "      <td>wgmajf82</td>\n",
       "      <td>...</td>\n",
       "      <td>1.0</td>\n",
       "      <td>0.0</td>\n",
       "      <td>0.0</td>\n",
       "      <td>0.0</td>\n",
       "      <td>0.0</td>\n",
       "      <td>0.0</td>\n",
       "      <td>0.0</td>\n",
       "      <td>1.0</td>\n",
       "      <td>0.0</td>\n",
       "      <td>0</td>\n",
       "    </tr>\n",
       "  </tbody>\n",
       "</table>\n",
       "<p>819 rows × 36 columns</p>\n",
       "</div>"
      ],
      "text/plain": [
       "               customerEmail       customerPhone        customerDevice  \\\n",
       "0     josephhoward@yahoo.com        400-108-5415  yyeiaxpltf82440jnb3v   \n",
       "1     josephhoward@yahoo.com        400-108-5415  yyeiaxpltf82440jnb3v   \n",
       "2     evansjeffery@yahoo.com      1-788-091-7546  r0jpm7xaeqqa3kr6mzum   \n",
       "3     evansjeffery@yahoo.com      1-788-091-7546  r0jpm7xaeqqa3kr6mzum   \n",
       "4     evansjeffery@yahoo.com      1-788-091-7546  r0jpm7xaeqqa3kr6mzum   \n",
       "..                       ...                 ...                   ...   \n",
       "814  dawn05@tucker-brown.com  (089)703-7360x8848  lu4fgcug8dr0dwbcuui1   \n",
       "815  dawn05@tucker-brown.com  (089)703-7360x8848  lu4fgcug8dr0dwbcuui1   \n",
       "816  dawn05@tucker-brown.com  (089)703-7360x8848  lu4fgcug8dr0dwbcuui1   \n",
       "817  dawn05@tucker-brown.com  (089)703-7360x8848  lu4fgcug8dr0dwbcuui1   \n",
       "818  dawn05@tucker-brown.com  (089)703-7360x8848  lu4fgcug8dr0dwbcuui1   \n",
       "\n",
       "    customerIPAddress                             customerBillingAddress  \\\n",
       "0        8.129.104.40            5493 Jones Islands\\nBrownside, CA 51896   \n",
       "1        8.129.104.40            5493 Jones Islands\\nBrownside, CA 51896   \n",
       "2     219.173.211.202  356 Elizabeth Inlet Suite 120\\nPort Joshuabury...   \n",
       "3     219.173.211.202  356 Elizabeth Inlet Suite 120\\nPort Joshuabury...   \n",
       "4     219.173.211.202  356 Elizabeth Inlet Suite 120\\nPort Joshuabury...   \n",
       "..                ...                                                ...   \n",
       "814     132.132.95.33   130 Kimberly Junctions\\nEricmouth, KS 59756-2919   \n",
       "815     132.132.95.33   130 Kimberly Junctions\\nEricmouth, KS 59756-2919   \n",
       "816     132.132.95.33   130 Kimberly Junctions\\nEricmouth, KS 59756-2919   \n",
       "817     132.132.95.33   130 Kimberly Junctions\\nEricmouth, KS 59756-2919   \n",
       "818     132.132.95.33   130 Kimberly Junctions\\nEricmouth, KS 59756-2919   \n",
       "\n",
       "     No_Transactions  No_Orders  No_Payments  Fraud transactionId  ...  \\\n",
       "0                2.0          2          1.0  False      a9lcj51r  ...   \n",
       "1                2.0          2          1.0  False      y4wcv03i  ...   \n",
       "2                3.0          3          6.0   True      5mi94sfw  ...   \n",
       "3                3.0          3          6.0   True      br8ba1nu  ...   \n",
       "4                3.0          3          6.0   True      a33145ss  ...   \n",
       "..               ...        ...          ...    ...           ...  ...   \n",
       "814              7.0          5          4.0  False      7yilsi1o  ...   \n",
       "815              7.0          5          4.0  False      c82k5bcv  ...   \n",
       "816              7.0          5          4.0  False      wmh52bns  ...   \n",
       "817              7.0          5          4.0  False      xdw33hfp  ...   \n",
       "818              7.0          5          4.0  False      wgmajf82  ...   \n",
       "\n",
       "    paymentMethodProvider_JCB 16 digit paymentMethodProvider_Maestro  \\\n",
       "0                                  1.0                           0.0   \n",
       "1                                  1.0                           0.0   \n",
       "2                                  0.0                           0.0   \n",
       "3                                  0.0                           0.0   \n",
       "4                                  0.0                           0.0   \n",
       "..                                 ...                           ...   \n",
       "814                                0.0                           0.0   \n",
       "815                                0.0                           0.0   \n",
       "816                                0.0                           0.0   \n",
       "817                                0.0                           0.0   \n",
       "818                                1.0                           0.0   \n",
       "\n",
       "     paymentMethodProvider_Mastercard paymentMethodProvider_VISA 13 digit  \\\n",
       "0                                 0.0                                 0.0   \n",
       "1                                 0.0                                 0.0   \n",
       "2                                 0.0                                 0.0   \n",
       "3                                 0.0                                 0.0   \n",
       "4                                 0.0                                 0.0   \n",
       "..                                ...                                 ...   \n",
       "814                               0.0                                 1.0   \n",
       "815                               0.0                                 1.0   \n",
       "816                               0.0                                 0.0   \n",
       "817                               0.0                                 0.0   \n",
       "818                               0.0                                 0.0   \n",
       "\n",
       "    paymentMethodProvider_VISA 16 digit  paymentMethodProvider_Voyager  \\\n",
       "0                                   0.0                            0.0   \n",
       "1                                   0.0                            0.0   \n",
       "2                                   0.0                            0.0   \n",
       "3                                   0.0                            0.0   \n",
       "4                                   1.0                            0.0   \n",
       "..                                  ...                            ...   \n",
       "814                                 0.0                            0.0   \n",
       "815                                 0.0                            0.0   \n",
       "816                                 0.0                            0.0   \n",
       "817                                 0.0                            0.0   \n",
       "818                                 0.0                            0.0   \n",
       "\n",
       "     orderState_failed orderState_fulfilled  orderState_pending  fraud  \n",
       "0                  0.0                  0.0                 1.0      0  \n",
       "1                  0.0                  1.0                 0.0      0  \n",
       "2                  0.0                  1.0                 0.0      1  \n",
       "3                  0.0                  1.0                 0.0      1  \n",
       "4                  0.0                  1.0                 0.0      1  \n",
       "..                 ...                  ...                 ...    ...  \n",
       "814                0.0                  1.0                 0.0      0  \n",
       "815                0.0                  1.0                 0.0      0  \n",
       "816                0.0                  1.0                 0.0      0  \n",
       "817                0.0                  1.0                 0.0      0  \n",
       "818                0.0                  1.0                 0.0      0  \n",
       "\n",
       "[819 rows x 36 columns]"
      ]
     },
     "execution_count": 258,
     "metadata": {},
     "output_type": "execute_result"
    }
   ],
   "source": [
    "Model"
   ]
  },
  {
   "cell_type": "markdown",
   "id": "b4af16ae",
   "metadata": {},
   "source": [
    "# 8. Split Data."
   ]
  },
  {
   "cell_type": "code",
   "execution_count": 259,
   "id": "d7bb8e85",
   "metadata": {},
   "outputs": [],
   "source": [
    "X=Model[['No_Transactions','No_Orders','No_Payments','paymentMethodRegistrationFailure','transactionAmount','transactionFailed','paymentMethodType_apple pay',\n",
    "       'paymentMethodType_bitcoin', 'paymentMethodType_card',\n",
    "       'paymentMethodType_paypal', 'paymentMethodProvider_American Express',\n",
    "       'paymentMethodProvider_Diners Club / Carte Blanche',\n",
    "       'paymentMethodProvider_Discover', 'paymentMethodProvider_JCB 15 digit',\n",
    "       'paymentMethodProvider_JCB 16 digit', 'paymentMethodProvider_Maestro',\n",
    "       'paymentMethodProvider_Mastercard',\n",
    "       'paymentMethodProvider_VISA 13 digit',\n",
    "       'paymentMethodProvider_VISA 16 digit', 'paymentMethodProvider_Voyager',\n",
    "       'orderState_failed', 'orderState_fulfilled', 'orderState_pending']]"
   ]
  },
  {
   "cell_type": "code",
   "execution_count": 260,
   "id": "7a48c161",
   "metadata": {},
   "outputs": [
    {
     "data": {
      "text/html": [
       "<div>\n",
       "<style scoped>\n",
       "    .dataframe tbody tr th:only-of-type {\n",
       "        vertical-align: middle;\n",
       "    }\n",
       "\n",
       "    .dataframe tbody tr th {\n",
       "        vertical-align: top;\n",
       "    }\n",
       "\n",
       "    .dataframe thead th {\n",
       "        text-align: right;\n",
       "    }\n",
       "</style>\n",
       "<table border=\"1\" class=\"dataframe\">\n",
       "  <thead>\n",
       "    <tr style=\"text-align: right;\">\n",
       "      <th></th>\n",
       "      <th>No_Transactions</th>\n",
       "      <th>No_Orders</th>\n",
       "      <th>No_Payments</th>\n",
       "      <th>paymentMethodRegistrationFailure</th>\n",
       "      <th>transactionAmount</th>\n",
       "      <th>transactionFailed</th>\n",
       "      <th>paymentMethodType_apple pay</th>\n",
       "      <th>paymentMethodType_bitcoin</th>\n",
       "      <th>paymentMethodType_card</th>\n",
       "      <th>paymentMethodType_paypal</th>\n",
       "      <th>...</th>\n",
       "      <th>paymentMethodProvider_JCB 15 digit</th>\n",
       "      <th>paymentMethodProvider_JCB 16 digit</th>\n",
       "      <th>paymentMethodProvider_Maestro</th>\n",
       "      <th>paymentMethodProvider_Mastercard</th>\n",
       "      <th>paymentMethodProvider_VISA 13 digit</th>\n",
       "      <th>paymentMethodProvider_VISA 16 digit</th>\n",
       "      <th>paymentMethodProvider_Voyager</th>\n",
       "      <th>orderState_failed</th>\n",
       "      <th>orderState_fulfilled</th>\n",
       "      <th>orderState_pending</th>\n",
       "    </tr>\n",
       "  </thead>\n",
       "  <tbody>\n",
       "    <tr>\n",
       "      <th>0</th>\n",
       "      <td>2.0</td>\n",
       "      <td>2</td>\n",
       "      <td>1.0</td>\n",
       "      <td>1</td>\n",
       "      <td>18.0</td>\n",
       "      <td>0</td>\n",
       "      <td>0.0</td>\n",
       "      <td>0.0</td>\n",
       "      <td>1.0</td>\n",
       "      <td>0.0</td>\n",
       "      <td>...</td>\n",
       "      <td>0.0</td>\n",
       "      <td>1.0</td>\n",
       "      <td>0.0</td>\n",
       "      <td>0.0</td>\n",
       "      <td>0.0</td>\n",
       "      <td>0.0</td>\n",
       "      <td>0.0</td>\n",
       "      <td>0.0</td>\n",
       "      <td>0.0</td>\n",
       "      <td>1.0</td>\n",
       "    </tr>\n",
       "    <tr>\n",
       "      <th>1</th>\n",
       "      <td>2.0</td>\n",
       "      <td>2</td>\n",
       "      <td>1.0</td>\n",
       "      <td>1</td>\n",
       "      <td>26.0</td>\n",
       "      <td>0</td>\n",
       "      <td>0.0</td>\n",
       "      <td>0.0</td>\n",
       "      <td>1.0</td>\n",
       "      <td>0.0</td>\n",
       "      <td>...</td>\n",
       "      <td>0.0</td>\n",
       "      <td>1.0</td>\n",
       "      <td>0.0</td>\n",
       "      <td>0.0</td>\n",
       "      <td>0.0</td>\n",
       "      <td>0.0</td>\n",
       "      <td>0.0</td>\n",
       "      <td>0.0</td>\n",
       "      <td>1.0</td>\n",
       "      <td>0.0</td>\n",
       "    </tr>\n",
       "    <tr>\n",
       "      <th>2</th>\n",
       "      <td>3.0</td>\n",
       "      <td>3</td>\n",
       "      <td>6.0</td>\n",
       "      <td>0</td>\n",
       "      <td>45.0</td>\n",
       "      <td>0</td>\n",
       "      <td>0.0</td>\n",
       "      <td>1.0</td>\n",
       "      <td>0.0</td>\n",
       "      <td>0.0</td>\n",
       "      <td>...</td>\n",
       "      <td>0.0</td>\n",
       "      <td>0.0</td>\n",
       "      <td>0.0</td>\n",
       "      <td>0.0</td>\n",
       "      <td>0.0</td>\n",
       "      <td>0.0</td>\n",
       "      <td>0.0</td>\n",
       "      <td>0.0</td>\n",
       "      <td>1.0</td>\n",
       "      <td>0.0</td>\n",
       "    </tr>\n",
       "    <tr>\n",
       "      <th>3</th>\n",
       "      <td>3.0</td>\n",
       "      <td>3</td>\n",
       "      <td>6.0</td>\n",
       "      <td>0</td>\n",
       "      <td>23.0</td>\n",
       "      <td>0</td>\n",
       "      <td>0.0</td>\n",
       "      <td>1.0</td>\n",
       "      <td>0.0</td>\n",
       "      <td>0.0</td>\n",
       "      <td>...</td>\n",
       "      <td>0.0</td>\n",
       "      <td>0.0</td>\n",
       "      <td>0.0</td>\n",
       "      <td>0.0</td>\n",
       "      <td>0.0</td>\n",
       "      <td>0.0</td>\n",
       "      <td>0.0</td>\n",
       "      <td>0.0</td>\n",
       "      <td>1.0</td>\n",
       "      <td>0.0</td>\n",
       "    </tr>\n",
       "    <tr>\n",
       "      <th>4</th>\n",
       "      <td>3.0</td>\n",
       "      <td>3</td>\n",
       "      <td>6.0</td>\n",
       "      <td>1</td>\n",
       "      <td>43.0</td>\n",
       "      <td>1</td>\n",
       "      <td>0.0</td>\n",
       "      <td>1.0</td>\n",
       "      <td>0.0</td>\n",
       "      <td>0.0</td>\n",
       "      <td>...</td>\n",
       "      <td>0.0</td>\n",
       "      <td>0.0</td>\n",
       "      <td>0.0</td>\n",
       "      <td>0.0</td>\n",
       "      <td>0.0</td>\n",
       "      <td>1.0</td>\n",
       "      <td>0.0</td>\n",
       "      <td>0.0</td>\n",
       "      <td>1.0</td>\n",
       "      <td>0.0</td>\n",
       "    </tr>\n",
       "    <tr>\n",
       "      <th>...</th>\n",
       "      <td>...</td>\n",
       "      <td>...</td>\n",
       "      <td>...</td>\n",
       "      <td>...</td>\n",
       "      <td>...</td>\n",
       "      <td>...</td>\n",
       "      <td>...</td>\n",
       "      <td>...</td>\n",
       "      <td>...</td>\n",
       "      <td>...</td>\n",
       "      <td>...</td>\n",
       "      <td>...</td>\n",
       "      <td>...</td>\n",
       "      <td>...</td>\n",
       "      <td>...</td>\n",
       "      <td>...</td>\n",
       "      <td>...</td>\n",
       "      <td>...</td>\n",
       "      <td>...</td>\n",
       "      <td>...</td>\n",
       "      <td>...</td>\n",
       "    </tr>\n",
       "    <tr>\n",
       "      <th>814</th>\n",
       "      <td>7.0</td>\n",
       "      <td>5</td>\n",
       "      <td>4.0</td>\n",
       "      <td>0</td>\n",
       "      <td>25.0</td>\n",
       "      <td>1</td>\n",
       "      <td>0.0</td>\n",
       "      <td>0.0</td>\n",
       "      <td>1.0</td>\n",
       "      <td>0.0</td>\n",
       "      <td>...</td>\n",
       "      <td>0.0</td>\n",
       "      <td>0.0</td>\n",
       "      <td>0.0</td>\n",
       "      <td>0.0</td>\n",
       "      <td>1.0</td>\n",
       "      <td>0.0</td>\n",
       "      <td>0.0</td>\n",
       "      <td>0.0</td>\n",
       "      <td>1.0</td>\n",
       "      <td>0.0</td>\n",
       "    </tr>\n",
       "    <tr>\n",
       "      <th>815</th>\n",
       "      <td>7.0</td>\n",
       "      <td>5</td>\n",
       "      <td>4.0</td>\n",
       "      <td>0</td>\n",
       "      <td>25.0</td>\n",
       "      <td>0</td>\n",
       "      <td>0.0</td>\n",
       "      <td>0.0</td>\n",
       "      <td>1.0</td>\n",
       "      <td>0.0</td>\n",
       "      <td>...</td>\n",
       "      <td>0.0</td>\n",
       "      <td>0.0</td>\n",
       "      <td>0.0</td>\n",
       "      <td>0.0</td>\n",
       "      <td>1.0</td>\n",
       "      <td>0.0</td>\n",
       "      <td>0.0</td>\n",
       "      <td>0.0</td>\n",
       "      <td>1.0</td>\n",
       "      <td>0.0</td>\n",
       "    </tr>\n",
       "    <tr>\n",
       "      <th>816</th>\n",
       "      <td>7.0</td>\n",
       "      <td>5</td>\n",
       "      <td>4.0</td>\n",
       "      <td>0</td>\n",
       "      <td>25.0</td>\n",
       "      <td>1</td>\n",
       "      <td>0.0</td>\n",
       "      <td>0.0</td>\n",
       "      <td>0.0</td>\n",
       "      <td>1.0</td>\n",
       "      <td>...</td>\n",
       "      <td>1.0</td>\n",
       "      <td>0.0</td>\n",
       "      <td>0.0</td>\n",
       "      <td>0.0</td>\n",
       "      <td>0.0</td>\n",
       "      <td>0.0</td>\n",
       "      <td>0.0</td>\n",
       "      <td>0.0</td>\n",
       "      <td>1.0</td>\n",
       "      <td>0.0</td>\n",
       "    </tr>\n",
       "    <tr>\n",
       "      <th>817</th>\n",
       "      <td>7.0</td>\n",
       "      <td>5</td>\n",
       "      <td>4.0</td>\n",
       "      <td>0</td>\n",
       "      <td>19.0</td>\n",
       "      <td>0</td>\n",
       "      <td>0.0</td>\n",
       "      <td>0.0</td>\n",
       "      <td>0.0</td>\n",
       "      <td>1.0</td>\n",
       "      <td>...</td>\n",
       "      <td>1.0</td>\n",
       "      <td>0.0</td>\n",
       "      <td>0.0</td>\n",
       "      <td>0.0</td>\n",
       "      <td>0.0</td>\n",
       "      <td>0.0</td>\n",
       "      <td>0.0</td>\n",
       "      <td>0.0</td>\n",
       "      <td>1.0</td>\n",
       "      <td>0.0</td>\n",
       "    </tr>\n",
       "    <tr>\n",
       "      <th>818</th>\n",
       "      <td>7.0</td>\n",
       "      <td>5</td>\n",
       "      <td>4.0</td>\n",
       "      <td>0</td>\n",
       "      <td>27.0</td>\n",
       "      <td>0</td>\n",
       "      <td>0.0</td>\n",
       "      <td>0.0</td>\n",
       "      <td>1.0</td>\n",
       "      <td>0.0</td>\n",
       "      <td>...</td>\n",
       "      <td>0.0</td>\n",
       "      <td>1.0</td>\n",
       "      <td>0.0</td>\n",
       "      <td>0.0</td>\n",
       "      <td>0.0</td>\n",
       "      <td>0.0</td>\n",
       "      <td>0.0</td>\n",
       "      <td>0.0</td>\n",
       "      <td>1.0</td>\n",
       "      <td>0.0</td>\n",
       "    </tr>\n",
       "  </tbody>\n",
       "</table>\n",
       "<p>819 rows × 23 columns</p>\n",
       "</div>"
      ],
      "text/plain": [
       "     No_Transactions  No_Orders  No_Payments  \\\n",
       "0                2.0          2          1.0   \n",
       "1                2.0          2          1.0   \n",
       "2                3.0          3          6.0   \n",
       "3                3.0          3          6.0   \n",
       "4                3.0          3          6.0   \n",
       "..               ...        ...          ...   \n",
       "814              7.0          5          4.0   \n",
       "815              7.0          5          4.0   \n",
       "816              7.0          5          4.0   \n",
       "817              7.0          5          4.0   \n",
       "818              7.0          5          4.0   \n",
       "\n",
       "     paymentMethodRegistrationFailure  transactionAmount  transactionFailed  \\\n",
       "0                                   1               18.0                  0   \n",
       "1                                   1               26.0                  0   \n",
       "2                                   0               45.0                  0   \n",
       "3                                   0               23.0                  0   \n",
       "4                                   1               43.0                  1   \n",
       "..                                ...                ...                ...   \n",
       "814                                 0               25.0                  1   \n",
       "815                                 0               25.0                  0   \n",
       "816                                 0               25.0                  1   \n",
       "817                                 0               19.0                  0   \n",
       "818                                 0               27.0                  0   \n",
       "\n",
       "     paymentMethodType_apple pay  paymentMethodType_bitcoin  \\\n",
       "0                            0.0                        0.0   \n",
       "1                            0.0                        0.0   \n",
       "2                            0.0                        1.0   \n",
       "3                            0.0                        1.0   \n",
       "4                            0.0                        1.0   \n",
       "..                           ...                        ...   \n",
       "814                          0.0                        0.0   \n",
       "815                          0.0                        0.0   \n",
       "816                          0.0                        0.0   \n",
       "817                          0.0                        0.0   \n",
       "818                          0.0                        0.0   \n",
       "\n",
       "     paymentMethodType_card  paymentMethodType_paypal  ...  \\\n",
       "0                       1.0                       0.0  ...   \n",
       "1                       1.0                       0.0  ...   \n",
       "2                       0.0                       0.0  ...   \n",
       "3                       0.0                       0.0  ...   \n",
       "4                       0.0                       0.0  ...   \n",
       "..                      ...                       ...  ...   \n",
       "814                     1.0                       0.0  ...   \n",
       "815                     1.0                       0.0  ...   \n",
       "816                     0.0                       1.0  ...   \n",
       "817                     0.0                       1.0  ...   \n",
       "818                     1.0                       0.0  ...   \n",
       "\n",
       "     paymentMethodProvider_JCB 15 digit  paymentMethodProvider_JCB 16 digit  \\\n",
       "0                                   0.0                                 1.0   \n",
       "1                                   0.0                                 1.0   \n",
       "2                                   0.0                                 0.0   \n",
       "3                                   0.0                                 0.0   \n",
       "4                                   0.0                                 0.0   \n",
       "..                                  ...                                 ...   \n",
       "814                                 0.0                                 0.0   \n",
       "815                                 0.0                                 0.0   \n",
       "816                                 1.0                                 0.0   \n",
       "817                                 1.0                                 0.0   \n",
       "818                                 0.0                                 1.0   \n",
       "\n",
       "     paymentMethodProvider_Maestro  paymentMethodProvider_Mastercard  \\\n",
       "0                              0.0                               0.0   \n",
       "1                              0.0                               0.0   \n",
       "2                              0.0                               0.0   \n",
       "3                              0.0                               0.0   \n",
       "4                              0.0                               0.0   \n",
       "..                             ...                               ...   \n",
       "814                            0.0                               0.0   \n",
       "815                            0.0                               0.0   \n",
       "816                            0.0                               0.0   \n",
       "817                            0.0                               0.0   \n",
       "818                            0.0                               0.0   \n",
       "\n",
       "     paymentMethodProvider_VISA 13 digit  paymentMethodProvider_VISA 16 digit  \\\n",
       "0                                    0.0                                  0.0   \n",
       "1                                    0.0                                  0.0   \n",
       "2                                    0.0                                  0.0   \n",
       "3                                    0.0                                  0.0   \n",
       "4                                    0.0                                  1.0   \n",
       "..                                   ...                                  ...   \n",
       "814                                  1.0                                  0.0   \n",
       "815                                  1.0                                  0.0   \n",
       "816                                  0.0                                  0.0   \n",
       "817                                  0.0                                  0.0   \n",
       "818                                  0.0                                  0.0   \n",
       "\n",
       "     paymentMethodProvider_Voyager  orderState_failed  orderState_fulfilled  \\\n",
       "0                              0.0                0.0                   0.0   \n",
       "1                              0.0                0.0                   1.0   \n",
       "2                              0.0                0.0                   1.0   \n",
       "3                              0.0                0.0                   1.0   \n",
       "4                              0.0                0.0                   1.0   \n",
       "..                             ...                ...                   ...   \n",
       "814                            0.0                0.0                   1.0   \n",
       "815                            0.0                0.0                   1.0   \n",
       "816                            0.0                0.0                   1.0   \n",
       "817                            0.0                0.0                   1.0   \n",
       "818                            0.0                0.0                   1.0   \n",
       "\n",
       "     orderState_pending  \n",
       "0                   1.0  \n",
       "1                   0.0  \n",
       "2                   0.0  \n",
       "3                   0.0  \n",
       "4                   0.0  \n",
       "..                  ...  \n",
       "814                 0.0  \n",
       "815                 0.0  \n",
       "816                 0.0  \n",
       "817                 0.0  \n",
       "818                 0.0  \n",
       "\n",
       "[819 rows x 23 columns]"
      ]
     },
     "execution_count": 260,
     "metadata": {},
     "output_type": "execute_result"
    }
   ],
   "source": [
    "X"
   ]
  },
  {
   "cell_type": "code",
   "execution_count": 261,
   "id": "230b3303",
   "metadata": {},
   "outputs": [],
   "source": [
    "Y=Model['fraud']"
   ]
  },
  {
   "cell_type": "code",
   "execution_count": 262,
   "id": "53a7d1e2",
   "metadata": {},
   "outputs": [
    {
     "data": {
      "text/plain": [
       "0      0\n",
       "1      0\n",
       "2      1\n",
       "3      1\n",
       "4      1\n",
       "      ..\n",
       "814    0\n",
       "815    0\n",
       "816    0\n",
       "817    0\n",
       "818    0\n",
       "Name: fraud, Length: 819, dtype: int64"
      ]
     },
     "execution_count": 262,
     "metadata": {},
     "output_type": "execute_result"
    }
   ],
   "source": [
    "Y"
   ]
  },
  {
   "cell_type": "markdown",
   "id": "f166aec6",
   "metadata": {},
   "source": [
    "# Splitting the data into training and testing set."
   ]
  },
  {
   "cell_type": "code",
   "execution_count": 263,
   "id": "56a4cec8",
   "metadata": {},
   "outputs": [],
   "source": [
    "from sklearn.model_selection import train_test_split"
   ]
  },
  {
   "cell_type": "code",
   "execution_count": 264,
   "id": "ba11a21b",
   "metadata": {},
   "outputs": [],
   "source": [
    "X_train,X_test,Y_train,Y_test = train_test_split(X,Y, test_size=0.3, random_state = 42)"
   ]
  },
  {
   "cell_type": "markdown",
   "id": "703810a6",
   "metadata": {},
   "source": [
    "# 9. Feature Scalling"
   ]
  },
  {
   "cell_type": "code",
   "execution_count": 265,
   "id": "ce46e8f4",
   "metadata": {},
   "outputs": [],
   "source": [
    "# StandardScalling."
   ]
  },
  {
   "cell_type": "code",
   "execution_count": 266,
   "id": "477e3363",
   "metadata": {},
   "outputs": [],
   "source": [
    "from sklearn.preprocessing import StandardScaler\n",
    "st_scalar = StandardScaler()\n",
    "X_Train_scaled = st_scalar.fit_transform(X_train)\n",
    "X_test_scaled = st_scalar.fit_transform(X_test)"
   ]
  },
  {
   "cell_type": "code",
   "execution_count": 267,
   "id": "8924d0b3",
   "metadata": {},
   "outputs": [],
   "source": [
    "X_Train_scaled = pd.DataFrame(X_Train_scaled,columns=X_train.columns)"
   ]
  },
  {
   "cell_type": "code",
   "execution_count": 269,
   "id": "986fffb8",
   "metadata": {},
   "outputs": [
    {
     "data": {
      "text/html": [
       "<div>\n",
       "<style scoped>\n",
       "    .dataframe tbody tr th:only-of-type {\n",
       "        vertical-align: middle;\n",
       "    }\n",
       "\n",
       "    .dataframe tbody tr th {\n",
       "        vertical-align: top;\n",
       "    }\n",
       "\n",
       "    .dataframe thead th {\n",
       "        text-align: right;\n",
       "    }\n",
       "</style>\n",
       "<table border=\"1\" class=\"dataframe\">\n",
       "  <thead>\n",
       "    <tr style=\"text-align: right;\">\n",
       "      <th></th>\n",
       "      <th>No_Transactions</th>\n",
       "      <th>No_Orders</th>\n",
       "      <th>No_Payments</th>\n",
       "      <th>paymentMethodRegistrationFailure</th>\n",
       "      <th>transactionAmount</th>\n",
       "      <th>transactionFailed</th>\n",
       "      <th>paymentMethodType_apple pay</th>\n",
       "      <th>paymentMethodType_bitcoin</th>\n",
       "      <th>paymentMethodType_card</th>\n",
       "      <th>paymentMethodType_paypal</th>\n",
       "      <th>...</th>\n",
       "      <th>paymentMethodProvider_JCB 15 digit</th>\n",
       "      <th>paymentMethodProvider_JCB 16 digit</th>\n",
       "      <th>paymentMethodProvider_Maestro</th>\n",
       "      <th>paymentMethodProvider_Mastercard</th>\n",
       "      <th>paymentMethodProvider_VISA 13 digit</th>\n",
       "      <th>paymentMethodProvider_VISA 16 digit</th>\n",
       "      <th>paymentMethodProvider_Voyager</th>\n",
       "      <th>orderState_failed</th>\n",
       "      <th>orderState_fulfilled</th>\n",
       "      <th>orderState_pending</th>\n",
       "    </tr>\n",
       "  </thead>\n",
       "  <tbody>\n",
       "    <tr>\n",
       "      <th>0</th>\n",
       "      <td>-0.413841</td>\n",
       "      <td>0.090210</td>\n",
       "      <td>0.003757</td>\n",
       "      <td>-0.332363</td>\n",
       "      <td>1.875263</td>\n",
       "      <td>1.686902</td>\n",
       "      <td>-0.243207</td>\n",
       "      <td>3.467380</td>\n",
       "      <td>-1.974192</td>\n",
       "      <td>-0.277611</td>\n",
       "      <td>...</td>\n",
       "      <td>-0.23505</td>\n",
       "      <td>-0.520106</td>\n",
       "      <td>-0.373048</td>\n",
       "      <td>-0.213589</td>\n",
       "      <td>-0.258919</td>\n",
       "      <td>-0.520106</td>\n",
       "      <td>3.199265</td>\n",
       "      <td>-0.348326</td>\n",
       "      <td>0.437342</td>\n",
       "      <td>-0.23505</td>\n",
       "    </tr>\n",
       "    <tr>\n",
       "      <th>1</th>\n",
       "      <td>0.972889</td>\n",
       "      <td>0.612331</td>\n",
       "      <td>0.003757</td>\n",
       "      <td>3.008759</td>\n",
       "      <td>-0.175003</td>\n",
       "      <td>-0.592803</td>\n",
       "      <td>-0.243207</td>\n",
       "      <td>-0.288402</td>\n",
       "      <td>0.506536</td>\n",
       "      <td>-0.277611</td>\n",
       "      <td>...</td>\n",
       "      <td>-0.23505</td>\n",
       "      <td>-0.520106</td>\n",
       "      <td>2.680618</td>\n",
       "      <td>-0.213589</td>\n",
       "      <td>-0.258919</td>\n",
       "      <td>-0.520106</td>\n",
       "      <td>-0.312572</td>\n",
       "      <td>-0.348326</td>\n",
       "      <td>0.437342</td>\n",
       "      <td>-0.23505</td>\n",
       "    </tr>\n",
       "    <tr>\n",
       "      <th>2</th>\n",
       "      <td>0.279524</td>\n",
       "      <td>0.612331</td>\n",
       "      <td>-0.713761</td>\n",
       "      <td>-0.332363</td>\n",
       "      <td>-0.299261</td>\n",
       "      <td>1.686902</td>\n",
       "      <td>-0.243207</td>\n",
       "      <td>-0.288402</td>\n",
       "      <td>0.506536</td>\n",
       "      <td>-0.277611</td>\n",
       "      <td>...</td>\n",
       "      <td>-0.23505</td>\n",
       "      <td>-0.520106</td>\n",
       "      <td>2.680618</td>\n",
       "      <td>-0.213589</td>\n",
       "      <td>-0.258919</td>\n",
       "      <td>-0.520106</td>\n",
       "      <td>-0.312572</td>\n",
       "      <td>-0.348326</td>\n",
       "      <td>0.437342</td>\n",
       "      <td>-0.23505</td>\n",
       "    </tr>\n",
       "    <tr>\n",
       "      <th>3</th>\n",
       "      <td>0.626207</td>\n",
       "      <td>0.612331</td>\n",
       "      <td>-0.713761</td>\n",
       "      <td>-0.332363</td>\n",
       "      <td>-1.355459</td>\n",
       "      <td>-0.592803</td>\n",
       "      <td>-0.243207</td>\n",
       "      <td>-0.288402</td>\n",
       "      <td>0.506536</td>\n",
       "      <td>-0.277611</td>\n",
       "      <td>...</td>\n",
       "      <td>-0.23505</td>\n",
       "      <td>1.922686</td>\n",
       "      <td>-0.373048</td>\n",
       "      <td>-0.213589</td>\n",
       "      <td>-0.258919</td>\n",
       "      <td>-0.520106</td>\n",
       "      <td>-0.312572</td>\n",
       "      <td>-0.348326</td>\n",
       "      <td>0.437342</td>\n",
       "      <td>-0.23505</td>\n",
       "    </tr>\n",
       "    <tr>\n",
       "      <th>4</th>\n",
       "      <td>-0.067158</td>\n",
       "      <td>0.090210</td>\n",
       "      <td>0.721275</td>\n",
       "      <td>-0.332363</td>\n",
       "      <td>-1.479718</td>\n",
       "      <td>1.686902</td>\n",
       "      <td>-0.243207</td>\n",
       "      <td>-0.288402</td>\n",
       "      <td>0.506536</td>\n",
       "      <td>-0.277611</td>\n",
       "      <td>...</td>\n",
       "      <td>-0.23505</td>\n",
       "      <td>-0.520106</td>\n",
       "      <td>2.680618</td>\n",
       "      <td>-0.213589</td>\n",
       "      <td>-0.258919</td>\n",
       "      <td>-0.520106</td>\n",
       "      <td>-0.312572</td>\n",
       "      <td>-0.348326</td>\n",
       "      <td>0.437342</td>\n",
       "      <td>-0.23505</td>\n",
       "    </tr>\n",
       "    <tr>\n",
       "      <th>...</th>\n",
       "      <td>...</td>\n",
       "      <td>...</td>\n",
       "      <td>...</td>\n",
       "      <td>...</td>\n",
       "      <td>...</td>\n",
       "      <td>...</td>\n",
       "      <td>...</td>\n",
       "      <td>...</td>\n",
       "      <td>...</td>\n",
       "      <td>...</td>\n",
       "      <td>...</td>\n",
       "      <td>...</td>\n",
       "      <td>...</td>\n",
       "      <td>...</td>\n",
       "      <td>...</td>\n",
       "      <td>...</td>\n",
       "      <td>...</td>\n",
       "      <td>...</td>\n",
       "      <td>...</td>\n",
       "      <td>...</td>\n",
       "      <td>...</td>\n",
       "    </tr>\n",
       "    <tr>\n",
       "      <th>568</th>\n",
       "      <td>-1.800572</td>\n",
       "      <td>-1.998277</td>\n",
       "      <td>-0.713761</td>\n",
       "      <td>-0.332363</td>\n",
       "      <td>-0.796296</td>\n",
       "      <td>1.686902</td>\n",
       "      <td>-0.243207</td>\n",
       "      <td>-0.288402</td>\n",
       "      <td>0.506536</td>\n",
       "      <td>-0.277611</td>\n",
       "      <td>...</td>\n",
       "      <td>-0.23505</td>\n",
       "      <td>-0.520106</td>\n",
       "      <td>2.680618</td>\n",
       "      <td>-0.213589</td>\n",
       "      <td>-0.258919</td>\n",
       "      <td>-0.520106</td>\n",
       "      <td>-0.312572</td>\n",
       "      <td>-0.348326</td>\n",
       "      <td>0.437342</td>\n",
       "      <td>-0.23505</td>\n",
       "    </tr>\n",
       "    <tr>\n",
       "      <th>569</th>\n",
       "      <td>-0.760524</td>\n",
       "      <td>-0.954034</td>\n",
       "      <td>-0.713761</td>\n",
       "      <td>-0.332363</td>\n",
       "      <td>-0.485649</td>\n",
       "      <td>-0.592803</td>\n",
       "      <td>-0.243207</td>\n",
       "      <td>-0.288402</td>\n",
       "      <td>0.506536</td>\n",
       "      <td>-0.277611</td>\n",
       "      <td>...</td>\n",
       "      <td>-0.23505</td>\n",
       "      <td>1.922686</td>\n",
       "      <td>-0.373048</td>\n",
       "      <td>-0.213589</td>\n",
       "      <td>-0.258919</td>\n",
       "      <td>-0.520106</td>\n",
       "      <td>-0.312572</td>\n",
       "      <td>-0.348326</td>\n",
       "      <td>0.437342</td>\n",
       "      <td>-0.23505</td>\n",
       "    </tr>\n",
       "    <tr>\n",
       "      <th>570</th>\n",
       "      <td>-0.413841</td>\n",
       "      <td>-0.954034</td>\n",
       "      <td>-0.713761</td>\n",
       "      <td>-0.332363</td>\n",
       "      <td>0.508419</td>\n",
       "      <td>-0.592803</td>\n",
       "      <td>-0.243207</td>\n",
       "      <td>-0.288402</td>\n",
       "      <td>0.506536</td>\n",
       "      <td>-0.277611</td>\n",
       "      <td>...</td>\n",
       "      <td>-0.23505</td>\n",
       "      <td>-0.520106</td>\n",
       "      <td>-0.373048</td>\n",
       "      <td>4.681880</td>\n",
       "      <td>-0.258919</td>\n",
       "      <td>-0.520106</td>\n",
       "      <td>-0.312572</td>\n",
       "      <td>-0.348326</td>\n",
       "      <td>0.437342</td>\n",
       "      <td>-0.23505</td>\n",
       "    </tr>\n",
       "    <tr>\n",
       "      <th>571</th>\n",
       "      <td>0.279524</td>\n",
       "      <td>0.612331</td>\n",
       "      <td>0.003757</td>\n",
       "      <td>-0.332363</td>\n",
       "      <td>-0.361391</td>\n",
       "      <td>-0.592803</td>\n",
       "      <td>-0.243207</td>\n",
       "      <td>-0.288402</td>\n",
       "      <td>0.506536</td>\n",
       "      <td>-0.277611</td>\n",
       "      <td>...</td>\n",
       "      <td>-0.23505</td>\n",
       "      <td>-0.520106</td>\n",
       "      <td>-0.373048</td>\n",
       "      <td>-0.213589</td>\n",
       "      <td>-0.258919</td>\n",
       "      <td>1.922686</td>\n",
       "      <td>-0.312572</td>\n",
       "      <td>-0.348326</td>\n",
       "      <td>0.437342</td>\n",
       "      <td>-0.23505</td>\n",
       "    </tr>\n",
       "    <tr>\n",
       "      <th>572</th>\n",
       "      <td>-0.760524</td>\n",
       "      <td>-0.954034</td>\n",
       "      <td>-0.713761</td>\n",
       "      <td>-0.332363</td>\n",
       "      <td>-0.050744</td>\n",
       "      <td>-0.592803</td>\n",
       "      <td>-0.243207</td>\n",
       "      <td>-0.288402</td>\n",
       "      <td>0.506536</td>\n",
       "      <td>-0.277611</td>\n",
       "      <td>...</td>\n",
       "      <td>-0.23505</td>\n",
       "      <td>-0.520106</td>\n",
       "      <td>2.680618</td>\n",
       "      <td>-0.213589</td>\n",
       "      <td>-0.258919</td>\n",
       "      <td>-0.520106</td>\n",
       "      <td>-0.312572</td>\n",
       "      <td>-0.348326</td>\n",
       "      <td>0.437342</td>\n",
       "      <td>-0.23505</td>\n",
       "    </tr>\n",
       "  </tbody>\n",
       "</table>\n",
       "<p>573 rows × 23 columns</p>\n",
       "</div>"
      ],
      "text/plain": [
       "     No_Transactions  No_Orders  No_Payments  \\\n",
       "0          -0.413841   0.090210     0.003757   \n",
       "1           0.972889   0.612331     0.003757   \n",
       "2           0.279524   0.612331    -0.713761   \n",
       "3           0.626207   0.612331    -0.713761   \n",
       "4          -0.067158   0.090210     0.721275   \n",
       "..               ...        ...          ...   \n",
       "568        -1.800572  -1.998277    -0.713761   \n",
       "569        -0.760524  -0.954034    -0.713761   \n",
       "570        -0.413841  -0.954034    -0.713761   \n",
       "571         0.279524   0.612331     0.003757   \n",
       "572        -0.760524  -0.954034    -0.713761   \n",
       "\n",
       "     paymentMethodRegistrationFailure  transactionAmount  transactionFailed  \\\n",
       "0                           -0.332363           1.875263           1.686902   \n",
       "1                            3.008759          -0.175003          -0.592803   \n",
       "2                           -0.332363          -0.299261           1.686902   \n",
       "3                           -0.332363          -1.355459          -0.592803   \n",
       "4                           -0.332363          -1.479718           1.686902   \n",
       "..                                ...                ...                ...   \n",
       "568                         -0.332363          -0.796296           1.686902   \n",
       "569                         -0.332363          -0.485649          -0.592803   \n",
       "570                         -0.332363           0.508419          -0.592803   \n",
       "571                         -0.332363          -0.361391          -0.592803   \n",
       "572                         -0.332363          -0.050744          -0.592803   \n",
       "\n",
       "     paymentMethodType_apple pay  paymentMethodType_bitcoin  \\\n",
       "0                      -0.243207                   3.467380   \n",
       "1                      -0.243207                  -0.288402   \n",
       "2                      -0.243207                  -0.288402   \n",
       "3                      -0.243207                  -0.288402   \n",
       "4                      -0.243207                  -0.288402   \n",
       "..                           ...                        ...   \n",
       "568                    -0.243207                  -0.288402   \n",
       "569                    -0.243207                  -0.288402   \n",
       "570                    -0.243207                  -0.288402   \n",
       "571                    -0.243207                  -0.288402   \n",
       "572                    -0.243207                  -0.288402   \n",
       "\n",
       "     paymentMethodType_card  paymentMethodType_paypal  ...  \\\n",
       "0                 -1.974192                 -0.277611  ...   \n",
       "1                  0.506536                 -0.277611  ...   \n",
       "2                  0.506536                 -0.277611  ...   \n",
       "3                  0.506536                 -0.277611  ...   \n",
       "4                  0.506536                 -0.277611  ...   \n",
       "..                      ...                       ...  ...   \n",
       "568                0.506536                 -0.277611  ...   \n",
       "569                0.506536                 -0.277611  ...   \n",
       "570                0.506536                 -0.277611  ...   \n",
       "571                0.506536                 -0.277611  ...   \n",
       "572                0.506536                 -0.277611  ...   \n",
       "\n",
       "     paymentMethodProvider_JCB 15 digit  paymentMethodProvider_JCB 16 digit  \\\n",
       "0                              -0.23505                           -0.520106   \n",
       "1                              -0.23505                           -0.520106   \n",
       "2                              -0.23505                           -0.520106   \n",
       "3                              -0.23505                            1.922686   \n",
       "4                              -0.23505                           -0.520106   \n",
       "..                                  ...                                 ...   \n",
       "568                            -0.23505                           -0.520106   \n",
       "569                            -0.23505                            1.922686   \n",
       "570                            -0.23505                           -0.520106   \n",
       "571                            -0.23505                           -0.520106   \n",
       "572                            -0.23505                           -0.520106   \n",
       "\n",
       "     paymentMethodProvider_Maestro  paymentMethodProvider_Mastercard  \\\n",
       "0                        -0.373048                         -0.213589   \n",
       "1                         2.680618                         -0.213589   \n",
       "2                         2.680618                         -0.213589   \n",
       "3                        -0.373048                         -0.213589   \n",
       "4                         2.680618                         -0.213589   \n",
       "..                             ...                               ...   \n",
       "568                       2.680618                         -0.213589   \n",
       "569                      -0.373048                         -0.213589   \n",
       "570                      -0.373048                          4.681880   \n",
       "571                      -0.373048                         -0.213589   \n",
       "572                       2.680618                         -0.213589   \n",
       "\n",
       "     paymentMethodProvider_VISA 13 digit  paymentMethodProvider_VISA 16 digit  \\\n",
       "0                              -0.258919                            -0.520106   \n",
       "1                              -0.258919                            -0.520106   \n",
       "2                              -0.258919                            -0.520106   \n",
       "3                              -0.258919                            -0.520106   \n",
       "4                              -0.258919                            -0.520106   \n",
       "..                                   ...                                  ...   \n",
       "568                            -0.258919                            -0.520106   \n",
       "569                            -0.258919                            -0.520106   \n",
       "570                            -0.258919                            -0.520106   \n",
       "571                            -0.258919                             1.922686   \n",
       "572                            -0.258919                            -0.520106   \n",
       "\n",
       "     paymentMethodProvider_Voyager  orderState_failed  orderState_fulfilled  \\\n",
       "0                         3.199265          -0.348326              0.437342   \n",
       "1                        -0.312572          -0.348326              0.437342   \n",
       "2                        -0.312572          -0.348326              0.437342   \n",
       "3                        -0.312572          -0.348326              0.437342   \n",
       "4                        -0.312572          -0.348326              0.437342   \n",
       "..                             ...                ...                   ...   \n",
       "568                      -0.312572          -0.348326              0.437342   \n",
       "569                      -0.312572          -0.348326              0.437342   \n",
       "570                      -0.312572          -0.348326              0.437342   \n",
       "571                      -0.312572          -0.348326              0.437342   \n",
       "572                      -0.312572          -0.348326              0.437342   \n",
       "\n",
       "     orderState_pending  \n",
       "0              -0.23505  \n",
       "1              -0.23505  \n",
       "2              -0.23505  \n",
       "3              -0.23505  \n",
       "4              -0.23505  \n",
       "..                  ...  \n",
       "568            -0.23505  \n",
       "569            -0.23505  \n",
       "570            -0.23505  \n",
       "571            -0.23505  \n",
       "572            -0.23505  \n",
       "\n",
       "[573 rows x 23 columns]"
      ]
     },
     "execution_count": 269,
     "metadata": {},
     "output_type": "execute_result"
    }
   ],
   "source": [
    "X_Train_scaled"
   ]
  },
  {
   "cell_type": "code",
   "execution_count": 268,
   "id": "a4f84205",
   "metadata": {},
   "outputs": [],
   "source": [
    "X_test_scaled = pd.DataFrame(X_test_scaled,columns=X_test.columns)"
   ]
  },
  {
   "cell_type": "code",
   "execution_count": 270,
   "id": "47743006",
   "metadata": {},
   "outputs": [
    {
     "data": {
      "text/html": [
       "<div>\n",
       "<style scoped>\n",
       "    .dataframe tbody tr th:only-of-type {\n",
       "        vertical-align: middle;\n",
       "    }\n",
       "\n",
       "    .dataframe tbody tr th {\n",
       "        vertical-align: top;\n",
       "    }\n",
       "\n",
       "    .dataframe thead th {\n",
       "        text-align: right;\n",
       "    }\n",
       "</style>\n",
       "<table border=\"1\" class=\"dataframe\">\n",
       "  <thead>\n",
       "    <tr style=\"text-align: right;\">\n",
       "      <th></th>\n",
       "      <th>No_Transactions</th>\n",
       "      <th>No_Orders</th>\n",
       "      <th>No_Payments</th>\n",
       "      <th>paymentMethodRegistrationFailure</th>\n",
       "      <th>transactionAmount</th>\n",
       "      <th>transactionFailed</th>\n",
       "      <th>paymentMethodType_apple pay</th>\n",
       "      <th>paymentMethodType_bitcoin</th>\n",
       "      <th>paymentMethodType_card</th>\n",
       "      <th>paymentMethodType_paypal</th>\n",
       "      <th>...</th>\n",
       "      <th>paymentMethodProvider_JCB 15 digit</th>\n",
       "      <th>paymentMethodProvider_JCB 16 digit</th>\n",
       "      <th>paymentMethodProvider_Maestro</th>\n",
       "      <th>paymentMethodProvider_Mastercard</th>\n",
       "      <th>paymentMethodProvider_VISA 13 digit</th>\n",
       "      <th>paymentMethodProvider_VISA 16 digit</th>\n",
       "      <th>paymentMethodProvider_Voyager</th>\n",
       "      <th>orderState_failed</th>\n",
       "      <th>orderState_fulfilled</th>\n",
       "      <th>orderState_pending</th>\n",
       "    </tr>\n",
       "  </thead>\n",
       "  <tbody>\n",
       "    <tr>\n",
       "      <th>0</th>\n",
       "      <td>-0.791226</td>\n",
       "      <td>-1.011526</td>\n",
       "      <td>-0.795484</td>\n",
       "      <td>-0.336336</td>\n",
       "      <td>-0.169238</td>\n",
       "      <td>1.741490</td>\n",
       "      <td>-0.272462</td>\n",
       "      <td>-0.328798</td>\n",
       "      <td>0.536617</td>\n",
       "      <td>-0.245652</td>\n",
       "      <td>...</td>\n",
       "      <td>-0.254824</td>\n",
       "      <td>-0.47316</td>\n",
       "      <td>-0.400471</td>\n",
       "      <td>-0.171139</td>\n",
       "      <td>-0.313392</td>\n",
       "      <td>-0.466714</td>\n",
       "      <td>-0.379718</td>\n",
       "      <td>3.190896</td>\n",
       "      <td>-2.415229</td>\n",
       "      <td>-0.245652</td>\n",
       "    </tr>\n",
       "    <tr>\n",
       "      <th>1</th>\n",
       "      <td>0.351484</td>\n",
       "      <td>0.708534</td>\n",
       "      <td>-0.106438</td>\n",
       "      <td>-0.336336</td>\n",
       "      <td>0.791976</td>\n",
       "      <td>1.741490</td>\n",
       "      <td>-0.272462</td>\n",
       "      <td>-0.328798</td>\n",
       "      <td>0.536617</td>\n",
       "      <td>-0.245652</td>\n",
       "      <td>...</td>\n",
       "      <td>-0.254824</td>\n",
       "      <td>-0.47316</td>\n",
       "      <td>-0.400471</td>\n",
       "      <td>-0.171139</td>\n",
       "      <td>-0.313392</td>\n",
       "      <td>2.142641</td>\n",
       "      <td>-0.379718</td>\n",
       "      <td>3.190896</td>\n",
       "      <td>-2.415229</td>\n",
       "      <td>-0.245652</td>\n",
       "    </tr>\n",
       "    <tr>\n",
       "      <th>2</th>\n",
       "      <td>0.351484</td>\n",
       "      <td>0.708534</td>\n",
       "      <td>0.582608</td>\n",
       "      <td>-0.336336</td>\n",
       "      <td>0.491597</td>\n",
       "      <td>-0.574221</td>\n",
       "      <td>-0.272462</td>\n",
       "      <td>-0.328798</td>\n",
       "      <td>0.536617</td>\n",
       "      <td>-0.245652</td>\n",
       "      <td>...</td>\n",
       "      <td>-0.254824</td>\n",
       "      <td>-0.47316</td>\n",
       "      <td>-0.400471</td>\n",
       "      <td>-0.171139</td>\n",
       "      <td>-0.313392</td>\n",
       "      <td>-0.466714</td>\n",
       "      <td>2.633531</td>\n",
       "      <td>-0.313392</td>\n",
       "      <td>0.414039</td>\n",
       "      <td>-0.245652</td>\n",
       "    </tr>\n",
       "    <tr>\n",
       "      <th>3</th>\n",
       "      <td>0.351484</td>\n",
       "      <td>0.135181</td>\n",
       "      <td>-0.795484</td>\n",
       "      <td>-0.336336</td>\n",
       "      <td>0.131141</td>\n",
       "      <td>1.741490</td>\n",
       "      <td>-0.272462</td>\n",
       "      <td>-0.328798</td>\n",
       "      <td>0.536617</td>\n",
       "      <td>-0.245652</td>\n",
       "      <td>...</td>\n",
       "      <td>-0.254824</td>\n",
       "      <td>-0.47316</td>\n",
       "      <td>-0.400471</td>\n",
       "      <td>5.843189</td>\n",
       "      <td>-0.313392</td>\n",
       "      <td>-0.466714</td>\n",
       "      <td>-0.379718</td>\n",
       "      <td>-0.313392</td>\n",
       "      <td>0.414039</td>\n",
       "      <td>-0.245652</td>\n",
       "    </tr>\n",
       "    <tr>\n",
       "      <th>4</th>\n",
       "      <td>-0.410322</td>\n",
       "      <td>-1.584879</td>\n",
       "      <td>-0.106438</td>\n",
       "      <td>-0.336336</td>\n",
       "      <td>-1.250604</td>\n",
       "      <td>1.741490</td>\n",
       "      <td>-0.272462</td>\n",
       "      <td>-0.328798</td>\n",
       "      <td>0.536617</td>\n",
       "      <td>-0.245652</td>\n",
       "      <td>...</td>\n",
       "      <td>-0.254824</td>\n",
       "      <td>-0.47316</td>\n",
       "      <td>-0.400471</td>\n",
       "      <td>-0.171139</td>\n",
       "      <td>-0.313392</td>\n",
       "      <td>-0.466714</td>\n",
       "      <td>-0.379718</td>\n",
       "      <td>-0.313392</td>\n",
       "      <td>0.414039</td>\n",
       "      <td>-0.245652</td>\n",
       "    </tr>\n",
       "    <tr>\n",
       "      <th>...</th>\n",
       "      <td>...</td>\n",
       "      <td>...</td>\n",
       "      <td>...</td>\n",
       "      <td>...</td>\n",
       "      <td>...</td>\n",
       "      <td>...</td>\n",
       "      <td>...</td>\n",
       "      <td>...</td>\n",
       "      <td>...</td>\n",
       "      <td>...</td>\n",
       "      <td>...</td>\n",
       "      <td>...</td>\n",
       "      <td>...</td>\n",
       "      <td>...</td>\n",
       "      <td>...</td>\n",
       "      <td>...</td>\n",
       "      <td>...</td>\n",
       "      <td>...</td>\n",
       "      <td>...</td>\n",
       "      <td>...</td>\n",
       "      <td>...</td>\n",
       "    </tr>\n",
       "    <tr>\n",
       "      <th>241</th>\n",
       "      <td>0.732387</td>\n",
       "      <td>-0.438172</td>\n",
       "      <td>-0.106438</td>\n",
       "      <td>-0.336336</td>\n",
       "      <td>0.731900</td>\n",
       "      <td>-0.574221</td>\n",
       "      <td>-0.272462</td>\n",
       "      <td>-0.328798</td>\n",
       "      <td>0.536617</td>\n",
       "      <td>-0.245652</td>\n",
       "      <td>...</td>\n",
       "      <td>-0.254824</td>\n",
       "      <td>-0.47316</td>\n",
       "      <td>-0.400471</td>\n",
       "      <td>-0.171139</td>\n",
       "      <td>3.190896</td>\n",
       "      <td>-0.466714</td>\n",
       "      <td>-0.379718</td>\n",
       "      <td>-0.313392</td>\n",
       "      <td>0.414039</td>\n",
       "      <td>-0.245652</td>\n",
       "    </tr>\n",
       "    <tr>\n",
       "      <th>242</th>\n",
       "      <td>1.113290</td>\n",
       "      <td>1.281888</td>\n",
       "      <td>2.649746</td>\n",
       "      <td>-0.336336</td>\n",
       "      <td>0.311369</td>\n",
       "      <td>-0.574221</td>\n",
       "      <td>-0.272462</td>\n",
       "      <td>-0.328798</td>\n",
       "      <td>0.536617</td>\n",
       "      <td>-0.245652</td>\n",
       "      <td>...</td>\n",
       "      <td>-0.254824</td>\n",
       "      <td>-0.47316</td>\n",
       "      <td>-0.400471</td>\n",
       "      <td>-0.171139</td>\n",
       "      <td>-0.313392</td>\n",
       "      <td>-0.466714</td>\n",
       "      <td>2.633531</td>\n",
       "      <td>-0.313392</td>\n",
       "      <td>0.414039</td>\n",
       "      <td>-0.245652</td>\n",
       "    </tr>\n",
       "    <tr>\n",
       "      <th>243</th>\n",
       "      <td>-1.172129</td>\n",
       "      <td>-1.011526</td>\n",
       "      <td>-0.795484</td>\n",
       "      <td>-0.336336</td>\n",
       "      <td>-1.430832</td>\n",
       "      <td>-0.574221</td>\n",
       "      <td>-0.272462</td>\n",
       "      <td>-0.328798</td>\n",
       "      <td>0.536617</td>\n",
       "      <td>-0.245652</td>\n",
       "      <td>...</td>\n",
       "      <td>-0.254824</td>\n",
       "      <td>-0.47316</td>\n",
       "      <td>-0.400471</td>\n",
       "      <td>-0.171139</td>\n",
       "      <td>-0.313392</td>\n",
       "      <td>2.142641</td>\n",
       "      <td>-0.379718</td>\n",
       "      <td>-0.313392</td>\n",
       "      <td>0.414039</td>\n",
       "      <td>-0.245652</td>\n",
       "    </tr>\n",
       "    <tr>\n",
       "      <th>244</th>\n",
       "      <td>1.113290</td>\n",
       "      <td>0.708534</td>\n",
       "      <td>-0.106438</td>\n",
       "      <td>2.973214</td>\n",
       "      <td>-1.370756</td>\n",
       "      <td>-0.574221</td>\n",
       "      <td>-0.272462</td>\n",
       "      <td>-0.328798</td>\n",
       "      <td>0.536617</td>\n",
       "      <td>-0.245652</td>\n",
       "      <td>...</td>\n",
       "      <td>-0.254824</td>\n",
       "      <td>-0.47316</td>\n",
       "      <td>-0.400471</td>\n",
       "      <td>-0.171139</td>\n",
       "      <td>-0.313392</td>\n",
       "      <td>-0.466714</td>\n",
       "      <td>-0.379718</td>\n",
       "      <td>-0.313392</td>\n",
       "      <td>0.414039</td>\n",
       "      <td>-0.245652</td>\n",
       "    </tr>\n",
       "    <tr>\n",
       "      <th>245</th>\n",
       "      <td>-0.410322</td>\n",
       "      <td>0.135181</td>\n",
       "      <td>-0.106438</td>\n",
       "      <td>-0.336336</td>\n",
       "      <td>-1.370756</td>\n",
       "      <td>-0.574221</td>\n",
       "      <td>-0.272462</td>\n",
       "      <td>-0.328798</td>\n",
       "      <td>0.536617</td>\n",
       "      <td>-0.245652</td>\n",
       "      <td>...</td>\n",
       "      <td>-0.254824</td>\n",
       "      <td>-0.47316</td>\n",
       "      <td>-0.400471</td>\n",
       "      <td>-0.171139</td>\n",
       "      <td>-0.313392</td>\n",
       "      <td>2.142641</td>\n",
       "      <td>-0.379718</td>\n",
       "      <td>-0.313392</td>\n",
       "      <td>0.414039</td>\n",
       "      <td>-0.245652</td>\n",
       "    </tr>\n",
       "  </tbody>\n",
       "</table>\n",
       "<p>246 rows × 23 columns</p>\n",
       "</div>"
      ],
      "text/plain": [
       "     No_Transactions  No_Orders  No_Payments  \\\n",
       "0          -0.791226  -1.011526    -0.795484   \n",
       "1           0.351484   0.708534    -0.106438   \n",
       "2           0.351484   0.708534     0.582608   \n",
       "3           0.351484   0.135181    -0.795484   \n",
       "4          -0.410322  -1.584879    -0.106438   \n",
       "..               ...        ...          ...   \n",
       "241         0.732387  -0.438172    -0.106438   \n",
       "242         1.113290   1.281888     2.649746   \n",
       "243        -1.172129  -1.011526    -0.795484   \n",
       "244         1.113290   0.708534    -0.106438   \n",
       "245        -0.410322   0.135181    -0.106438   \n",
       "\n",
       "     paymentMethodRegistrationFailure  transactionAmount  transactionFailed  \\\n",
       "0                           -0.336336          -0.169238           1.741490   \n",
       "1                           -0.336336           0.791976           1.741490   \n",
       "2                           -0.336336           0.491597          -0.574221   \n",
       "3                           -0.336336           0.131141           1.741490   \n",
       "4                           -0.336336          -1.250604           1.741490   \n",
       "..                                ...                ...                ...   \n",
       "241                         -0.336336           0.731900          -0.574221   \n",
       "242                         -0.336336           0.311369          -0.574221   \n",
       "243                         -0.336336          -1.430832          -0.574221   \n",
       "244                          2.973214          -1.370756          -0.574221   \n",
       "245                         -0.336336          -1.370756          -0.574221   \n",
       "\n",
       "     paymentMethodType_apple pay  paymentMethodType_bitcoin  \\\n",
       "0                      -0.272462                  -0.328798   \n",
       "1                      -0.272462                  -0.328798   \n",
       "2                      -0.272462                  -0.328798   \n",
       "3                      -0.272462                  -0.328798   \n",
       "4                      -0.272462                  -0.328798   \n",
       "..                           ...                        ...   \n",
       "241                    -0.272462                  -0.328798   \n",
       "242                    -0.272462                  -0.328798   \n",
       "243                    -0.272462                  -0.328798   \n",
       "244                    -0.272462                  -0.328798   \n",
       "245                    -0.272462                  -0.328798   \n",
       "\n",
       "     paymentMethodType_card  paymentMethodType_paypal  ...  \\\n",
       "0                  0.536617                 -0.245652  ...   \n",
       "1                  0.536617                 -0.245652  ...   \n",
       "2                  0.536617                 -0.245652  ...   \n",
       "3                  0.536617                 -0.245652  ...   \n",
       "4                  0.536617                 -0.245652  ...   \n",
       "..                      ...                       ...  ...   \n",
       "241                0.536617                 -0.245652  ...   \n",
       "242                0.536617                 -0.245652  ...   \n",
       "243                0.536617                 -0.245652  ...   \n",
       "244                0.536617                 -0.245652  ...   \n",
       "245                0.536617                 -0.245652  ...   \n",
       "\n",
       "     paymentMethodProvider_JCB 15 digit  paymentMethodProvider_JCB 16 digit  \\\n",
       "0                             -0.254824                            -0.47316   \n",
       "1                             -0.254824                            -0.47316   \n",
       "2                             -0.254824                            -0.47316   \n",
       "3                             -0.254824                            -0.47316   \n",
       "4                             -0.254824                            -0.47316   \n",
       "..                                  ...                                 ...   \n",
       "241                           -0.254824                            -0.47316   \n",
       "242                           -0.254824                            -0.47316   \n",
       "243                           -0.254824                            -0.47316   \n",
       "244                           -0.254824                            -0.47316   \n",
       "245                           -0.254824                            -0.47316   \n",
       "\n",
       "     paymentMethodProvider_Maestro  paymentMethodProvider_Mastercard  \\\n",
       "0                        -0.400471                         -0.171139   \n",
       "1                        -0.400471                         -0.171139   \n",
       "2                        -0.400471                         -0.171139   \n",
       "3                        -0.400471                          5.843189   \n",
       "4                        -0.400471                         -0.171139   \n",
       "..                             ...                               ...   \n",
       "241                      -0.400471                         -0.171139   \n",
       "242                      -0.400471                         -0.171139   \n",
       "243                      -0.400471                         -0.171139   \n",
       "244                      -0.400471                         -0.171139   \n",
       "245                      -0.400471                         -0.171139   \n",
       "\n",
       "     paymentMethodProvider_VISA 13 digit  paymentMethodProvider_VISA 16 digit  \\\n",
       "0                              -0.313392                            -0.466714   \n",
       "1                              -0.313392                             2.142641   \n",
       "2                              -0.313392                            -0.466714   \n",
       "3                              -0.313392                            -0.466714   \n",
       "4                              -0.313392                            -0.466714   \n",
       "..                                   ...                                  ...   \n",
       "241                             3.190896                            -0.466714   \n",
       "242                            -0.313392                            -0.466714   \n",
       "243                            -0.313392                             2.142641   \n",
       "244                            -0.313392                            -0.466714   \n",
       "245                            -0.313392                             2.142641   \n",
       "\n",
       "     paymentMethodProvider_Voyager  orderState_failed  orderState_fulfilled  \\\n",
       "0                        -0.379718           3.190896             -2.415229   \n",
       "1                        -0.379718           3.190896             -2.415229   \n",
       "2                         2.633531          -0.313392              0.414039   \n",
       "3                        -0.379718          -0.313392              0.414039   \n",
       "4                        -0.379718          -0.313392              0.414039   \n",
       "..                             ...                ...                   ...   \n",
       "241                      -0.379718          -0.313392              0.414039   \n",
       "242                       2.633531          -0.313392              0.414039   \n",
       "243                      -0.379718          -0.313392              0.414039   \n",
       "244                      -0.379718          -0.313392              0.414039   \n",
       "245                      -0.379718          -0.313392              0.414039   \n",
       "\n",
       "     orderState_pending  \n",
       "0             -0.245652  \n",
       "1             -0.245652  \n",
       "2             -0.245652  \n",
       "3             -0.245652  \n",
       "4             -0.245652  \n",
       "..                  ...  \n",
       "241           -0.245652  \n",
       "242           -0.245652  \n",
       "243           -0.245652  \n",
       "244           -0.245652  \n",
       "245           -0.245652  \n",
       "\n",
       "[246 rows x 23 columns]"
      ]
     },
     "execution_count": 270,
     "metadata": {},
     "output_type": "execute_result"
    }
   ],
   "source": [
    "X_test_scaled"
   ]
  },
  {
   "cell_type": "markdown",
   "id": "bd3cd6a5",
   "metadata": {},
   "source": [
    "# 10.Model Training "
   ]
  },
  {
   "cell_type": "markdown",
   "id": "3e249010",
   "metadata": {},
   "source": [
    "***The model's used are Random Forests, Logistic Regression as all of them are good for binary classification.***"
   ]
  },
  {
   "cell_type": "markdown",
   "id": "0cfba07b",
   "metadata": {},
   "source": [
    "# Logistic Regression."
   ]
  },
  {
   "cell_type": "code",
   "execution_count": 275,
   "id": "de4736f5",
   "metadata": {},
   "outputs": [],
   "source": [
    "from sklearn.linear_model import LogisticRegression"
   ]
  },
  {
   "cell_type": "code",
   "execution_count": 276,
   "id": "17a01f5c",
   "metadata": {},
   "outputs": [],
   "source": [
    "lr=LogisticRegression()"
   ]
  },
  {
   "cell_type": "code",
   "execution_count": 277,
   "id": "c02d20a2",
   "metadata": {},
   "outputs": [
    {
     "data": {
      "text/plain": [
       "LogisticRegression()"
      ]
     },
     "execution_count": 277,
     "metadata": {},
     "output_type": "execute_result"
    }
   ],
   "source": [
    "lr"
   ]
  },
  {
   "cell_type": "code",
   "execution_count": 278,
   "id": "04282353",
   "metadata": {},
   "outputs": [
    {
     "data": {
      "text/plain": [
       "LogisticRegression()"
      ]
     },
     "execution_count": 278,
     "metadata": {},
     "output_type": "execute_result"
    }
   ],
   "source": [
    "lr.fit(X_Train_scaled,Y_train)"
   ]
  },
  {
   "cell_type": "code",
   "execution_count": 279,
   "id": "551cb46b",
   "metadata": {},
   "outputs": [],
   "source": [
    "predict_lr = lr.predict(X_test_scaled)"
   ]
  },
  {
   "cell_type": "code",
   "execution_count": 280,
   "id": "3c1b0772",
   "metadata": {},
   "outputs": [
    {
     "data": {
      "text/plain": [
       "array([1, 1, 1, 0, 0, 1, 1, 0, 1, 0, 1, 0, 0, 1, 0, 1, 0, 1, 0, 1, 1, 1,\n",
       "       1, 1, 1, 1, 1, 1, 1, 1, 0, 1, 0, 0, 1, 1, 0, 1, 1, 1, 1, 1, 0, 1,\n",
       "       1, 1, 1, 1, 1, 1, 0, 0, 1, 1, 0, 1, 1, 1, 0, 1, 1, 0, 1, 1, 1, 0,\n",
       "       1, 1, 1, 1, 0, 1, 0, 1, 1, 1, 1, 1, 0, 1, 0, 1, 1, 1, 0, 1, 1, 1,\n",
       "       0, 0, 1, 1, 0, 0, 0, 1, 1, 0, 1, 0, 1, 0, 1, 1, 1, 1, 1, 1, 1, 0,\n",
       "       0, 1, 1, 1, 0, 0, 0, 1, 1, 1, 1, 1, 1, 0, 1, 0, 1, 1, 0, 1, 1, 0,\n",
       "       1, 1, 0, 0, 0, 0, 1, 1, 1, 0, 0, 0, 0, 1, 1, 0, 1, 1, 1, 1, 0, 1,\n",
       "       1, 1, 1, 0, 1, 1, 1, 0, 0, 0, 1, 0, 0, 0, 0, 1, 1, 1, 1, 1, 0, 1,\n",
       "       1, 0, 1, 0, 1, 0, 1, 1, 1, 1, 0, 0, 1, 0, 1, 0, 1, 0, 1, 0, 0, 0,\n",
       "       0, 1, 1, 1, 1, 1, 1, 1, 0, 1, 1, 1, 1, 1, 1, 0, 0, 0, 0, 0, 0, 1,\n",
       "       1, 0, 1, 1, 1, 1, 0, 1, 1, 1, 0, 0, 1, 1, 1, 1, 0, 1, 0, 1, 1, 1,\n",
       "       1, 1, 0, 1], dtype=int64)"
      ]
     },
     "execution_count": 280,
     "metadata": {},
     "output_type": "execute_result"
    }
   ],
   "source": [
    "predict_lr"
   ]
  },
  {
   "cell_type": "code",
   "execution_count": 285,
   "id": "19ed6633",
   "metadata": {},
   "outputs": [],
   "source": [
    "from sklearn.metrics import accuracy_score\n",
    "from sklearn.metrics import confusion_matrix,classification_report,accuracy_score"
   ]
  },
  {
   "cell_type": "code",
   "execution_count": 282,
   "id": "3ba96d81",
   "metadata": {},
   "outputs": [],
   "source": [
    "accuracy = accuracy_score(Y_test,predict_lr)"
   ]
  },
  {
   "cell_type": "code",
   "execution_count": 283,
   "id": "82cef0bb",
   "metadata": {},
   "outputs": [
    {
     "data": {
      "text/plain": [
       "0.6991869918699187"
      ]
     },
     "execution_count": 283,
     "metadata": {},
     "output_type": "execute_result"
    }
   ],
   "source": [
    "accuracy"
   ]
  },
  {
   "cell_type": "code",
   "execution_count": 287,
   "id": "e79dd830",
   "metadata": {},
   "outputs": [],
   "source": [
    "# Confusion Matrix"
   ]
  },
  {
   "cell_type": "code",
   "execution_count": 286,
   "id": "7464fb83",
   "metadata": {},
   "outputs": [
    {
     "data": {
      "text/plain": [
       "array([[ 62,  49],\n",
       "       [ 25, 110]], dtype=int64)"
      ]
     },
     "execution_count": 286,
     "metadata": {},
     "output_type": "execute_result"
    }
   ],
   "source": [
    "confusion_matrix(Y_test,predict_lr)"
   ]
  },
  {
   "cell_type": "code",
   "execution_count": 288,
   "id": "9eefe815",
   "metadata": {},
   "outputs": [],
   "source": [
    "# Confusion Report "
   ]
  },
  {
   "cell_type": "code",
   "execution_count": 289,
   "id": "28980102",
   "metadata": {},
   "outputs": [
    {
     "name": "stdout",
     "output_type": "stream",
     "text": [
      "              precision    recall  f1-score   support\n",
      "\n",
      "           0       0.71      0.56      0.63       111\n",
      "           1       0.69      0.81      0.75       135\n",
      "\n",
      "    accuracy                           0.70       246\n",
      "   macro avg       0.70      0.69      0.69       246\n",
      "weighted avg       0.70      0.70      0.69       246\n",
      "\n"
     ]
    }
   ],
   "source": [
    "print(classification_report(Y_test,predict_lr))"
   ]
  },
  {
   "cell_type": "markdown",
   "id": "175bca9f",
   "metadata": {},
   "source": [
    "# Random Forest."
   ]
  },
  {
   "cell_type": "code",
   "execution_count": 290,
   "id": "2cf5bb5d",
   "metadata": {},
   "outputs": [],
   "source": [
    "from sklearn.ensemble import RandomForestClassifier"
   ]
  },
  {
   "cell_type": "code",
   "execution_count": 291,
   "id": "ae811f5d",
   "metadata": {},
   "outputs": [],
   "source": [
    "RFC = RandomForestClassifier(n_estimators=150)"
   ]
  },
  {
   "cell_type": "code",
   "execution_count": 292,
   "id": "65c715a0",
   "metadata": {},
   "outputs": [
    {
     "data": {
      "text/plain": [
       "RandomForestClassifier(n_estimators=150)"
      ]
     },
     "execution_count": 292,
     "metadata": {},
     "output_type": "execute_result"
    }
   ],
   "source": [
    "RFC"
   ]
  },
  {
   "cell_type": "code",
   "execution_count": 293,
   "id": "2516bf56",
   "metadata": {},
   "outputs": [
    {
     "data": {
      "text/plain": [
       "RandomForestClassifier(n_estimators=150)"
      ]
     },
     "execution_count": 293,
     "metadata": {},
     "output_type": "execute_result"
    }
   ],
   "source": [
    "RFC.fit(X_Train_scaled,Y_train)"
   ]
  },
  {
   "cell_type": "code",
   "execution_count": 294,
   "id": "67d64ba2",
   "metadata": {},
   "outputs": [],
   "source": [
    "Predict = RFC.predict(X_test_scaled)"
   ]
  },
  {
   "cell_type": "code",
   "execution_count": 295,
   "id": "4ef583b8",
   "metadata": {},
   "outputs": [
    {
     "data": {
      "text/plain": [
       "array([1, 0, 1, 0, 0, 1, 1, 0, 1, 1, 1, 1, 0, 1, 1, 0, 0, 0, 0, 1, 1, 0,\n",
       "       0, 1, 1, 1, 0, 1, 1, 1, 1, 1, 0, 1, 0, 0, 0, 1, 0, 1, 0, 1, 1, 1,\n",
       "       0, 1, 1, 1, 1, 0, 1, 0, 0, 1, 0, 0, 1, 1, 0, 1, 0, 0, 1, 0, 1, 0,\n",
       "       1, 0, 1, 1, 0, 1, 1, 1, 0, 1, 1, 1, 0, 1, 1, 1, 0, 0, 1, 1, 1, 0,\n",
       "       0, 0, 0, 0, 0, 0, 0, 1, 1, 0, 1, 0, 1, 0, 1, 1, 1, 1, 0, 1, 1, 1,\n",
       "       0, 0, 0, 0, 0, 0, 1, 1, 0, 0, 1, 1, 1, 1, 1, 1, 0, 1, 0, 0, 1, 1,\n",
       "       1, 1, 0, 1, 1, 0, 1, 1, 1, 0, 0, 0, 0, 0, 1, 0, 1, 1, 1, 1, 0, 0,\n",
       "       1, 1, 1, 0, 1, 1, 0, 0, 0, 0, 0, 0, 0, 0, 0, 1, 0, 0, 0, 0, 0, 1,\n",
       "       0, 0, 1, 0, 0, 0, 1, 0, 0, 0, 0, 0, 1, 0, 0, 1, 1, 1, 1, 0, 0, 0,\n",
       "       0, 1, 0, 0, 0, 1, 0, 1, 1, 1, 0, 1, 1, 1, 1, 1, 1, 0, 0, 0, 0, 1,\n",
       "       1, 1, 1, 1, 1, 1, 0, 1, 1, 1, 1, 1, 1, 1, 0, 0, 0, 1, 0, 1, 1, 0,\n",
       "       1, 1, 0, 1], dtype=int64)"
      ]
     },
     "execution_count": 295,
     "metadata": {},
     "output_type": "execute_result"
    }
   ],
   "source": [
    "Predict"
   ]
  },
  {
   "cell_type": "code",
   "execution_count": 296,
   "id": "5437cec8",
   "metadata": {},
   "outputs": [
    {
     "name": "stdout",
     "output_type": "stream",
     "text": [
      "0.8780487804878049\n"
     ]
    }
   ],
   "source": [
    "print(accuracy_score(Y_test,Predict))"
   ]
  },
  {
   "cell_type": "code",
   "execution_count": 299,
   "id": "32d7be7e",
   "metadata": {},
   "outputs": [],
   "source": [
    "# Confusion Matrix Random Forest Model."
   ]
  },
  {
   "cell_type": "code",
   "execution_count": 297,
   "id": "a8c9632f",
   "metadata": {},
   "outputs": [
    {
     "data": {
      "text/plain": [
       "array([[ 98,  13],\n",
       "       [ 17, 118]], dtype=int64)"
      ]
     },
     "execution_count": 297,
     "metadata": {},
     "output_type": "execute_result"
    }
   ],
   "source": [
    "confusion_matrix(Y_test,Predict)"
   ]
  },
  {
   "cell_type": "code",
   "execution_count": 300,
   "id": "df0ccb55",
   "metadata": {},
   "outputs": [],
   "source": [
    "# Confusion Report Random Forest Model."
   ]
  },
  {
   "cell_type": "code",
   "execution_count": 301,
   "id": "70556299",
   "metadata": {},
   "outputs": [
    {
     "name": "stdout",
     "output_type": "stream",
     "text": [
      "              precision    recall  f1-score   support\n",
      "\n",
      "           0       0.85      0.88      0.87       111\n",
      "           1       0.90      0.87      0.89       135\n",
      "\n",
      "    accuracy                           0.88       246\n",
      "   macro avg       0.88      0.88      0.88       246\n",
      "weighted avg       0.88      0.88      0.88       246\n",
      "\n"
     ]
    }
   ],
   "source": [
    "print(classification_report(Y_test,Predict))"
   ]
  },
  {
   "cell_type": "markdown",
   "id": "6cb4865d",
   "metadata": {},
   "source": [
    "# Hyperparameters Logistic Regression."
   ]
  },
  {
   "cell_type": "code",
   "execution_count": 302,
   "id": "18a72ea5",
   "metadata": {},
   "outputs": [],
   "source": [
    "from sklearn.model_selection import GridSearchCV"
   ]
  },
  {
   "cell_type": "code",
   "execution_count": 365,
   "id": "c071b3bb",
   "metadata": {},
   "outputs": [],
   "source": [
    "hyperparameters = {\n",
    "    'penalty': ['l1', 'l2', 'elasticnet', 'none'],\n",
    "    'C': [0.001, 0.01, 0.1, 1, 10, 100, 1000],\n",
    "    'solver': ['newton-cg', 'lbfgs', 'liblinear', 'sag', 'saga']\n",
    "}\n",
    "\n",
    "# Initialize the logistic regression model\n",
    "logistic = LogisticRegression()\n",
    "\n",
    "# Initialize Grid Search\n",
    "gridsearch = GridSearchCV(logistic, hyperparameters, cv=5)\n",
    "\n",
    "# Fit the model\n",
    "gridsearch.fit(X_Train_scaled, Y_train)\n",
    "\n",
    "# Get the best parameters\n",
    "best_params = gridsearch.best_params_"
   ]
  },
  {
   "cell_type": "code",
   "execution_count": 304,
   "id": "c5ef2547",
   "metadata": {},
   "outputs": [],
   "source": [
    "grid_logr_predictions = gridsearch.predict(X_test_scaled)"
   ]
  },
  {
   "cell_type": "code",
   "execution_count": 305,
   "id": "0a811ed7",
   "metadata": {},
   "outputs": [
    {
     "data": {
      "text/plain": [
       "array([1, 1, 1, 0, 0, 1, 1, 0, 1, 0, 1, 0, 0, 1, 0, 1, 0, 1, 0, 1, 1, 1,\n",
       "       1, 1, 1, 1, 1, 1, 1, 1, 0, 1, 0, 0, 1, 1, 0, 1, 1, 1, 1, 1, 0, 1,\n",
       "       1, 1, 1, 1, 1, 1, 0, 0, 1, 1, 0, 1, 1, 1, 0, 1, 1, 0, 1, 1, 1, 0,\n",
       "       1, 1, 1, 1, 0, 1, 0, 1, 1, 1, 1, 1, 0, 1, 1, 1, 1, 1, 0, 1, 1, 1,\n",
       "       0, 0, 0, 1, 0, 0, 0, 1, 1, 0, 1, 0, 1, 0, 1, 1, 1, 1, 1, 1, 1, 0,\n",
       "       0, 1, 1, 1, 0, 0, 0, 1, 1, 1, 1, 1, 1, 0, 1, 0, 1, 1, 0, 1, 1, 0,\n",
       "       1, 1, 0, 0, 0, 0, 1, 1, 1, 0, 0, 0, 0, 1, 1, 0, 1, 1, 1, 1, 0, 1,\n",
       "       1, 1, 1, 0, 1, 1, 1, 0, 0, 0, 1, 0, 0, 0, 0, 1, 1, 1, 1, 1, 0, 1,\n",
       "       1, 0, 1, 0, 1, 0, 1, 1, 1, 1, 0, 0, 1, 0, 1, 0, 1, 0, 1, 0, 0, 0,\n",
       "       0, 1, 1, 1, 1, 1, 1, 1, 0, 1, 1, 1, 1, 1, 1, 0, 0, 0, 0, 0, 0, 1,\n",
       "       1, 0, 1, 1, 1, 1, 0, 1, 1, 1, 0, 1, 1, 1, 1, 1, 0, 1, 0, 1, 1, 1,\n",
       "       1, 1, 0, 1], dtype=int64)"
      ]
     },
     "execution_count": 305,
     "metadata": {},
     "output_type": "execute_result"
    }
   ],
   "source": [
    "grid_logr_predictions"
   ]
  },
  {
   "cell_type": "code",
   "execution_count": 307,
   "id": "b3d375a3",
   "metadata": {},
   "outputs": [
    {
     "name": "stdout",
     "output_type": "stream",
     "text": [
      "0.7113821138211383\n"
     ]
    }
   ],
   "source": [
    "print(accuracy_score(Y_test,grid_logr_predictions))"
   ]
  },
  {
   "cell_type": "code",
   "execution_count": 311,
   "id": "da1e8e82",
   "metadata": {},
   "outputs": [],
   "source": [
    "# Confusion Matrix"
   ]
  },
  {
   "cell_type": "code",
   "execution_count": 309,
   "id": "068d67f7",
   "metadata": {},
   "outputs": [
    {
     "name": "stdout",
     "output_type": "stream",
     "text": [
      "[[ 63  48]\n",
      " [ 23 112]]\n"
     ]
    }
   ],
   "source": [
    "print(confusion_matrix(Y_test,grid_logr_predictions))"
   ]
  },
  {
   "cell_type": "code",
   "execution_count": 312,
   "id": "9d790699",
   "metadata": {},
   "outputs": [],
   "source": [
    "# Confusion Report."
   ]
  },
  {
   "cell_type": "code",
   "execution_count": 310,
   "id": "41054f75",
   "metadata": {},
   "outputs": [
    {
     "name": "stdout",
     "output_type": "stream",
     "text": [
      "              precision    recall  f1-score   support\n",
      "\n",
      "           0       0.73      0.57      0.64       111\n",
      "           1       0.70      0.83      0.76       135\n",
      "\n",
      "    accuracy                           0.71       246\n",
      "   macro avg       0.72      0.70      0.70       246\n",
      "weighted avg       0.71      0.71      0.71       246\n",
      "\n"
     ]
    }
   ],
   "source": [
    "print(classification_report(Y_test,grid_logr_predictions))"
   ]
  },
  {
   "cell_type": "code",
   "execution_count": 308,
   "id": "f7a2543d",
   "metadata": {},
   "outputs": [
    {
     "data": {
      "text/plain": [
       "<AxesSubplot:>"
      ]
     },
     "execution_count": 308,
     "metadata": {},
     "output_type": "execute_result"
    },
    {
     "data": {
      "image/png": "[encoded data removed]",
      "text/plain": [
       "<Figure size 640x480 with 2 Axes>"
      ]
     },
     "metadata": {},
     "output_type": "display_data"
    }
   ],
   "source": [
    "sns.heatmap(data = confusion_matrix(Y_test,grid_logr_predictions),annot = True)"
   ]
  },
  {
   "cell_type": "markdown",
   "id": "66e9a1c6",
   "metadata": {},
   "source": [
    "# Conclusion:-"
   ]
  },
  {
   "cell_type": "markdown",
   "id": "f90d7413",
   "metadata": {},
   "source": [
    "***Here,we analysis all algorithms and see that RandomForest give the best accurancy and also check performance matrix and Classification Report.*** "
   ]
  },
  {
   "cell_type": "code",
   "execution_count": null,
   "id": "179509be",
   "metadata": {},
   "outputs": [],
   "source": []
  }
 ],
 "metadata": {
  "kernelspec": {
   "display_name": "Python 3 (ipykernel)",
   "language": "python",
   "name": "python3"
  },
  "language_info": {
   "codemirror_mode": {
    "name": "ipython",
    "version": 3
   },
   "file_extension": ".py",
   "mimetype": "text/x-python",
   "name": "python",
   "nbconvert_exporter": "python",
   "pygments_lexer": "ipython3",
   "version": "3.9.13"
  }
 },
 "nbformat": 4,
 "nbformat_minor": 5
}
