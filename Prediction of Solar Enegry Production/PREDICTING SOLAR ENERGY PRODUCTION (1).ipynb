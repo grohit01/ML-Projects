{
 "cells": [
  {
   "cell_type": "markdown",
   "id": "14e176c0",
   "metadata": {},
   "source": [
    "# Predicting Solar Energy Production"
   ]
  },
  {
   "cell_type": "markdown",
   "id": "9a5369c7",
   "metadata": {},
   "source": [
    "# Importing all the libraries"
   ]
  },
  {
   "cell_type": "code",
   "execution_count": 1,
   "id": "55f41e2e",
   "metadata": {},
   "outputs": [],
   "source": [
    "import numpy as np\n",
    "import pandas as pd\n",
    "import seaborn as sns\n",
    "import matplotlib.pyplot as plt"
   ]
  },
  {
   "cell_type": "markdown",
   "id": "7aff960b",
   "metadata": {},
   "source": [
    "# Importing the Dataset"
   ]
  },
  {
   "cell_type": "code",
   "execution_count": 2,
   "id": "c4f3e8a1",
   "metadata": {},
   "outputs": [
    {
     "name": "stderr",
     "output_type": "stream",
     "text": [
      "C:\\Users\\Dell\\AppData\\Local\\Temp\\ipykernel_6912\\3185394649.py:1: DtypeWarning: Columns (1,7) have mixed types. Specify dtype option on import or set low_memory=False.\n",
      "  data = pd.read_csv(r'C:\\Users\\Dell\\OneDrive\\Desktop\\ISHIP 1\\Solar Energy.csv')\n"
     ]
    }
   ],
   "source": [
    "data = pd.read_csv(r'C:\\Users\\Dell\\OneDrive\\Desktop\\ISHIP 1\\Solar Energy.csv')"
   ]
  },
  {
   "cell_type": "markdown",
   "id": "e0179af1",
   "metadata": {},
   "source": [
    "# Data Cleaning and Preprocessing"
   ]
  },
  {
   "cell_type": "code",
   "execution_count": 3,
   "id": "7c402659",
   "metadata": {},
   "outputs": [
    {
     "data": {
      "text/html": [
       "<div>\n",
       "<style scoped>\n",
       "    .dataframe tbody tr th:only-of-type {\n",
       "        vertical-align: middle;\n",
       "    }\n",
       "\n",
       "    .dataframe tbody tr th {\n",
       "        vertical-align: top;\n",
       "    }\n",
       "\n",
       "    .dataframe thead th {\n",
       "        text-align: right;\n",
       "    }\n",
       "</style>\n",
       "<table border=\"1\" class=\"dataframe\">\n",
       "  <thead>\n",
       "    <tr style=\"text-align: right;\">\n",
       "      <th></th>\n",
       "      <th>Data Through Date</th>\n",
       "      <th>Project ID</th>\n",
       "      <th>Interconnection Date</th>\n",
       "      <th>Utility</th>\n",
       "      <th>City/Town</th>\n",
       "      <th>County</th>\n",
       "      <th>Zip</th>\n",
       "      <th>Division</th>\n",
       "      <th>Substation</th>\n",
       "      <th>Circuit ID</th>\n",
       "      <th>Developer</th>\n",
       "      <th>Metering Method</th>\n",
       "      <th>Estimated PV System Size (kWdc)</th>\n",
       "      <th>PV System Size (kWac)</th>\n",
       "      <th>Estimated Annual PV Energy Production (kWh)</th>\n",
       "      <th>Energy Storage System Size (kWac)</th>\n",
       "      <th>Number of Projects</th>\n",
       "    </tr>\n",
       "  </thead>\n",
       "  <tbody>\n",
       "    <tr>\n",
       "      <th>0</th>\n",
       "      <td>12/31/2023</td>\n",
       "      <td>SDG-66301</td>\n",
       "      <td>12/29/2023</td>\n",
       "      <td>Con Ed</td>\n",
       "      <td>Richmond Hill</td>\n",
       "      <td>Queens</td>\n",
       "      <td>11418.0</td>\n",
       "      <td>CENY-BK</td>\n",
       "      <td>Brownsville_2</td>\n",
       "      <td>9B05</td>\n",
       "      <td>Kamtech Solar Solutions</td>\n",
       "      <td>NM</td>\n",
       "      <td>6.05</td>\n",
       "      <td>5.17</td>\n",
       "      <td>7100</td>\n",
       "      <td>NaN</td>\n",
       "      <td>1</td>\n",
       "    </tr>\n",
       "    <tr>\n",
       "      <th>1</th>\n",
       "      <td>12/31/2023</td>\n",
       "      <td>SDG-66299</td>\n",
       "      <td>12/29/2023</td>\n",
       "      <td>Con Ed</td>\n",
       "      <td>Bronx</td>\n",
       "      <td>Bronx</td>\n",
       "      <td>10473.0</td>\n",
       "      <td>CENY-BX</td>\n",
       "      <td>Parkchester_2</td>\n",
       "      <td>5X67</td>\n",
       "      <td>Kamtech Solar Solutions</td>\n",
       "      <td>NM</td>\n",
       "      <td>6.74</td>\n",
       "      <td>5.76</td>\n",
       "      <td>7911</td>\n",
       "      <td>NaN</td>\n",
       "      <td>1</td>\n",
       "    </tr>\n",
       "    <tr>\n",
       "      <th>2</th>\n",
       "      <td>12/31/2023</td>\n",
       "      <td>SDG-66288</td>\n",
       "      <td>12/29/2023</td>\n",
       "      <td>Con Ed</td>\n",
       "      <td>Brooklyn</td>\n",
       "      <td>Kings</td>\n",
       "      <td>11225.0</td>\n",
       "      <td>CENY-BK</td>\n",
       "      <td>Bensonhurst_2</td>\n",
       "      <td>4B08</td>\n",
       "      <td>SUNCO</td>\n",
       "      <td>NM</td>\n",
       "      <td>3.05</td>\n",
       "      <td>2.61</td>\n",
       "      <td>3585</td>\n",
       "      <td>NaN</td>\n",
       "      <td>1</td>\n",
       "    </tr>\n",
       "    <tr>\n",
       "      <th>3</th>\n",
       "      <td>12/31/2023</td>\n",
       "      <td>SDG-66284</td>\n",
       "      <td>12/29/2023</td>\n",
       "      <td>Con Ed</td>\n",
       "      <td>Brooklyn</td>\n",
       "      <td>Kings</td>\n",
       "      <td>11236.0</td>\n",
       "      <td>CENY-BK</td>\n",
       "      <td>Bensonhurst_2</td>\n",
       "      <td>3037</td>\n",
       "      <td>Kamtech Solar Solutions</td>\n",
       "      <td>NM</td>\n",
       "      <td>5.62</td>\n",
       "      <td>4.80</td>\n",
       "      <td>6592</td>\n",
       "      <td>NaN</td>\n",
       "      <td>1</td>\n",
       "    </tr>\n",
       "    <tr>\n",
       "      <th>4</th>\n",
       "      <td>12/31/2023</td>\n",
       "      <td>SDG-66277</td>\n",
       "      <td>12/28/2023</td>\n",
       "      <td>Con Ed</td>\n",
       "      <td>Springfield Gardens</td>\n",
       "      <td>Queens</td>\n",
       "      <td>11413.0</td>\n",
       "      <td>CENY-Q</td>\n",
       "      <td>Jamaica</td>\n",
       "      <td>9112</td>\n",
       "      <td>Kamtech Solar Solutions</td>\n",
       "      <td>NM</td>\n",
       "      <td>6.05</td>\n",
       "      <td>5.17</td>\n",
       "      <td>7100</td>\n",
       "      <td>NaN</td>\n",
       "      <td>1</td>\n",
       "    </tr>\n",
       "  </tbody>\n",
       "</table>\n",
       "</div>"
      ],
      "text/plain": [
       "  Data Through Date Project ID Interconnection Date Utility  \\\n",
       "0        12/31/2023  SDG-66301           12/29/2023  Con Ed   \n",
       "1        12/31/2023  SDG-66299           12/29/2023  Con Ed   \n",
       "2        12/31/2023  SDG-66288           12/29/2023  Con Ed   \n",
       "3        12/31/2023  SDG-66284           12/29/2023  Con Ed   \n",
       "4        12/31/2023  SDG-66277           12/28/2023  Con Ed   \n",
       "\n",
       "             City/Town  County      Zip Division     Substation Circuit ID  \\\n",
       "0        Richmond Hill  Queens  11418.0  CENY-BK  Brownsville_2       9B05   \n",
       "1                Bronx   Bronx  10473.0  CENY-BX  Parkchester_2       5X67   \n",
       "2             Brooklyn   Kings  11225.0  CENY-BK  Bensonhurst_2       4B08   \n",
       "3             Brooklyn   Kings  11236.0  CENY-BK  Bensonhurst_2       3037   \n",
       "4  Springfield Gardens  Queens  11413.0   CENY-Q        Jamaica       9112   \n",
       "\n",
       "                 Developer Metering Method  Estimated PV System Size (kWdc)  \\\n",
       "0  Kamtech Solar Solutions              NM                             6.05   \n",
       "1  Kamtech Solar Solutions              NM                             6.74   \n",
       "2                    SUNCO              NM                             3.05   \n",
       "3  Kamtech Solar Solutions              NM                             5.62   \n",
       "4  Kamtech Solar Solutions              NM                             6.05   \n",
       "\n",
       "   PV System Size (kWac)  Estimated Annual PV Energy Production (kWh)  \\\n",
       "0                   5.17                                         7100   \n",
       "1                   5.76                                         7911   \n",
       "2                   2.61                                         3585   \n",
       "3                   4.80                                         6592   \n",
       "4                   5.17                                         7100   \n",
       "\n",
       "   Energy Storage System Size (kWac)  Number of Projects  \n",
       "0                                NaN                   1  \n",
       "1                                NaN                   1  \n",
       "2                                NaN                   1  \n",
       "3                                NaN                   1  \n",
       "4                                NaN                   1  "
      ]
     },
     "execution_count": 3,
     "metadata": {},
     "output_type": "execute_result"
    }
   ],
   "source": [
    "data.head()"
   ]
  },
  {
   "cell_type": "code",
   "execution_count": 4,
   "id": "5d990860",
   "metadata": {},
   "outputs": [
    {
     "data": {
      "text/html": [
       "<div>\n",
       "<style scoped>\n",
       "    .dataframe tbody tr th:only-of-type {\n",
       "        vertical-align: middle;\n",
       "    }\n",
       "\n",
       "    .dataframe tbody tr th {\n",
       "        vertical-align: top;\n",
       "    }\n",
       "\n",
       "    .dataframe thead th {\n",
       "        text-align: right;\n",
       "    }\n",
       "</style>\n",
       "<table border=\"1\" class=\"dataframe\">\n",
       "  <thead>\n",
       "    <tr style=\"text-align: right;\">\n",
       "      <th></th>\n",
       "      <th>Data Through Date</th>\n",
       "      <th>Project ID</th>\n",
       "      <th>Interconnection Date</th>\n",
       "      <th>Utility</th>\n",
       "      <th>City/Town</th>\n",
       "      <th>County</th>\n",
       "      <th>Zip</th>\n",
       "      <th>Division</th>\n",
       "      <th>Substation</th>\n",
       "      <th>Circuit ID</th>\n",
       "      <th>Developer</th>\n",
       "      <th>Metering Method</th>\n",
       "      <th>Estimated PV System Size (kWdc)</th>\n",
       "      <th>PV System Size (kWac)</th>\n",
       "      <th>Estimated Annual PV Energy Production (kWh)</th>\n",
       "      <th>Energy Storage System Size (kWac)</th>\n",
       "      <th>Number of Projects</th>\n",
       "    </tr>\n",
       "  </thead>\n",
       "  <tbody>\n",
       "    <tr>\n",
       "      <th>218110</th>\n",
       "      <td>12/31/2023</td>\n",
       "      <td>49.0</td>\n",
       "      <td>12/19/2002</td>\n",
       "      <td>RGE</td>\n",
       "      <td>Ontario</td>\n",
       "      <td>Wayne</td>\n",
       "      <td>14519.0</td>\n",
       "      <td>Sodus</td>\n",
       "      <td>0205LS0237-1589 RTE 104</td>\n",
       "      <td>0205LS0237</td>\n",
       "      <td>NaN</td>\n",
       "      <td>NM</td>\n",
       "      <td>2.81</td>\n",
       "      <td>2.4</td>\n",
       "      <td>3296</td>\n",
       "      <td>NaN</td>\n",
       "      <td>1</td>\n",
       "    </tr>\n",
       "    <tr>\n",
       "      <th>218111</th>\n",
       "      <td>12/31/2023</td>\n",
       "      <td>48.0</td>\n",
       "      <td>9/24/2002</td>\n",
       "      <td>RGE</td>\n",
       "      <td>Friendship</td>\n",
       "      <td>Allegany</td>\n",
       "      <td>14739.0</td>\n",
       "      <td>Fillmore</td>\n",
       "      <td>8333GV7702-Friendship Nile RD</td>\n",
       "      <td>8333GV7702</td>\n",
       "      <td>NaN</td>\n",
       "      <td>NM</td>\n",
       "      <td>2.93</td>\n",
       "      <td>2.5</td>\n",
       "      <td>3433</td>\n",
       "      <td>NaN</td>\n",
       "      <td>1</td>\n",
       "    </tr>\n",
       "    <tr>\n",
       "      <th>218112</th>\n",
       "      <td>12/31/2023</td>\n",
       "      <td>NaN</td>\n",
       "      <td>7/1/2018</td>\n",
       "      <td>PSEGLI</td>\n",
       "      <td>NaN</td>\n",
       "      <td>Suffolk</td>\n",
       "      <td>11786.0</td>\n",
       "      <td>NaN</td>\n",
       "      <td>NaN</td>\n",
       "      <td>NaN</td>\n",
       "      <td>NaN</td>\n",
       "      <td>FIT</td>\n",
       "      <td>34362.00</td>\n",
       "      <td>24900.0</td>\n",
       "      <td>40335490</td>\n",
       "      <td>NaN</td>\n",
       "      <td>1</td>\n",
       "    </tr>\n",
       "    <tr>\n",
       "      <th>218113</th>\n",
       "      <td>12/31/2023</td>\n",
       "      <td>NaN</td>\n",
       "      <td>3/3/2018</td>\n",
       "      <td>PSEGLI</td>\n",
       "      <td>NaN</td>\n",
       "      <td>Suffolk</td>\n",
       "      <td>11933.0</td>\n",
       "      <td>NaN</td>\n",
       "      <td>NaN</td>\n",
       "      <td>NaN</td>\n",
       "      <td>NaN</td>\n",
       "      <td>FIT</td>\n",
       "      <td>27600.00</td>\n",
       "      <td>20000.0</td>\n",
       "      <td>32397984</td>\n",
       "      <td>NaN</td>\n",
       "      <td>1</td>\n",
       "    </tr>\n",
       "    <tr>\n",
       "      <th>218114</th>\n",
       "      <td>12/31/2023</td>\n",
       "      <td>NaN</td>\n",
       "      <td>11/1/2011</td>\n",
       "      <td>PSEGLI</td>\n",
       "      <td>NaN</td>\n",
       "      <td>Suffolk</td>\n",
       "      <td>11973.0</td>\n",
       "      <td>NaN</td>\n",
       "      <td>NaN</td>\n",
       "      <td>NaN</td>\n",
       "      <td>NaN</td>\n",
       "      <td>FIT</td>\n",
       "      <td>43470.00</td>\n",
       "      <td>31500.0</td>\n",
       "      <td>51026825</td>\n",
       "      <td>NaN</td>\n",
       "      <td>1</td>\n",
       "    </tr>\n",
       "  </tbody>\n",
       "</table>\n",
       "</div>"
      ],
      "text/plain": [
       "       Data Through Date Project ID Interconnection Date Utility   City/Town  \\\n",
       "218110        12/31/2023       49.0           12/19/2002     RGE     Ontario   \n",
       "218111        12/31/2023       48.0            9/24/2002     RGE  Friendship   \n",
       "218112        12/31/2023        NaN             7/1/2018  PSEGLI         NaN   \n",
       "218113        12/31/2023        NaN             3/3/2018  PSEGLI         NaN   \n",
       "218114        12/31/2023        NaN            11/1/2011  PSEGLI         NaN   \n",
       "\n",
       "          County      Zip  Division                     Substation  \\\n",
       "218110     Wayne  14519.0     Sodus        0205LS0237-1589 RTE 104   \n",
       "218111  Allegany  14739.0  Fillmore  8333GV7702-Friendship Nile RD   \n",
       "218112   Suffolk  11786.0       NaN                            NaN   \n",
       "218113   Suffolk  11933.0       NaN                            NaN   \n",
       "218114   Suffolk  11973.0       NaN                            NaN   \n",
       "\n",
       "        Circuit ID Developer Metering Method  Estimated PV System Size (kWdc)  \\\n",
       "218110  0205LS0237       NaN              NM                             2.81   \n",
       "218111  8333GV7702       NaN              NM                             2.93   \n",
       "218112         NaN       NaN             FIT                         34362.00   \n",
       "218113         NaN       NaN             FIT                         27600.00   \n",
       "218114         NaN       NaN             FIT                         43470.00   \n",
       "\n",
       "        PV System Size (kWac)  Estimated Annual PV Energy Production (kWh)  \\\n",
       "218110                    2.4                                         3296   \n",
       "218111                    2.5                                         3433   \n",
       "218112                24900.0                                     40335490   \n",
       "218113                20000.0                                     32397984   \n",
       "218114                31500.0                                     51026825   \n",
       "\n",
       "        Energy Storage System Size (kWac)  Number of Projects  \n",
       "218110                                NaN                   1  \n",
       "218111                                NaN                   1  \n",
       "218112                                NaN                   1  \n",
       "218113                                NaN                   1  \n",
       "218114                                NaN                   1  "
      ]
     },
     "execution_count": 4,
     "metadata": {},
     "output_type": "execute_result"
    }
   ],
   "source": [
    "data.tail()"
   ]
  },
  {
   "cell_type": "code",
   "execution_count": 5,
   "id": "151542e0",
   "metadata": {},
   "outputs": [
    {
     "name": "stderr",
     "output_type": "stream",
     "text": [
      "C:\\Users\\Dell\\AppData\\Local\\Temp\\ipykernel_6912\\2627137660.py:1: FutureWarning: The default value of numeric_only in DataFrame.corr is deprecated. In a future version, it will default to False. Select only valid columns or specify the value of numeric_only to silence this warning.\n",
      "  data.corr()\n"
     ]
    },
    {
     "data": {
      "text/html": [
       "<div>\n",
       "<style scoped>\n",
       "    .dataframe tbody tr th:only-of-type {\n",
       "        vertical-align: middle;\n",
       "    }\n",
       "\n",
       "    .dataframe tbody tr th {\n",
       "        vertical-align: top;\n",
       "    }\n",
       "\n",
       "    .dataframe thead th {\n",
       "        text-align: right;\n",
       "    }\n",
       "</style>\n",
       "<table border=\"1\" class=\"dataframe\">\n",
       "  <thead>\n",
       "    <tr style=\"text-align: right;\">\n",
       "      <th></th>\n",
       "      <th>Zip</th>\n",
       "      <th>Estimated PV System Size (kWdc)</th>\n",
       "      <th>PV System Size (kWac)</th>\n",
       "      <th>Estimated Annual PV Energy Production (kWh)</th>\n",
       "      <th>Energy Storage System Size (kWac)</th>\n",
       "      <th>Number of Projects</th>\n",
       "    </tr>\n",
       "  </thead>\n",
       "  <tbody>\n",
       "    <tr>\n",
       "      <th>Zip</th>\n",
       "      <td>1.000000</td>\n",
       "      <td>0.074807</td>\n",
       "      <td>0.075416</td>\n",
       "      <td>0.074807</td>\n",
       "      <td>0.094028</td>\n",
       "      <td>NaN</td>\n",
       "    </tr>\n",
       "    <tr>\n",
       "      <th>Estimated PV System Size (kWdc)</th>\n",
       "      <td>0.074807</td>\n",
       "      <td>1.000000</td>\n",
       "      <td>0.999919</td>\n",
       "      <td>1.000000</td>\n",
       "      <td>0.974801</td>\n",
       "      <td>NaN</td>\n",
       "    </tr>\n",
       "    <tr>\n",
       "      <th>PV System Size (kWac)</th>\n",
       "      <td>0.075416</td>\n",
       "      <td>0.999919</td>\n",
       "      <td>1.000000</td>\n",
       "      <td>0.999919</td>\n",
       "      <td>0.974874</td>\n",
       "      <td>NaN</td>\n",
       "    </tr>\n",
       "    <tr>\n",
       "      <th>Estimated Annual PV Energy Production (kWh)</th>\n",
       "      <td>0.074807</td>\n",
       "      <td>1.000000</td>\n",
       "      <td>0.999919</td>\n",
       "      <td>1.000000</td>\n",
       "      <td>0.974801</td>\n",
       "      <td>NaN</td>\n",
       "    </tr>\n",
       "    <tr>\n",
       "      <th>Energy Storage System Size (kWac)</th>\n",
       "      <td>0.094028</td>\n",
       "      <td>0.974801</td>\n",
       "      <td>0.974874</td>\n",
       "      <td>0.974801</td>\n",
       "      <td>1.000000</td>\n",
       "      <td>NaN</td>\n",
       "    </tr>\n",
       "    <tr>\n",
       "      <th>Number of Projects</th>\n",
       "      <td>NaN</td>\n",
       "      <td>NaN</td>\n",
       "      <td>NaN</td>\n",
       "      <td>NaN</td>\n",
       "      <td>NaN</td>\n",
       "      <td>NaN</td>\n",
       "    </tr>\n",
       "  </tbody>\n",
       "</table>\n",
       "</div>"
      ],
      "text/plain": [
       "                                                  Zip  \\\n",
       "Zip                                          1.000000   \n",
       "Estimated PV System Size (kWdc)              0.074807   \n",
       "PV System Size (kWac)                        0.075416   \n",
       "Estimated Annual PV Energy Production (kWh)  0.074807   \n",
       "Energy Storage System Size (kWac)            0.094028   \n",
       "Number of Projects                                NaN   \n",
       "\n",
       "                                             Estimated PV System Size (kWdc)  \\\n",
       "Zip                                                                 0.074807   \n",
       "Estimated PV System Size (kWdc)                                     1.000000   \n",
       "PV System Size (kWac)                                               0.999919   \n",
       "Estimated Annual PV Energy Production (kWh)                         1.000000   \n",
       "Energy Storage System Size (kWac)                                   0.974801   \n",
       "Number of Projects                                                       NaN   \n",
       "\n",
       "                                             PV System Size (kWac)  \\\n",
       "Zip                                                       0.075416   \n",
       "Estimated PV System Size (kWdc)                           0.999919   \n",
       "PV System Size (kWac)                                     1.000000   \n",
       "Estimated Annual PV Energy Production (kWh)               0.999919   \n",
       "Energy Storage System Size (kWac)                         0.974874   \n",
       "Number of Projects                                             NaN   \n",
       "\n",
       "                                             Estimated Annual PV Energy Production (kWh)  \\\n",
       "Zip                                                                             0.074807   \n",
       "Estimated PV System Size (kWdc)                                                 1.000000   \n",
       "PV System Size (kWac)                                                           0.999919   \n",
       "Estimated Annual PV Energy Production (kWh)                                     1.000000   \n",
       "Energy Storage System Size (kWac)                                               0.974801   \n",
       "Number of Projects                                                                   NaN   \n",
       "\n",
       "                                             Energy Storage System Size (kWac)  \\\n",
       "Zip                                                                   0.094028   \n",
       "Estimated PV System Size (kWdc)                                       0.974801   \n",
       "PV System Size (kWac)                                                 0.974874   \n",
       "Estimated Annual PV Energy Production (kWh)                           0.974801   \n",
       "Energy Storage System Size (kWac)                                     1.000000   \n",
       "Number of Projects                                                         NaN   \n",
       "\n",
       "                                             Number of Projects  \n",
       "Zip                                                         NaN  \n",
       "Estimated PV System Size (kWdc)                             NaN  \n",
       "PV System Size (kWac)                                       NaN  \n",
       "Estimated Annual PV Energy Production (kWh)                 NaN  \n",
       "Energy Storage System Size (kWac)                           NaN  \n",
       "Number of Projects                                          NaN  "
      ]
     },
     "execution_count": 5,
     "metadata": {},
     "output_type": "execute_result"
    }
   ],
   "source": [
    "data.corr()"
   ]
  },
  {
   "cell_type": "code",
   "execution_count": 6,
   "id": "e0991273",
   "metadata": {
    "scrolled": true
   },
   "outputs": [
    {
     "name": "stdout",
     "output_type": "stream",
     "text": [
      "Number of Rows 218115\n",
      "Number of Columns 17\n"
     ]
    }
   ],
   "source": [
    "print(\"Number of Rows\", data.shape[0])\n",
    "print(\"Number of Columns\", data.shape[1])"
   ]
  },
  {
   "cell_type": "code",
   "execution_count": 7,
   "id": "f6db30aa",
   "metadata": {},
   "outputs": [
    {
     "name": "stdout",
     "output_type": "stream",
     "text": [
      "<class 'pandas.core.frame.DataFrame'>\n",
      "RangeIndex: 218115 entries, 0 to 218114\n",
      "Data columns (total 17 columns):\n",
      " #   Column                                       Non-Null Count   Dtype  \n",
      "---  ------                                       --------------   -----  \n",
      " 0   Data Through Date                            218115 non-null  object \n",
      " 1   Project ID                                   218112 non-null  object \n",
      " 2   Interconnection Date                         218115 non-null  object \n",
      " 3   Utility                                      218115 non-null  object \n",
      " 4   City/Town                                    218057 non-null  object \n",
      " 5   County                                       218115 non-null  object \n",
      " 6   Zip                                          218019 non-null  float64\n",
      " 7   Division                                     132881 non-null  object \n",
      " 8   Substation                                   138171 non-null  object \n",
      " 9   Circuit ID                                   218085 non-null  object \n",
      " 10  Developer                                    207567 non-null  object \n",
      " 11  Metering Method                              217652 non-null  object \n",
      " 12  Estimated PV System Size (kWdc)              218115 non-null  float64\n",
      " 13  PV System Size (kWac)                        218115 non-null  float64\n",
      " 14  Estimated Annual PV Energy Production (kWh)  218115 non-null  int64  \n",
      " 15  Energy Storage System Size (kWac)            4091 non-null    float64\n",
      " 16  Number of Projects                           218115 non-null  int64  \n",
      "dtypes: float64(4), int64(2), object(11)\n",
      "memory usage: 28.3+ MB\n"
     ]
    }
   ],
   "source": [
    "data.info()"
   ]
  },
  {
   "cell_type": "code",
   "execution_count": 8,
   "id": "9ae828b1",
   "metadata": {},
   "outputs": [
    {
     "data": {
      "text/html": [
       "<div>\n",
       "<style scoped>\n",
       "    .dataframe tbody tr th:only-of-type {\n",
       "        vertical-align: middle;\n",
       "    }\n",
       "\n",
       "    .dataframe tbody tr th {\n",
       "        vertical-align: top;\n",
       "    }\n",
       "\n",
       "    .dataframe thead th {\n",
       "        text-align: right;\n",
       "    }\n",
       "</style>\n",
       "<table border=\"1\" class=\"dataframe\">\n",
       "  <thead>\n",
       "    <tr style=\"text-align: right;\">\n",
       "      <th></th>\n",
       "      <th>Zip</th>\n",
       "      <th>Estimated PV System Size (kWdc)</th>\n",
       "      <th>PV System Size (kWac)</th>\n",
       "      <th>Estimated Annual PV Energy Production (kWh)</th>\n",
       "      <th>Energy Storage System Size (kWac)</th>\n",
       "      <th>Number of Projects</th>\n",
       "    </tr>\n",
       "  </thead>\n",
       "  <tbody>\n",
       "    <tr>\n",
       "      <th>count</th>\n",
       "      <td>218019.000000</td>\n",
       "      <td>218115.000000</td>\n",
       "      <td>218115.000000</td>\n",
       "      <td>2.181150e+05</td>\n",
       "      <td>4091.000000</td>\n",
       "      <td>218115.0</td>\n",
       "    </tr>\n",
       "    <tr>\n",
       "      <th>mean</th>\n",
       "      <td>11751.734473</td>\n",
       "      <td>24.507977</td>\n",
       "      <td>19.065451</td>\n",
       "      <td>2.876828e+04</td>\n",
       "      <td>32.174727</td>\n",
       "      <td>1.0</td>\n",
       "    </tr>\n",
       "    <tr>\n",
       "      <th>std</th>\n",
       "      <td>962.129108</td>\n",
       "      <td>291.525394</td>\n",
       "      <td>211.419642</td>\n",
       "      <td>3.422042e+05</td>\n",
       "      <td>296.161116</td>\n",
       "      <td>0.0</td>\n",
       "    </tr>\n",
       "    <tr>\n",
       "      <th>min</th>\n",
       "      <td>10001.000000</td>\n",
       "      <td>0.010000</td>\n",
       "      <td>0.010000</td>\n",
       "      <td>1.400000e+01</td>\n",
       "      <td>0.350000</td>\n",
       "      <td>1.0</td>\n",
       "    </tr>\n",
       "    <tr>\n",
       "      <th>25%</th>\n",
       "      <td>11220.000000</td>\n",
       "      <td>5.270000</td>\n",
       "      <td>4.500000</td>\n",
       "      <td>6.180000e+03</td>\n",
       "      <td>5.000000</td>\n",
       "      <td>1.0</td>\n",
       "    </tr>\n",
       "    <tr>\n",
       "      <th>50%</th>\n",
       "      <td>11717.000000</td>\n",
       "      <td>7.130000</td>\n",
       "      <td>6.090000</td>\n",
       "      <td>8.364000e+03</td>\n",
       "      <td>7.600000</td>\n",
       "      <td>1.0</td>\n",
       "    </tr>\n",
       "    <tr>\n",
       "      <th>75%</th>\n",
       "      <td>12018.000000</td>\n",
       "      <td>10.240000</td>\n",
       "      <td>8.750000</td>\n",
       "      <td>1.201700e+04</td>\n",
       "      <td>10.000000</td>\n",
       "      <td>1.0</td>\n",
       "    </tr>\n",
       "    <tr>\n",
       "      <th>max</th>\n",
       "      <td>14905.000000</td>\n",
       "      <td>43470.000000</td>\n",
       "      <td>31500.000000</td>\n",
       "      <td>5.102682e+07</td>\n",
       "      <td>5000.000000</td>\n",
       "      <td>1.0</td>\n",
       "    </tr>\n",
       "  </tbody>\n",
       "</table>\n",
       "</div>"
      ],
      "text/plain": [
       "                 Zip  Estimated PV System Size (kWdc)  PV System Size (kWac)  \\\n",
       "count  218019.000000                    218115.000000          218115.000000   \n",
       "mean    11751.734473                        24.507977              19.065451   \n",
       "std       962.129108                       291.525394             211.419642   \n",
       "min     10001.000000                         0.010000               0.010000   \n",
       "25%     11220.000000                         5.270000               4.500000   \n",
       "50%     11717.000000                         7.130000               6.090000   \n",
       "75%     12018.000000                        10.240000               8.750000   \n",
       "max     14905.000000                     43470.000000           31500.000000   \n",
       "\n",
       "       Estimated Annual PV Energy Production (kWh)  \\\n",
       "count                                 2.181150e+05   \n",
       "mean                                  2.876828e+04   \n",
       "std                                   3.422042e+05   \n",
       "min                                   1.400000e+01   \n",
       "25%                                   6.180000e+03   \n",
       "50%                                   8.364000e+03   \n",
       "75%                                   1.201700e+04   \n",
       "max                                   5.102682e+07   \n",
       "\n",
       "       Energy Storage System Size (kWac)  Number of Projects  \n",
       "count                        4091.000000            218115.0  \n",
       "mean                           32.174727                 1.0  \n",
       "std                           296.161116                 0.0  \n",
       "min                             0.350000                 1.0  \n",
       "25%                             5.000000                 1.0  \n",
       "50%                             7.600000                 1.0  \n",
       "75%                            10.000000                 1.0  \n",
       "max                          5000.000000                 1.0  "
      ]
     },
     "execution_count": 8,
     "metadata": {},
     "output_type": "execute_result"
    }
   ],
   "source": [
    "data.describe()"
   ]
  },
  {
   "cell_type": "code",
   "execution_count": 9,
   "id": "39fc86a3",
   "metadata": {},
   "outputs": [
    {
     "data": {
      "text/plain": [
       "Index(['Data Through Date', 'Project ID', 'Interconnection Date', 'Utility',\n",
       "       'City/Town', 'County', 'Zip', 'Division', 'Substation', 'Circuit ID',\n",
       "       'Developer', 'Metering Method', 'Estimated PV System Size (kWdc)',\n",
       "       'PV System Size (kWac)', 'Estimated Annual PV Energy Production (kWh)',\n",
       "       'Energy Storage System Size (kWac)', 'Number of Projects'],\n",
       "      dtype='object')"
      ]
     },
     "execution_count": 9,
     "metadata": {},
     "output_type": "execute_result"
    }
   ],
   "source": [
    "data.columns"
   ]
  },
  {
   "cell_type": "code",
   "execution_count": 10,
   "id": "d2110a33",
   "metadata": {},
   "outputs": [
    {
     "data": {
      "text/plain": [
       "0"
      ]
     },
     "execution_count": 10,
     "metadata": {},
     "output_type": "execute_result"
    }
   ],
   "source": [
    "data.duplicated().sum()"
   ]
  },
  {
   "cell_type": "code",
   "execution_count": 11,
   "id": "538a3cd2",
   "metadata": {},
   "outputs": [
    {
     "data": {
      "text/plain": [
       "Data Through Date                               0.000000\n",
       "Project ID                                      0.001375\n",
       "Interconnection Date                            0.000000\n",
       "Utility                                         0.000000\n",
       "City/Town                                       0.026591\n",
       "County                                          0.000000\n",
       "Zip                                             0.044013\n",
       "Division                                       39.077551\n",
       "Substation                                     36.652225\n",
       "Circuit ID                                      0.013754\n",
       "Developer                                       4.835981\n",
       "Metering Method                                 0.212273\n",
       "Estimated PV System Size (kWdc)                 0.000000\n",
       "PV System Size (kWac)                           0.000000\n",
       "Estimated Annual PV Energy Production (kWh)     0.000000\n",
       "Energy Storage System Size (kWac)              98.124384\n",
       "Number of Projects                              0.000000\n",
       "dtype: float64"
      ]
     },
     "execution_count": 11,
     "metadata": {},
     "output_type": "execute_result"
    }
   ],
   "source": [
    "data.isnull().sum()/len(data) * 100"
   ]
  },
  {
   "cell_type": "code",
   "execution_count": 12,
   "id": "49a1207a",
   "metadata": {},
   "outputs": [
    {
     "data": {
      "text/plain": [
       "Data Through Date                                   0\n",
       "Project ID                                          3\n",
       "Interconnection Date                                0\n",
       "Utility                                             0\n",
       "City/Town                                          58\n",
       "County                                              0\n",
       "Zip                                                96\n",
       "Division                                        85234\n",
       "Substation                                      79944\n",
       "Circuit ID                                         30\n",
       "Developer                                       10548\n",
       "Metering Method                                   463\n",
       "Estimated PV System Size (kWdc)                     0\n",
       "PV System Size (kWac)                               0\n",
       "Estimated Annual PV Energy Production (kWh)         0\n",
       "Energy Storage System Size (kWac)              214024\n",
       "Number of Projects                                  0\n",
       "dtype: int64"
      ]
     },
     "execution_count": 12,
     "metadata": {},
     "output_type": "execute_result"
    }
   ],
   "source": [
    "data.isnull().sum()"
   ]
  },
  {
   "cell_type": "code",
   "execution_count": 13,
   "id": "2fce0902",
   "metadata": {},
   "outputs": [],
   "source": [
    "columns_to_drop=['Project ID','Zip','Energy Storage System Size (kWac)','Circuit ID','Division','Substation']\n",
    "data.drop(columns=columns_to_drop, axis=1, inplace=True)"
   ]
  },
  {
   "cell_type": "code",
   "execution_count": 14,
   "id": "d62ca27b",
   "metadata": {},
   "outputs": [
    {
     "data": {
      "text/html": [
       "<div>\n",
       "<style scoped>\n",
       "    .dataframe tbody tr th:only-of-type {\n",
       "        vertical-align: middle;\n",
       "    }\n",
       "\n",
       "    .dataframe tbody tr th {\n",
       "        vertical-align: top;\n",
       "    }\n",
       "\n",
       "    .dataframe thead th {\n",
       "        text-align: right;\n",
       "    }\n",
       "</style>\n",
       "<table border=\"1\" class=\"dataframe\">\n",
       "  <thead>\n",
       "    <tr style=\"text-align: right;\">\n",
       "      <th></th>\n",
       "      <th>Data Through Date</th>\n",
       "      <th>Interconnection Date</th>\n",
       "      <th>Utility</th>\n",
       "      <th>City/Town</th>\n",
       "      <th>County</th>\n",
       "      <th>Developer</th>\n",
       "      <th>Metering Method</th>\n",
       "      <th>Estimated PV System Size (kWdc)</th>\n",
       "      <th>PV System Size (kWac)</th>\n",
       "      <th>Estimated Annual PV Energy Production (kWh)</th>\n",
       "      <th>Number of Projects</th>\n",
       "    </tr>\n",
       "  </thead>\n",
       "  <tbody>\n",
       "    <tr>\n",
       "      <th>0</th>\n",
       "      <td>12/31/2023</td>\n",
       "      <td>12/29/2023</td>\n",
       "      <td>Con Ed</td>\n",
       "      <td>Richmond Hill</td>\n",
       "      <td>Queens</td>\n",
       "      <td>Kamtech Solar Solutions</td>\n",
       "      <td>NM</td>\n",
       "      <td>6.05</td>\n",
       "      <td>5.17</td>\n",
       "      <td>7100</td>\n",
       "      <td>1</td>\n",
       "    </tr>\n",
       "    <tr>\n",
       "      <th>1</th>\n",
       "      <td>12/31/2023</td>\n",
       "      <td>12/29/2023</td>\n",
       "      <td>Con Ed</td>\n",
       "      <td>Bronx</td>\n",
       "      <td>Bronx</td>\n",
       "      <td>Kamtech Solar Solutions</td>\n",
       "      <td>NM</td>\n",
       "      <td>6.74</td>\n",
       "      <td>5.76</td>\n",
       "      <td>7911</td>\n",
       "      <td>1</td>\n",
       "    </tr>\n",
       "    <tr>\n",
       "      <th>2</th>\n",
       "      <td>12/31/2023</td>\n",
       "      <td>12/29/2023</td>\n",
       "      <td>Con Ed</td>\n",
       "      <td>Brooklyn</td>\n",
       "      <td>Kings</td>\n",
       "      <td>SUNCO</td>\n",
       "      <td>NM</td>\n",
       "      <td>3.05</td>\n",
       "      <td>2.61</td>\n",
       "      <td>3585</td>\n",
       "      <td>1</td>\n",
       "    </tr>\n",
       "    <tr>\n",
       "      <th>3</th>\n",
       "      <td>12/31/2023</td>\n",
       "      <td>12/29/2023</td>\n",
       "      <td>Con Ed</td>\n",
       "      <td>Brooklyn</td>\n",
       "      <td>Kings</td>\n",
       "      <td>Kamtech Solar Solutions</td>\n",
       "      <td>NM</td>\n",
       "      <td>5.62</td>\n",
       "      <td>4.80</td>\n",
       "      <td>6592</td>\n",
       "      <td>1</td>\n",
       "    </tr>\n",
       "    <tr>\n",
       "      <th>4</th>\n",
       "      <td>12/31/2023</td>\n",
       "      <td>12/28/2023</td>\n",
       "      <td>Con Ed</td>\n",
       "      <td>Springfield Gardens</td>\n",
       "      <td>Queens</td>\n",
       "      <td>Kamtech Solar Solutions</td>\n",
       "      <td>NM</td>\n",
       "      <td>6.05</td>\n",
       "      <td>5.17</td>\n",
       "      <td>7100</td>\n",
       "      <td>1</td>\n",
       "    </tr>\n",
       "  </tbody>\n",
       "</table>\n",
       "</div>"
      ],
      "text/plain": [
       "  Data Through Date Interconnection Date Utility            City/Town  County  \\\n",
       "0        12/31/2023           12/29/2023  Con Ed        Richmond Hill  Queens   \n",
       "1        12/31/2023           12/29/2023  Con Ed                Bronx   Bronx   \n",
       "2        12/31/2023           12/29/2023  Con Ed             Brooklyn   Kings   \n",
       "3        12/31/2023           12/29/2023  Con Ed             Brooklyn   Kings   \n",
       "4        12/31/2023           12/28/2023  Con Ed  Springfield Gardens  Queens   \n",
       "\n",
       "                 Developer Metering Method  Estimated PV System Size (kWdc)  \\\n",
       "0  Kamtech Solar Solutions              NM                             6.05   \n",
       "1  Kamtech Solar Solutions              NM                             6.74   \n",
       "2                    SUNCO              NM                             3.05   \n",
       "3  Kamtech Solar Solutions              NM                             5.62   \n",
       "4  Kamtech Solar Solutions              NM                             6.05   \n",
       "\n",
       "   PV System Size (kWac)  Estimated Annual PV Energy Production (kWh)  \\\n",
       "0                   5.17                                         7100   \n",
       "1                   5.76                                         7911   \n",
       "2                   2.61                                         3585   \n",
       "3                   4.80                                         6592   \n",
       "4                   5.17                                         7100   \n",
       "\n",
       "   Number of Projects  \n",
       "0                   1  \n",
       "1                   1  \n",
       "2                   1  \n",
       "3                   1  \n",
       "4                   1  "
      ]
     },
     "execution_count": 14,
     "metadata": {},
     "output_type": "execute_result"
    }
   ],
   "source": [
    "data.head(5)"
   ]
  },
  {
   "cell_type": "code",
   "execution_count": 15,
   "id": "ead2261b",
   "metadata": {
    "scrolled": true
   },
   "outputs": [
    {
     "data": {
      "text/plain": [
       "Data Through Date                              0.000000\n",
       "Interconnection Date                           0.000000\n",
       "Utility                                        0.000000\n",
       "City/Town                                      0.026591\n",
       "County                                         0.000000\n",
       "Developer                                      4.835981\n",
       "Metering Method                                0.212273\n",
       "Estimated PV System Size (kWdc)                0.000000\n",
       "PV System Size (kWac)                          0.000000\n",
       "Estimated Annual PV Energy Production (kWh)    0.000000\n",
       "Number of Projects                             0.000000\n",
       "dtype: float64"
      ]
     },
     "execution_count": 15,
     "metadata": {},
     "output_type": "execute_result"
    }
   ],
   "source": [
    "data.isnull().sum()/len(data) * 100"
   ]
  },
  {
   "cell_type": "code",
   "execution_count": 16,
   "id": "196870e6",
   "metadata": {},
   "outputs": [],
   "source": [
    "data =data.dropna(subset=['City/Town'])"
   ]
  },
  {
   "cell_type": "code",
   "execution_count": 17,
   "id": "68fd5e40",
   "metadata": {},
   "outputs": [],
   "source": [
    "data['City/Town'] = data['City/Town'].apply(lambda x: x.lower())"
   ]
  },
  {
   "cell_type": "code",
   "execution_count": 18,
   "id": "697d4e68",
   "metadata": {
    "scrolled": false
   },
   "outputs": [
    {
     "data": {
      "text/plain": [
       "staten island     12766\n",
       "brooklyn          11946\n",
       "bronx              5932\n",
       "jamaica            4104\n",
       "lindenhurst        2127\n",
       "                  ...  \n",
       "schodack              1\n",
       "east pembroke         1\n",
       "otisco                1\n",
       "nelliston             1\n",
       "ontario center        1\n",
       "Name: City/Town, Length: 1911, dtype: int64"
      ]
     },
     "execution_count": 18,
     "metadata": {},
     "output_type": "execute_result"
    }
   ],
   "source": [
    "data['City/Town'].value_counts()"
   ]
  },
  {
   "cell_type": "code",
   "execution_count": 19,
   "id": "09c117d9",
   "metadata": {},
   "outputs": [
    {
     "data": {
      "text/plain": [
       "array(['Kamtech Solar Solutions', 'SUNCO', 'Trinity Solar', ...,\n",
       "       'Curtis Snyder', 'Performance Systems Contracting',\n",
       "       'Solar Design Assoc. Inc.'], dtype=object)"
      ]
     },
     "execution_count": 19,
     "metadata": {},
     "output_type": "execute_result"
    }
   ],
   "source": [
    "data['Developer'].unique()"
   ]
  },
  {
   "cell_type": "code",
   "execution_count": 20,
   "id": "4ff51ada",
   "metadata": {},
   "outputs": [],
   "source": [
    "data['Developer'].fillna(pd.Series(np.random.choice(data['Developer'].dropna().unique(), size=len(data['Developer']))), inplace=True)"
   ]
  },
  {
   "cell_type": "code",
   "execution_count": 21,
   "id": "c8d86dea",
   "metadata": {},
   "outputs": [
    {
     "data": {
      "text/plain": [
       "53"
      ]
     },
     "execution_count": 21,
     "metadata": {},
     "output_type": "execute_result"
    }
   ],
   "source": [
    "data['Developer'].isnull().sum()"
   ]
  },
  {
   "cell_type": "code",
   "execution_count": 22,
   "id": "4a6f9cd9",
   "metadata": {},
   "outputs": [],
   "source": [
    "data['Developer'].fillna('Other', inplace=True)"
   ]
  },
  {
   "cell_type": "code",
   "execution_count": 23,
   "id": "8f967cf1",
   "metadata": {},
   "outputs": [
    {
     "data": {
      "text/plain": [
       "0"
      ]
     },
     "execution_count": 23,
     "metadata": {},
     "output_type": "execute_result"
    }
   ],
   "source": [
    "data['Developer'].isnull().sum()"
   ]
  },
  {
   "cell_type": "code",
   "execution_count": 24,
   "id": "d2ab7493",
   "metadata": {},
   "outputs": [
    {
     "data": {
      "text/plain": [
       "array(['NM', 'CDG', 'RC', nan, 'RNM', 'FIT', 'RFP'], dtype=object)"
      ]
     },
     "execution_count": 24,
     "metadata": {},
     "output_type": "execute_result"
    }
   ],
   "source": [
    "data['Metering Method'].unique()"
   ]
  },
  {
   "cell_type": "code",
   "execution_count": 25,
   "id": "9d62091b",
   "metadata": {},
   "outputs": [],
   "source": [
    "data['Metering Method'].fillna(data['Metering Method'].mode()[0], inplace=True)"
   ]
  },
  {
   "cell_type": "code",
   "execution_count": 26,
   "id": "dfe72424",
   "metadata": {},
   "outputs": [
    {
     "data": {
      "text/plain": [
       "Data Through Date                              0\n",
       "Interconnection Date                           0\n",
       "Utility                                        0\n",
       "City/Town                                      0\n",
       "County                                         0\n",
       "Developer                                      0\n",
       "Metering Method                                0\n",
       "Estimated PV System Size (kWdc)                0\n",
       "PV System Size (kWac)                          0\n",
       "Estimated Annual PV Energy Production (kWh)    0\n",
       "Number of Projects                             0\n",
       "dtype: int64"
      ]
     },
     "execution_count": 26,
     "metadata": {},
     "output_type": "execute_result"
    }
   ],
   "source": [
    "data.isnull().sum()"
   ]
  },
  {
   "cell_type": "code",
   "execution_count": 27,
   "id": "fc1b6a66",
   "metadata": {},
   "outputs": [
    {
     "data": {
      "text/plain": [
       "NM     215604\n",
       "RNM      1164\n",
       "CDG      1090\n",
       "RC        108\n",
       "FIT        87\n",
       "RFP         4\n",
       "Name: Metering Method, dtype: int64"
      ]
     },
     "execution_count": 27,
     "metadata": {},
     "output_type": "execute_result"
    }
   ],
   "source": [
    "data['Metering Method'].value_counts()"
   ]
  },
  {
   "cell_type": "code",
   "execution_count": 28,
   "id": "336affff",
   "metadata": {},
   "outputs": [],
   "source": [
    "data = data[~data['Metering Method'].isin(['RC', 'FIT', 'RFP'])]"
   ]
  },
  {
   "cell_type": "code",
   "execution_count": 29,
   "id": "3710a81e",
   "metadata": {},
   "outputs": [
    {
     "data": {
      "text/plain": [
       "NM     215604\n",
       "RNM      1164\n",
       "CDG      1090\n",
       "Name: Metering Method, dtype: int64"
      ]
     },
     "execution_count": 29,
     "metadata": {},
     "output_type": "execute_result"
    }
   ],
   "source": [
    "data['Metering Method'].value_counts()"
   ]
  },
  {
   "cell_type": "code",
   "execution_count": 30,
   "id": "89513c19",
   "metadata": {},
   "outputs": [
    {
     "data": {
      "text/plain": [
       "Index(['Data Through Date', 'Interconnection Date', 'Utility', 'City/Town',\n",
       "       'County', 'Developer', 'Metering Method',\n",
       "       'Estimated PV System Size (kWdc)', 'PV System Size (kWac)',\n",
       "       'Estimated Annual PV Energy Production (kWh)', 'Number of Projects'],\n",
       "      dtype='object')"
      ]
     },
     "execution_count": 30,
     "metadata": {},
     "output_type": "execute_result"
    }
   ],
   "source": [
    "data.columns"
   ]
  },
  {
   "cell_type": "code",
   "execution_count": 31,
   "id": "80b102b0",
   "metadata": {},
   "outputs": [
    {
     "data": {
      "text/plain": [
       "PSEGLI            84961\n",
       "Con Ed            64648\n",
       "National Grid     26400\n",
       "Central Hudson    15080\n",
       "O&R               12152\n",
       "NYSEG             11754\n",
       "RGE                2863\n",
       "Name: Utility, dtype: int64"
      ]
     },
     "execution_count": 31,
     "metadata": {},
     "output_type": "execute_result"
    }
   ],
   "source": [
    "data['Utility'].value_counts()"
   ]
  },
  {
   "cell_type": "code",
   "execution_count": 32,
   "id": "eaf638d5",
   "metadata": {},
   "outputs": [
    {
     "data": {
      "text/plain": [
       "Suffolk        51605\n",
       "Nassau         32194\n",
       "Queens         23007\n",
       "Richmond       12765\n",
       "Westchester    12308\n",
       "               ...  \n",
       "Seneca           167\n",
       "Allegany         160\n",
       "Schuyler         133\n",
       "Lewis            100\n",
       "Hamilton          44\n",
       "Name: County, Length: 62, dtype: int64"
      ]
     },
     "execution_count": 32,
     "metadata": {},
     "output_type": "execute_result"
    }
   ],
   "source": [
    "data['County'].value_counts()"
   ]
  },
  {
   "cell_type": "code",
   "execution_count": 33,
   "id": "2156d111",
   "metadata": {},
   "outputs": [
    {
     "data": {
      "text/plain": [
       "Vivint Solar                            12824\n",
       "MOMENTUM SOLAR                          12698\n",
       "Sunrun Inc                              12487\n",
       "Solar City                              11627\n",
       "Other                                    6402\n",
       "                                        ...  \n",
       "Vara Solar                                  1\n",
       "Laura matthews (Collegiate Builders)        1\n",
       "Map Energy Solutions, LLC                   1\n",
       "GSPP Sentinel Heights Road, LLC             1\n",
       "Solar Bear Energy LLC                       1\n",
       "Name: Developer, Length: 2568, dtype: int64"
      ]
     },
     "execution_count": 33,
     "metadata": {},
     "output_type": "execute_result"
    }
   ],
   "source": [
    "data['Developer'].value_counts()"
   ]
  },
  {
   "cell_type": "code",
   "execution_count": 34,
   "id": "e8ae4766",
   "metadata": {},
   "outputs": [
    {
     "data": {
      "text/html": [
       "<div>\n",
       "<style scoped>\n",
       "    .dataframe tbody tr th:only-of-type {\n",
       "        vertical-align: middle;\n",
       "    }\n",
       "\n",
       "    .dataframe tbody tr th {\n",
       "        vertical-align: top;\n",
       "    }\n",
       "\n",
       "    .dataframe thead th {\n",
       "        text-align: right;\n",
       "    }\n",
       "</style>\n",
       "<table border=\"1\" class=\"dataframe\">\n",
       "  <thead>\n",
       "    <tr style=\"text-align: right;\">\n",
       "      <th></th>\n",
       "      <th>Data Through Date</th>\n",
       "      <th>Interconnection Date</th>\n",
       "      <th>Utility</th>\n",
       "      <th>City/Town</th>\n",
       "      <th>County</th>\n",
       "      <th>Developer</th>\n",
       "      <th>Metering Method</th>\n",
       "      <th>Estimated PV System Size (kWdc)</th>\n",
       "      <th>PV System Size (kWac)</th>\n",
       "      <th>Estimated Annual PV Energy Production (kWh)</th>\n",
       "      <th>Number of Projects</th>\n",
       "    </tr>\n",
       "  </thead>\n",
       "  <tbody>\n",
       "    <tr>\n",
       "      <th>0</th>\n",
       "      <td>12/31/2023</td>\n",
       "      <td>12/29/2023</td>\n",
       "      <td>Con Ed</td>\n",
       "      <td>richmond hill</td>\n",
       "      <td>Queens</td>\n",
       "      <td>Kamtech Solar Solutions</td>\n",
       "      <td>NM</td>\n",
       "      <td>6.05</td>\n",
       "      <td>5.17</td>\n",
       "      <td>7100</td>\n",
       "      <td>1</td>\n",
       "    </tr>\n",
       "    <tr>\n",
       "      <th>1</th>\n",
       "      <td>12/31/2023</td>\n",
       "      <td>12/29/2023</td>\n",
       "      <td>Con Ed</td>\n",
       "      <td>bronx</td>\n",
       "      <td>Bronx</td>\n",
       "      <td>Kamtech Solar Solutions</td>\n",
       "      <td>NM</td>\n",
       "      <td>6.74</td>\n",
       "      <td>5.76</td>\n",
       "      <td>7911</td>\n",
       "      <td>1</td>\n",
       "    </tr>\n",
       "    <tr>\n",
       "      <th>2</th>\n",
       "      <td>12/31/2023</td>\n",
       "      <td>12/29/2023</td>\n",
       "      <td>Con Ed</td>\n",
       "      <td>brooklyn</td>\n",
       "      <td>Kings</td>\n",
       "      <td>SUNCO</td>\n",
       "      <td>NM</td>\n",
       "      <td>3.05</td>\n",
       "      <td>2.61</td>\n",
       "      <td>3585</td>\n",
       "      <td>1</td>\n",
       "    </tr>\n",
       "    <tr>\n",
       "      <th>3</th>\n",
       "      <td>12/31/2023</td>\n",
       "      <td>12/29/2023</td>\n",
       "      <td>Con Ed</td>\n",
       "      <td>brooklyn</td>\n",
       "      <td>Kings</td>\n",
       "      <td>Kamtech Solar Solutions</td>\n",
       "      <td>NM</td>\n",
       "      <td>5.62</td>\n",
       "      <td>4.80</td>\n",
       "      <td>6592</td>\n",
       "      <td>1</td>\n",
       "    </tr>\n",
       "    <tr>\n",
       "      <th>4</th>\n",
       "      <td>12/31/2023</td>\n",
       "      <td>12/28/2023</td>\n",
       "      <td>Con Ed</td>\n",
       "      <td>springfield gardens</td>\n",
       "      <td>Queens</td>\n",
       "      <td>Kamtech Solar Solutions</td>\n",
       "      <td>NM</td>\n",
       "      <td>6.05</td>\n",
       "      <td>5.17</td>\n",
       "      <td>7100</td>\n",
       "      <td>1</td>\n",
       "    </tr>\n",
       "  </tbody>\n",
       "</table>\n",
       "</div>"
      ],
      "text/plain": [
       "  Data Through Date Interconnection Date Utility            City/Town  County  \\\n",
       "0        12/31/2023           12/29/2023  Con Ed        richmond hill  Queens   \n",
       "1        12/31/2023           12/29/2023  Con Ed                bronx   Bronx   \n",
       "2        12/31/2023           12/29/2023  Con Ed             brooklyn   Kings   \n",
       "3        12/31/2023           12/29/2023  Con Ed             brooklyn   Kings   \n",
       "4        12/31/2023           12/28/2023  Con Ed  springfield gardens  Queens   \n",
       "\n",
       "                 Developer Metering Method  Estimated PV System Size (kWdc)  \\\n",
       "0  Kamtech Solar Solutions              NM                             6.05   \n",
       "1  Kamtech Solar Solutions              NM                             6.74   \n",
       "2                    SUNCO              NM                             3.05   \n",
       "3  Kamtech Solar Solutions              NM                             5.62   \n",
       "4  Kamtech Solar Solutions              NM                             6.05   \n",
       "\n",
       "   PV System Size (kWac)  Estimated Annual PV Energy Production (kWh)  \\\n",
       "0                   5.17                                         7100   \n",
       "1                   5.76                                         7911   \n",
       "2                   2.61                                         3585   \n",
       "3                   4.80                                         6592   \n",
       "4                   5.17                                         7100   \n",
       "\n",
       "   Number of Projects  \n",
       "0                   1  \n",
       "1                   1  \n",
       "2                   1  \n",
       "3                   1  \n",
       "4                   1  "
      ]
     },
     "execution_count": 34,
     "metadata": {},
     "output_type": "execute_result"
    }
   ],
   "source": [
    "data.head()"
   ]
  },
  {
   "cell_type": "code",
   "execution_count": 35,
   "id": "783723ad",
   "metadata": {},
   "outputs": [
    {
     "data": {
      "text/plain": [
       "Data Through Date                              0\n",
       "Interconnection Date                           0\n",
       "Utility                                        0\n",
       "City/Town                                      0\n",
       "County                                         0\n",
       "Developer                                      0\n",
       "Metering Method                                0\n",
       "Estimated PV System Size (kWdc)                0\n",
       "PV System Size (kWac)                          0\n",
       "Estimated Annual PV Energy Production (kWh)    0\n",
       "Number of Projects                             0\n",
       "dtype: int64"
      ]
     },
     "execution_count": 35,
     "metadata": {},
     "output_type": "execute_result"
    }
   ],
   "source": [
    "data.isnull().sum()"
   ]
  },
  {
   "cell_type": "code",
   "execution_count": 36,
   "id": "b6986029",
   "metadata": {},
   "outputs": [
    {
     "data": {
      "text/html": [
       "<div>\n",
       "<style scoped>\n",
       "    .dataframe tbody tr th:only-of-type {\n",
       "        vertical-align: middle;\n",
       "    }\n",
       "\n",
       "    .dataframe tbody tr th {\n",
       "        vertical-align: top;\n",
       "    }\n",
       "\n",
       "    .dataframe thead th {\n",
       "        text-align: right;\n",
       "    }\n",
       "</style>\n",
       "<table border=\"1\" class=\"dataframe\">\n",
       "  <thead>\n",
       "    <tr style=\"text-align: right;\">\n",
       "      <th></th>\n",
       "      <th>Data Through Date</th>\n",
       "      <th>Interconnection Date</th>\n",
       "      <th>Utility</th>\n",
       "      <th>City/Town</th>\n",
       "      <th>County</th>\n",
       "      <th>Developer</th>\n",
       "      <th>Metering Method</th>\n",
       "      <th>Estimated PV System Size (kWdc)</th>\n",
       "      <th>PV System Size (kWac)</th>\n",
       "      <th>Estimated Annual PV Energy Production (kWh)</th>\n",
       "      <th>Number of Projects</th>\n",
       "    </tr>\n",
       "  </thead>\n",
       "  <tbody>\n",
       "    <tr>\n",
       "      <th>0</th>\n",
       "      <td>12/31/2023</td>\n",
       "      <td>12/29/2023</td>\n",
       "      <td>Con Ed</td>\n",
       "      <td>richmond hill</td>\n",
       "      <td>Queens</td>\n",
       "      <td>Kamtech Solar Solutions</td>\n",
       "      <td>NM</td>\n",
       "      <td>6.05</td>\n",
       "      <td>5.17</td>\n",
       "      <td>7100</td>\n",
       "      <td>1</td>\n",
       "    </tr>\n",
       "    <tr>\n",
       "      <th>1</th>\n",
       "      <td>12/31/2023</td>\n",
       "      <td>12/29/2023</td>\n",
       "      <td>Con Ed</td>\n",
       "      <td>bronx</td>\n",
       "      <td>Bronx</td>\n",
       "      <td>Kamtech Solar Solutions</td>\n",
       "      <td>NM</td>\n",
       "      <td>6.74</td>\n",
       "      <td>5.76</td>\n",
       "      <td>7911</td>\n",
       "      <td>1</td>\n",
       "    </tr>\n",
       "    <tr>\n",
       "      <th>2</th>\n",
       "      <td>12/31/2023</td>\n",
       "      <td>12/29/2023</td>\n",
       "      <td>Con Ed</td>\n",
       "      <td>brooklyn</td>\n",
       "      <td>Kings</td>\n",
       "      <td>SUNCO</td>\n",
       "      <td>NM</td>\n",
       "      <td>3.05</td>\n",
       "      <td>2.61</td>\n",
       "      <td>3585</td>\n",
       "      <td>1</td>\n",
       "    </tr>\n",
       "    <tr>\n",
       "      <th>3</th>\n",
       "      <td>12/31/2023</td>\n",
       "      <td>12/29/2023</td>\n",
       "      <td>Con Ed</td>\n",
       "      <td>brooklyn</td>\n",
       "      <td>Kings</td>\n",
       "      <td>Kamtech Solar Solutions</td>\n",
       "      <td>NM</td>\n",
       "      <td>5.62</td>\n",
       "      <td>4.80</td>\n",
       "      <td>6592</td>\n",
       "      <td>1</td>\n",
       "    </tr>\n",
       "    <tr>\n",
       "      <th>4</th>\n",
       "      <td>12/31/2023</td>\n",
       "      <td>12/28/2023</td>\n",
       "      <td>Con Ed</td>\n",
       "      <td>springfield gardens</td>\n",
       "      <td>Queens</td>\n",
       "      <td>Kamtech Solar Solutions</td>\n",
       "      <td>NM</td>\n",
       "      <td>6.05</td>\n",
       "      <td>5.17</td>\n",
       "      <td>7100</td>\n",
       "      <td>1</td>\n",
       "    </tr>\n",
       "  </tbody>\n",
       "</table>\n",
       "</div>"
      ],
      "text/plain": [
       "  Data Through Date Interconnection Date Utility            City/Town  County  \\\n",
       "0        12/31/2023           12/29/2023  Con Ed        richmond hill  Queens   \n",
       "1        12/31/2023           12/29/2023  Con Ed                bronx   Bronx   \n",
       "2        12/31/2023           12/29/2023  Con Ed             brooklyn   Kings   \n",
       "3        12/31/2023           12/29/2023  Con Ed             brooklyn   Kings   \n",
       "4        12/31/2023           12/28/2023  Con Ed  springfield gardens  Queens   \n",
       "\n",
       "                 Developer Metering Method  Estimated PV System Size (kWdc)  \\\n",
       "0  Kamtech Solar Solutions              NM                             6.05   \n",
       "1  Kamtech Solar Solutions              NM                             6.74   \n",
       "2                    SUNCO              NM                             3.05   \n",
       "3  Kamtech Solar Solutions              NM                             5.62   \n",
       "4  Kamtech Solar Solutions              NM                             6.05   \n",
       "\n",
       "   PV System Size (kWac)  Estimated Annual PV Energy Production (kWh)  \\\n",
       "0                   5.17                                         7100   \n",
       "1                   5.76                                         7911   \n",
       "2                   2.61                                         3585   \n",
       "3                   4.80                                         6592   \n",
       "4                   5.17                                         7100   \n",
       "\n",
       "   Number of Projects  \n",
       "0                   1  \n",
       "1                   1  \n",
       "2                   1  \n",
       "3                   1  \n",
       "4                   1  "
      ]
     },
     "execution_count": 36,
     "metadata": {},
     "output_type": "execute_result"
    }
   ],
   "source": [
    "data.head()"
   ]
  },
  {
   "cell_type": "markdown",
   "id": "ccb422f4",
   "metadata": {},
   "source": [
    "# Detecting Outliers and removing them"
   ]
  },
  {
   "cell_type": "code",
   "execution_count": 37,
   "id": "7157473d",
   "metadata": {},
   "outputs": [
    {
     "data": {
      "image/png": "[encoded data removed]",
      "text/plain": [
       "<Figure size 640x480 with 1 Axes>"
      ]
     },
     "metadata": {},
     "output_type": "display_data"
    }
   ],
   "source": [
    "sns.boxplot(x=data['Estimated Annual PV Energy Production (kWh)'])\n",
    "plt.show()"
   ]
  },
  {
   "cell_type": "code",
   "execution_count": 38,
   "id": "bac619cf",
   "metadata": {},
   "outputs": [],
   "source": [
    "column_to_cap= 'Estimated Annual PV Energy Production (kWh)'\n",
    "\n",
    "Q1=data[column_to_cap].quantile(0.25)\n",
    "Q3=data[column_to_cap].quantile(0.75)\n",
    "IQR=Q3-Q1\n",
    "\n",
    "lower_limit=Q1-1.5*IQR\n",
    "upper_limit=Q3+1.5*IQR\n",
    "data[column_to_cap]=data[column_to_cap].apply(lambda x: lower_limit if x < lower_limit else(upper_limit if x > upper_limit else x))"
   ]
  },
  {
   "cell_type": "code",
   "execution_count": 39,
   "id": "d200754d",
   "metadata": {},
   "outputs": [
    {
     "data": {
      "text/plain": [
       "-2514.0"
      ]
     },
     "execution_count": 39,
     "metadata": {},
     "output_type": "execute_result"
    }
   ],
   "source": [
    "lower_limit"
   ]
  },
  {
   "cell_type": "code",
   "execution_count": 40,
   "id": "0af24165",
   "metadata": {},
   "outputs": [
    {
     "data": {
      "text/plain": [
       "20670.0"
      ]
     },
     "execution_count": 40,
     "metadata": {},
     "output_type": "execute_result"
    }
   ],
   "source": [
    "upper_limit"
   ]
  },
  {
   "cell_type": "code",
   "execution_count": 41,
   "id": "688d7f64",
   "metadata": {},
   "outputs": [
    {
     "data": {
      "image/png": "[encoded data removed]",
      "text/plain": [
       "<Figure size 640x480 with 1 Axes>"
      ]
     },
     "metadata": {},
     "output_type": "display_data"
    }
   ],
   "source": [
    "sns.boxplot(x=data['Estimated Annual PV Energy Production (kWh)'])\n",
    "plt.show()"
   ]
  },
  {
   "cell_type": "code",
   "execution_count": 42,
   "id": "c648104a",
   "metadata": {},
   "outputs": [
    {
     "data": {
      "image/png": "[encoded data removed]",
      "text/plain": [
       "<Figure size 640x480 with 1 Axes>"
      ]
     },
     "metadata": {},
     "output_type": "display_data"
    }
   ],
   "source": [
    "sns.boxplot(x=data['Estimated PV System Size (kWdc)'])\n",
    "plt.show()"
   ]
  },
  {
   "cell_type": "code",
   "execution_count": 43,
   "id": "a9e5e38c",
   "metadata": {},
   "outputs": [],
   "source": [
    "column_to_cap= 'Estimated PV System Size (kWdc)'\n",
    "\n",
    "Q1=data[column_to_cap].quantile(0.25)\n",
    "Q3=data[column_to_cap].quantile(0.75)\n",
    "IQR=Q3-Q1\n",
    "\n",
    "lower_limit=Q1-1.5*IQR\n",
    "upper_limit=Q3+1.5*IQR\n",
    "data[column_to_cap]=data[column_to_cap].apply(lambda x: lower_limit if x < lower_limit else(upper_limit if x > upper_limit else x))"
   ]
  },
  {
   "cell_type": "code",
   "execution_count": 44,
   "id": "fc8822aa",
   "metadata": {},
   "outputs": [
    {
     "data": {
      "text/plain": [
       "-2.125"
      ]
     },
     "execution_count": 44,
     "metadata": {},
     "output_type": "execute_result"
    }
   ],
   "source": [
    "lower_limit"
   ]
  },
  {
   "cell_type": "code",
   "execution_count": 45,
   "id": "ce432d7f",
   "metadata": {},
   "outputs": [
    {
     "data": {
      "text/plain": [
       "17.595"
      ]
     },
     "execution_count": 45,
     "metadata": {},
     "output_type": "execute_result"
    }
   ],
   "source": [
    "upper_limit"
   ]
  },
  {
   "cell_type": "code",
   "execution_count": 46,
   "id": "89f6500a",
   "metadata": {},
   "outputs": [
    {
     "data": {
      "image/png": "[encoded data removed]",
      "text/plain": [
       "<Figure size 640x480 with 1 Axes>"
      ]
     },
     "metadata": {},
     "output_type": "display_data"
    }
   ],
   "source": [
    "sns.boxplot(x=data['Estimated PV System Size (kWdc)'])\n",
    "plt.show()"
   ]
  },
  {
   "cell_type": "code",
   "execution_count": 47,
   "id": "57f3902f",
   "metadata": {},
   "outputs": [
    {
     "data": {
      "image/png": "[encoded data removed]",
      "text/plain": [
       "<Figure size 640x480 with 1 Axes>"
      ]
     },
     "metadata": {},
     "output_type": "display_data"
    }
   ],
   "source": [
    "sns.boxplot(x=data['PV System Size (kWac)'])\n",
    "plt.show()"
   ]
  },
  {
   "cell_type": "code",
   "execution_count": 48,
   "id": "41589ac2",
   "metadata": {},
   "outputs": [],
   "source": [
    "column_to_cap= 'PV System Size (kWac)'\n",
    "\n",
    "Q1=data[column_to_cap].quantile(0.25)\n",
    "Q3=data[column_to_cap].quantile(0.75)\n",
    "IQR=Q3-Q1\n",
    "\n",
    "lower_limit=Q1-1.5*IQR\n",
    "upper_limit=Q3+1.5*IQR\n",
    "data[column_to_cap]=data[column_to_cap].apply(lambda x: lower_limit if x < lower_limit else(upper_limit if x > upper_limit else x))"
   ]
  },
  {
   "cell_type": "code",
   "execution_count": 49,
   "id": "8abd4576",
   "metadata": {},
   "outputs": [
    {
     "data": {
      "text/plain": [
       "-1.830000000000001"
      ]
     },
     "execution_count": 49,
     "metadata": {},
     "output_type": "execute_result"
    }
   ],
   "source": [
    "lower_limit"
   ]
  },
  {
   "cell_type": "code",
   "execution_count": 50,
   "id": "ef72ded1",
   "metadata": {},
   "outputs": [
    {
     "data": {
      "text/plain": [
       "15.05"
      ]
     },
     "execution_count": 50,
     "metadata": {},
     "output_type": "execute_result"
    }
   ],
   "source": [
    "upper_limit"
   ]
  },
  {
   "cell_type": "code",
   "execution_count": 51,
   "id": "ac50b879",
   "metadata": {},
   "outputs": [
    {
     "data": {
      "image/png": "[encoded data removed]",
      "text/plain": [
       "<Figure size 640x480 with 1 Axes>"
      ]
     },
     "metadata": {},
     "output_type": "display_data"
    }
   ],
   "source": [
    "sns.boxplot(x=data['PV System Size (kWac)'])\n",
    "plt.show()"
   ]
  },
  {
   "cell_type": "markdown",
   "id": "310d2621",
   "metadata": {},
   "source": [
    "# Exploratory Data Analysis"
   ]
  },
  {
   "cell_type": "code",
   "execution_count": 52,
   "id": "2a64d83c",
   "metadata": {},
   "outputs": [
    {
     "data": {
      "image/png": "[encoded data removed]",
      "text/plain": [
       "<Figure size 1000x600 with 1 Axes>"
      ]
     },
     "metadata": {},
     "output_type": "display_data"
    }
   ],
   "source": [
    "city_counts = data['City/Town'].value_counts()\n",
    "\n",
    "top_n = 15\n",
    "top_cities = city_counts.head(top_n)\n",
    "\n",
    "plt.figure(figsize=(10, 6))\n",
    "top_cities.plot(kind='bar', color='lightgreen')\n",
    "plt.title(f'Top {top_n} City/Town')\n",
    "plt.xlabel('City/Town')\n",
    "plt.ylabel('Count')\n",
    "plt.xticks(rotation=45)\n",
    "plt.show()\n"
   ]
  },
  {
   "cell_type": "code",
   "execution_count": 53,
   "id": "942b10e6",
   "metadata": {},
   "outputs": [
    {
     "data": {
      "image/png": "[encoded data removed]",
      "text/plain": [
       "<Figure size 1000x600 with 1 Axes>"
      ]
     },
     "metadata": {},
     "output_type": "display_data"
    }
   ],
   "source": [
    "plt.figure(figsize=(10, 6))\n",
    "sns.boxplot(x='Utility', y='Estimated PV System Size (kWdc)', data=data, color='skyblue')\n",
    "sns.boxplot(x='Utility', y='PV System Size (kWac)', data=data, color='lightgreen')\n",
    "plt.title('Comparison of Estimated and Actual PV System Sizes by Utility')\n",
    "plt.xlabel('Utility Company')\n",
    "plt.ylabel('PV System Size (kW)')\n",
    "plt.xticks(rotation=45, ha='right')\n",
    "plt.legend(labels=['Estimated Size (kWdc)', 'Actual Size (kWac)'])\n",
    "plt.tight_layout()\n",
    "plt.show()\n"
   ]
  },
  {
   "cell_type": "code",
   "execution_count": 54,
   "id": "a6356e87",
   "metadata": {},
   "outputs": [],
   "source": [
    "numerical_variables = [\"Estimated PV System Size (kWdc)\", \"PV System Size (kWac)\", \"Estimated Annual PV Energy Production (kWh)\"]"
   ]
  },
  {
   "cell_type": "code",
   "execution_count": 55,
   "id": "7fa6b2bc",
   "metadata": {},
   "outputs": [
    {
     "data": {
      "image/png": "[encoded data removed]",
      "text/plain": [
       "<Figure size 800x600 with 1 Axes>"
      ]
     },
     "metadata": {},
     "output_type": "display_data"
    },
    {
     "data": {
      "image/png": "[encoded data removed]",
      "text/plain": [
       "<Figure size 800x600 with 1 Axes>"
      ]
     },
     "metadata": {},
     "output_type": "display_data"
    },
    {
     "data": {
      "image/png": "[encoded data removed]",
      "text/plain": [
       "<Figure size 800x600 with 1 Axes>"
      ]
     },
     "metadata": {},
     "output_type": "display_data"
    }
   ],
   "source": [
    "for var in numerical_variables:\n",
    "    plt.figure(figsize=(8, 6))\n",
    "    plt.hist(data[var], bins=20, color='skyblue', edgecolor='black')\n",
    "    plt.title(f'Histogram of {var}')\n",
    "    plt.xlabel(var)\n",
    "    plt.ylabel('Frequency')\n",
    "    plt.grid(True)\n",
    "    plt.show()"
   ]
  },
  {
   "cell_type": "code",
   "execution_count": 56,
   "id": "4e459c0c",
   "metadata": {},
   "outputs": [],
   "source": [
    "x = data['Estimated PV System Size (kWdc)']\n",
    "y = data['Estimated Annual PV Energy Production (kWh)']"
   ]
  },
  {
   "cell_type": "code",
   "execution_count": 57,
   "id": "95a1246b",
   "metadata": {
    "scrolled": true
   },
   "outputs": [
    {
     "data": {
      "image/png": "[encoded data removed]",
      "text/plain": [
       "<Figure size 800x600 with 1 Axes>"
      ]
     },
     "metadata": {},
     "output_type": "display_data"
    }
   ],
   "source": [
    "plt.figure(figsize=(8, 6))\n",
    "plt.scatter(x, y, alpha=0.5, color='blue')\n",
    "plt.title('Scatter Plot: Estimated PV System Size vs. Estimated Annual Energy Production')\n",
    "plt.xlabel('Estimated PV System Size (kWdc)')\n",
    "plt.ylabel('Estimated Annual PV Energy Production (kWh)')\n",
    "plt.grid(True)\n",
    "plt.show()"
   ]
  },
  {
   "cell_type": "code",
   "execution_count": 58,
   "id": "5ff87c7b",
   "metadata": {},
   "outputs": [],
   "source": [
    "metering_method_counts = data['Metering Method'].value_counts()"
   ]
  },
  {
   "cell_type": "code",
   "execution_count": 59,
   "id": "499a81ba",
   "metadata": {},
   "outputs": [
    {
     "data": {
      "text/plain": [
       "Index(['NM', 'RNM', 'CDG'], dtype='object')"
      ]
     },
     "execution_count": 59,
     "metadata": {},
     "output_type": "execute_result"
    }
   ],
   "source": [
    "data['Metering Method'].value_counts().index"
   ]
  },
  {
   "cell_type": "code",
   "execution_count": 60,
   "id": "cd3095d3",
   "metadata": {
    "scrolled": true
   },
   "outputs": [
    {
     "data": {
      "text/plain": [
       "Text(0.5, 1.0, 'Distribution of Metering Methods')"
      ]
     },
     "execution_count": 60,
     "metadata": {},
     "output_type": "execute_result"
    },
    {
     "data": {
      "image/png": "[encoded data removed]",
      "text/plain": [
       "<Figure size 640x480 with 1 Axes>"
      ]
     },
     "metadata": {},
     "output_type": "display_data"
    }
   ],
   "source": [
    "sns.barplot(x=metering_method_counts.index,y=metering_method_counts.values)\n",
    "plt.title('Distribution of Metering Methods')\n"
   ]
  },
  {
   "cell_type": "code",
   "execution_count": 61,
   "id": "d3f8dff4",
   "metadata": {},
   "outputs": [
    {
     "data": {
      "text/html": [
       "<div>\n",
       "<style scoped>\n",
       "    .dataframe tbody tr th:only-of-type {\n",
       "        vertical-align: middle;\n",
       "    }\n",
       "\n",
       "    .dataframe tbody tr th {\n",
       "        vertical-align: top;\n",
       "    }\n",
       "\n",
       "    .dataframe thead th {\n",
       "        text-align: right;\n",
       "    }\n",
       "</style>\n",
       "<table border=\"1\" class=\"dataframe\">\n",
       "  <thead>\n",
       "    <tr style=\"text-align: right;\">\n",
       "      <th></th>\n",
       "      <th>Data Through Date</th>\n",
       "      <th>Interconnection Date</th>\n",
       "      <th>Utility</th>\n",
       "      <th>City/Town</th>\n",
       "      <th>County</th>\n",
       "      <th>Developer</th>\n",
       "      <th>Metering Method</th>\n",
       "      <th>Estimated PV System Size (kWdc)</th>\n",
       "      <th>PV System Size (kWac)</th>\n",
       "      <th>Estimated Annual PV Energy Production (kWh)</th>\n",
       "      <th>Number of Projects</th>\n",
       "    </tr>\n",
       "  </thead>\n",
       "  <tbody>\n",
       "    <tr>\n",
       "      <th>0</th>\n",
       "      <td>12/31/2023</td>\n",
       "      <td>12/29/2023</td>\n",
       "      <td>Con Ed</td>\n",
       "      <td>richmond hill</td>\n",
       "      <td>Queens</td>\n",
       "      <td>Kamtech Solar Solutions</td>\n",
       "      <td>NM</td>\n",
       "      <td>6.05</td>\n",
       "      <td>5.17</td>\n",
       "      <td>7100.0</td>\n",
       "      <td>1</td>\n",
       "    </tr>\n",
       "    <tr>\n",
       "      <th>1</th>\n",
       "      <td>12/31/2023</td>\n",
       "      <td>12/29/2023</td>\n",
       "      <td>Con Ed</td>\n",
       "      <td>bronx</td>\n",
       "      <td>Bronx</td>\n",
       "      <td>Kamtech Solar Solutions</td>\n",
       "      <td>NM</td>\n",
       "      <td>6.74</td>\n",
       "      <td>5.76</td>\n",
       "      <td>7911.0</td>\n",
       "      <td>1</td>\n",
       "    </tr>\n",
       "    <tr>\n",
       "      <th>2</th>\n",
       "      <td>12/31/2023</td>\n",
       "      <td>12/29/2023</td>\n",
       "      <td>Con Ed</td>\n",
       "      <td>brooklyn</td>\n",
       "      <td>Kings</td>\n",
       "      <td>SUNCO</td>\n",
       "      <td>NM</td>\n",
       "      <td>3.05</td>\n",
       "      <td>2.61</td>\n",
       "      <td>3585.0</td>\n",
       "      <td>1</td>\n",
       "    </tr>\n",
       "    <tr>\n",
       "      <th>3</th>\n",
       "      <td>12/31/2023</td>\n",
       "      <td>12/29/2023</td>\n",
       "      <td>Con Ed</td>\n",
       "      <td>brooklyn</td>\n",
       "      <td>Kings</td>\n",
       "      <td>Kamtech Solar Solutions</td>\n",
       "      <td>NM</td>\n",
       "      <td>5.62</td>\n",
       "      <td>4.80</td>\n",
       "      <td>6592.0</td>\n",
       "      <td>1</td>\n",
       "    </tr>\n",
       "    <tr>\n",
       "      <th>4</th>\n",
       "      <td>12/31/2023</td>\n",
       "      <td>12/28/2023</td>\n",
       "      <td>Con Ed</td>\n",
       "      <td>springfield gardens</td>\n",
       "      <td>Queens</td>\n",
       "      <td>Kamtech Solar Solutions</td>\n",
       "      <td>NM</td>\n",
       "      <td>6.05</td>\n",
       "      <td>5.17</td>\n",
       "      <td>7100.0</td>\n",
       "      <td>1</td>\n",
       "    </tr>\n",
       "  </tbody>\n",
       "</table>\n",
       "</div>"
      ],
      "text/plain": [
       "  Data Through Date Interconnection Date Utility            City/Town  County  \\\n",
       "0        12/31/2023           12/29/2023  Con Ed        richmond hill  Queens   \n",
       "1        12/31/2023           12/29/2023  Con Ed                bronx   Bronx   \n",
       "2        12/31/2023           12/29/2023  Con Ed             brooklyn   Kings   \n",
       "3        12/31/2023           12/29/2023  Con Ed             brooklyn   Kings   \n",
       "4        12/31/2023           12/28/2023  Con Ed  springfield gardens  Queens   \n",
       "\n",
       "                 Developer Metering Method  Estimated PV System Size (kWdc)  \\\n",
       "0  Kamtech Solar Solutions              NM                             6.05   \n",
       "1  Kamtech Solar Solutions              NM                             6.74   \n",
       "2                    SUNCO              NM                             3.05   \n",
       "3  Kamtech Solar Solutions              NM                             5.62   \n",
       "4  Kamtech Solar Solutions              NM                             6.05   \n",
       "\n",
       "   PV System Size (kWac)  Estimated Annual PV Energy Production (kWh)  \\\n",
       "0                   5.17                                       7100.0   \n",
       "1                   5.76                                       7911.0   \n",
       "2                   2.61                                       3585.0   \n",
       "3                   4.80                                       6592.0   \n",
       "4                   5.17                                       7100.0   \n",
       "\n",
       "   Number of Projects  \n",
       "0                   1  \n",
       "1                   1  \n",
       "2                   1  \n",
       "3                   1  \n",
       "4                   1  "
      ]
     },
     "execution_count": 61,
     "metadata": {},
     "output_type": "execute_result"
    }
   ],
   "source": [
    "data.head()"
   ]
  },
  {
   "cell_type": "code",
   "execution_count": 62,
   "id": "a52fc8a8",
   "metadata": {},
   "outputs": [],
   "source": [
    "data['Data Through Date'] = pd.to_datetime(data['Data Through Date'])\n",
    "data['Interconnection Date'] = pd.to_datetime(data['Interconnection Date'])"
   ]
  },
  {
   "cell_type": "code",
   "execution_count": 63,
   "id": "1bd23cff",
   "metadata": {},
   "outputs": [
    {
     "data": {
      "text/plain": [
       "Data Through Date                              datetime64[ns]\n",
       "Interconnection Date                           datetime64[ns]\n",
       "Utility                                                object\n",
       "City/Town                                              object\n",
       "County                                                 object\n",
       "Developer                                              object\n",
       "Metering Method                                        object\n",
       "Estimated PV System Size (kWdc)                       float64\n",
       "PV System Size (kWac)                                 float64\n",
       "Estimated Annual PV Energy Production (kWh)           float64\n",
       "Number of Projects                                      int64\n",
       "dtype: object"
      ]
     },
     "execution_count": 63,
     "metadata": {},
     "output_type": "execute_result"
    }
   ],
   "source": [
    "data.dtypes"
   ]
  },
  {
   "cell_type": "code",
   "execution_count": 64,
   "id": "ae3eec49",
   "metadata": {},
   "outputs": [
    {
     "name": "stdout",
     "output_type": "stream",
     "text": [
      "Utility\n",
      "PSEGLI            84961\n",
      "Con Ed            64648\n",
      "National Grid     26400\n",
      "Central Hudson    15080\n",
      "O&R               12152\n",
      "NYSEG             11754\n",
      "RGE                2863\n",
      "Name: Utility, dtype: int64\n",
      "/////////\n",
      "City/Town\n",
      "staten island     12765\n",
      "brooklyn          11935\n",
      "bronx              5924\n",
      "jamaica            4103\n",
      "lindenhurst        2127\n",
      "                  ...  \n",
      "lily dale             1\n",
      "pomoma                1\n",
      "mt.  upton            1\n",
      "new milford           1\n",
      "ontario center        1\n",
      "Name: City/Town, Length: 1908, dtype: int64\n",
      "/////////\n",
      "County\n",
      "Suffolk        51605\n",
      "Nassau         32194\n",
      "Queens         23007\n",
      "Richmond       12765\n",
      "Westchester    12308\n",
      "               ...  \n",
      "Seneca           167\n",
      "Allegany         160\n",
      "Schuyler         133\n",
      "Lewis            100\n",
      "Hamilton          44\n",
      "Name: County, Length: 62, dtype: int64\n",
      "/////////\n",
      "Developer\n",
      "Vivint Solar                            12824\n",
      "MOMENTUM SOLAR                          12698\n",
      "Sunrun Inc                              12487\n",
      "Solar City                              11627\n",
      "Other                                    6402\n",
      "                                        ...  \n",
      "Vara Solar                                  1\n",
      "Laura matthews (Collegiate Builders)        1\n",
      "Map Energy Solutions, LLC                   1\n",
      "GSPP Sentinel Heights Road, LLC             1\n",
      "Solar Bear Energy LLC                       1\n",
      "Name: Developer, Length: 2568, dtype: int64\n",
      "/////////\n",
      "Metering Method\n",
      "NM     215604\n",
      "RNM      1164\n",
      "CDG      1090\n",
      "Name: Metering Method, dtype: int64\n",
      "/////////\n"
     ]
    }
   ],
   "source": [
    "for i in data.columns:\n",
    "    if data[i].dtype == 'object':\n",
    "        print(i)\n",
    "        print(data[i].value_counts())\n",
    "        print(\"/////////\")"
   ]
  },
  {
   "cell_type": "code",
   "execution_count": 65,
   "id": "87fbc915",
   "metadata": {},
   "outputs": [
    {
     "data": {
      "text/html": [
       "<div>\n",
       "<style scoped>\n",
       "    .dataframe tbody tr th:only-of-type {\n",
       "        vertical-align: middle;\n",
       "    }\n",
       "\n",
       "    .dataframe tbody tr th {\n",
       "        vertical-align: top;\n",
       "    }\n",
       "\n",
       "    .dataframe thead th {\n",
       "        text-align: right;\n",
       "    }\n",
       "</style>\n",
       "<table border=\"1\" class=\"dataframe\">\n",
       "  <thead>\n",
       "    <tr style=\"text-align: right;\">\n",
       "      <th></th>\n",
       "      <th>Data Through Date</th>\n",
       "      <th>Interconnection Date</th>\n",
       "      <th>Utility</th>\n",
       "      <th>City/Town</th>\n",
       "      <th>County</th>\n",
       "      <th>Developer</th>\n",
       "      <th>Metering Method</th>\n",
       "      <th>Estimated PV System Size (kWdc)</th>\n",
       "      <th>PV System Size (kWac)</th>\n",
       "      <th>Estimated Annual PV Energy Production (kWh)</th>\n",
       "      <th>Number of Projects</th>\n",
       "    </tr>\n",
       "  </thead>\n",
       "  <tbody>\n",
       "    <tr>\n",
       "      <th>0</th>\n",
       "      <td>2023-12-31</td>\n",
       "      <td>2023-12-29</td>\n",
       "      <td>Con Ed</td>\n",
       "      <td>richmond hill</td>\n",
       "      <td>Queens</td>\n",
       "      <td>Kamtech Solar Solutions</td>\n",
       "      <td>NM</td>\n",
       "      <td>6.05</td>\n",
       "      <td>5.17</td>\n",
       "      <td>7100.0</td>\n",
       "      <td>1</td>\n",
       "    </tr>\n",
       "    <tr>\n",
       "      <th>1</th>\n",
       "      <td>2023-12-31</td>\n",
       "      <td>2023-12-29</td>\n",
       "      <td>Con Ed</td>\n",
       "      <td>bronx</td>\n",
       "      <td>Bronx</td>\n",
       "      <td>Kamtech Solar Solutions</td>\n",
       "      <td>NM</td>\n",
       "      <td>6.74</td>\n",
       "      <td>5.76</td>\n",
       "      <td>7911.0</td>\n",
       "      <td>1</td>\n",
       "    </tr>\n",
       "    <tr>\n",
       "      <th>2</th>\n",
       "      <td>2023-12-31</td>\n",
       "      <td>2023-12-29</td>\n",
       "      <td>Con Ed</td>\n",
       "      <td>brooklyn</td>\n",
       "      <td>Kings</td>\n",
       "      <td>SUNCO</td>\n",
       "      <td>NM</td>\n",
       "      <td>3.05</td>\n",
       "      <td>2.61</td>\n",
       "      <td>3585.0</td>\n",
       "      <td>1</td>\n",
       "    </tr>\n",
       "    <tr>\n",
       "      <th>3</th>\n",
       "      <td>2023-12-31</td>\n",
       "      <td>2023-12-29</td>\n",
       "      <td>Con Ed</td>\n",
       "      <td>brooklyn</td>\n",
       "      <td>Kings</td>\n",
       "      <td>Kamtech Solar Solutions</td>\n",
       "      <td>NM</td>\n",
       "      <td>5.62</td>\n",
       "      <td>4.80</td>\n",
       "      <td>6592.0</td>\n",
       "      <td>1</td>\n",
       "    </tr>\n",
       "    <tr>\n",
       "      <th>4</th>\n",
       "      <td>2023-12-31</td>\n",
       "      <td>2023-12-28</td>\n",
       "      <td>Con Ed</td>\n",
       "      <td>springfield gardens</td>\n",
       "      <td>Queens</td>\n",
       "      <td>Kamtech Solar Solutions</td>\n",
       "      <td>NM</td>\n",
       "      <td>6.05</td>\n",
       "      <td>5.17</td>\n",
       "      <td>7100.0</td>\n",
       "      <td>1</td>\n",
       "    </tr>\n",
       "  </tbody>\n",
       "</table>\n",
       "</div>"
      ],
      "text/plain": [
       "  Data Through Date Interconnection Date Utility            City/Town  County  \\\n",
       "0        2023-12-31           2023-12-29  Con Ed        richmond hill  Queens   \n",
       "1        2023-12-31           2023-12-29  Con Ed                bronx   Bronx   \n",
       "2        2023-12-31           2023-12-29  Con Ed             brooklyn   Kings   \n",
       "3        2023-12-31           2023-12-29  Con Ed             brooklyn   Kings   \n",
       "4        2023-12-31           2023-12-28  Con Ed  springfield gardens  Queens   \n",
       "\n",
       "                 Developer Metering Method  Estimated PV System Size (kWdc)  \\\n",
       "0  Kamtech Solar Solutions              NM                             6.05   \n",
       "1  Kamtech Solar Solutions              NM                             6.74   \n",
       "2                    SUNCO              NM                             3.05   \n",
       "3  Kamtech Solar Solutions              NM                             5.62   \n",
       "4  Kamtech Solar Solutions              NM                             6.05   \n",
       "\n",
       "   PV System Size (kWac)  Estimated Annual PV Energy Production (kWh)  \\\n",
       "0                   5.17                                       7100.0   \n",
       "1                   5.76                                       7911.0   \n",
       "2                   2.61                                       3585.0   \n",
       "3                   4.80                                       6592.0   \n",
       "4                   5.17                                       7100.0   \n",
       "\n",
       "   Number of Projects  \n",
       "0                   1  \n",
       "1                   1  \n",
       "2                   1  \n",
       "3                   1  \n",
       "4                   1  "
      ]
     },
     "execution_count": 65,
     "metadata": {},
     "output_type": "execute_result"
    }
   ],
   "source": [
    "data.head()"
   ]
  },
  {
   "cell_type": "code",
   "execution_count": 66,
   "id": "caa115b1",
   "metadata": {},
   "outputs": [],
   "source": [
    "data1 = data.drop(columns=['Data Through Date','Interconnection Date','Number of Projects'],axis=1)"
   ]
  },
  {
   "cell_type": "code",
   "execution_count": 67,
   "id": "78f92499",
   "metadata": {},
   "outputs": [
    {
     "data": {
      "text/html": [
       "<div>\n",
       "<style scoped>\n",
       "    .dataframe tbody tr th:only-of-type {\n",
       "        vertical-align: middle;\n",
       "    }\n",
       "\n",
       "    .dataframe tbody tr th {\n",
       "        vertical-align: top;\n",
       "    }\n",
       "\n",
       "    .dataframe thead th {\n",
       "        text-align: right;\n",
       "    }\n",
       "</style>\n",
       "<table border=\"1\" class=\"dataframe\">\n",
       "  <thead>\n",
       "    <tr style=\"text-align: right;\">\n",
       "      <th></th>\n",
       "      <th>Utility</th>\n",
       "      <th>City/Town</th>\n",
       "      <th>County</th>\n",
       "      <th>Developer</th>\n",
       "      <th>Metering Method</th>\n",
       "      <th>Estimated PV System Size (kWdc)</th>\n",
       "      <th>PV System Size (kWac)</th>\n",
       "      <th>Estimated Annual PV Energy Production (kWh)</th>\n",
       "    </tr>\n",
       "  </thead>\n",
       "  <tbody>\n",
       "    <tr>\n",
       "      <th>0</th>\n",
       "      <td>Con Ed</td>\n",
       "      <td>richmond hill</td>\n",
       "      <td>Queens</td>\n",
       "      <td>Kamtech Solar Solutions</td>\n",
       "      <td>NM</td>\n",
       "      <td>6.05</td>\n",
       "      <td>5.17</td>\n",
       "      <td>7100.0</td>\n",
       "    </tr>\n",
       "    <tr>\n",
       "      <th>1</th>\n",
       "      <td>Con Ed</td>\n",
       "      <td>bronx</td>\n",
       "      <td>Bronx</td>\n",
       "      <td>Kamtech Solar Solutions</td>\n",
       "      <td>NM</td>\n",
       "      <td>6.74</td>\n",
       "      <td>5.76</td>\n",
       "      <td>7911.0</td>\n",
       "    </tr>\n",
       "    <tr>\n",
       "      <th>2</th>\n",
       "      <td>Con Ed</td>\n",
       "      <td>brooklyn</td>\n",
       "      <td>Kings</td>\n",
       "      <td>SUNCO</td>\n",
       "      <td>NM</td>\n",
       "      <td>3.05</td>\n",
       "      <td>2.61</td>\n",
       "      <td>3585.0</td>\n",
       "    </tr>\n",
       "    <tr>\n",
       "      <th>3</th>\n",
       "      <td>Con Ed</td>\n",
       "      <td>brooklyn</td>\n",
       "      <td>Kings</td>\n",
       "      <td>Kamtech Solar Solutions</td>\n",
       "      <td>NM</td>\n",
       "      <td>5.62</td>\n",
       "      <td>4.80</td>\n",
       "      <td>6592.0</td>\n",
       "    </tr>\n",
       "    <tr>\n",
       "      <th>4</th>\n",
       "      <td>Con Ed</td>\n",
       "      <td>springfield gardens</td>\n",
       "      <td>Queens</td>\n",
       "      <td>Kamtech Solar Solutions</td>\n",
       "      <td>NM</td>\n",
       "      <td>6.05</td>\n",
       "      <td>5.17</td>\n",
       "      <td>7100.0</td>\n",
       "    </tr>\n",
       "  </tbody>\n",
       "</table>\n",
       "</div>"
      ],
      "text/plain": [
       "  Utility            City/Town  County                Developer  \\\n",
       "0  Con Ed        richmond hill  Queens  Kamtech Solar Solutions   \n",
       "1  Con Ed                bronx   Bronx  Kamtech Solar Solutions   \n",
       "2  Con Ed             brooklyn   Kings                    SUNCO   \n",
       "3  Con Ed             brooklyn   Kings  Kamtech Solar Solutions   \n",
       "4  Con Ed  springfield gardens  Queens  Kamtech Solar Solutions   \n",
       "\n",
       "  Metering Method  Estimated PV System Size (kWdc)  PV System Size (kWac)  \\\n",
       "0              NM                             6.05                   5.17   \n",
       "1              NM                             6.74                   5.76   \n",
       "2              NM                             3.05                   2.61   \n",
       "3              NM                             5.62                   4.80   \n",
       "4              NM                             6.05                   5.17   \n",
       "\n",
       "   Estimated Annual PV Energy Production (kWh)  \n",
       "0                                       7100.0  \n",
       "1                                       7911.0  \n",
       "2                                       3585.0  \n",
       "3                                       6592.0  \n",
       "4                                       7100.0  "
      ]
     },
     "execution_count": 67,
     "metadata": {},
     "output_type": "execute_result"
    }
   ],
   "source": [
    "data1.head()"
   ]
  },
  {
   "cell_type": "code",
   "execution_count": 68,
   "id": "e52336fc",
   "metadata": {},
   "outputs": [
    {
     "data": {
      "text/plain": [
       "Vivint Solar                            12824\n",
       "MOMENTUM SOLAR                          12698\n",
       "Sunrun Inc                              12487\n",
       "Solar City                              11627\n",
       "Other                                    6402\n",
       "                                        ...  \n",
       "Vara Solar                                  1\n",
       "Laura matthews (Collegiate Builders)        1\n",
       "Map Energy Solutions, LLC                   1\n",
       "GSPP Sentinel Heights Road, LLC             1\n",
       "Solar Bear Energy LLC                       1\n",
       "Name: Developer, Length: 2568, dtype: int64"
      ]
     },
     "execution_count": 68,
     "metadata": {},
     "output_type": "execute_result"
    }
   ],
   "source": [
    "data1['Developer'].value_counts()"
   ]
  },
  {
   "cell_type": "code",
   "execution_count": 69,
   "id": "259969fd",
   "metadata": {
    "scrolled": true
   },
   "outputs": [],
   "source": [
    "data1['Developer'] = data1['Developer'].map(data1['Developer'].value_counts())\n",
    "data1['City/Town'] = data1['City/Town'].map(data1['City/Town'].value_counts())\n",
    "data1['County'] = data1['County'].map(data1['County'].value_counts())"
   ]
  },
  {
   "cell_type": "code",
   "execution_count": 70,
   "id": "344337e7",
   "metadata": {},
   "outputs": [
    {
     "data": {
      "text/html": [
       "<div>\n",
       "<style scoped>\n",
       "    .dataframe tbody tr th:only-of-type {\n",
       "        vertical-align: middle;\n",
       "    }\n",
       "\n",
       "    .dataframe tbody tr th {\n",
       "        vertical-align: top;\n",
       "    }\n",
       "\n",
       "    .dataframe thead th {\n",
       "        text-align: right;\n",
       "    }\n",
       "</style>\n",
       "<table border=\"1\" class=\"dataframe\">\n",
       "  <thead>\n",
       "    <tr style=\"text-align: right;\">\n",
       "      <th></th>\n",
       "      <th>Utility</th>\n",
       "      <th>City/Town</th>\n",
       "      <th>County</th>\n",
       "      <th>Developer</th>\n",
       "      <th>Metering Method</th>\n",
       "      <th>Estimated PV System Size (kWdc)</th>\n",
       "      <th>PV System Size (kWac)</th>\n",
       "      <th>Estimated Annual PV Energy Production (kWh)</th>\n",
       "    </tr>\n",
       "  </thead>\n",
       "  <tbody>\n",
       "    <tr>\n",
       "      <th>0</th>\n",
       "      <td>Con Ed</td>\n",
       "      <td>287</td>\n",
       "      <td>23007</td>\n",
       "      <td>2709</td>\n",
       "      <td>NM</td>\n",
       "      <td>6.05</td>\n",
       "      <td>5.17</td>\n",
       "      <td>7100.0</td>\n",
       "    </tr>\n",
       "    <tr>\n",
       "      <th>1</th>\n",
       "      <td>Con Ed</td>\n",
       "      <td>5924</td>\n",
       "      <td>5924</td>\n",
       "      <td>2709</td>\n",
       "      <td>NM</td>\n",
       "      <td>6.74</td>\n",
       "      <td>5.76</td>\n",
       "      <td>7911.0</td>\n",
       "    </tr>\n",
       "    <tr>\n",
       "      <th>2</th>\n",
       "      <td>Con Ed</td>\n",
       "      <td>11935</td>\n",
       "      <td>11935</td>\n",
       "      <td>2519</td>\n",
       "      <td>NM</td>\n",
       "      <td>3.05</td>\n",
       "      <td>2.61</td>\n",
       "      <td>3585.0</td>\n",
       "    </tr>\n",
       "    <tr>\n",
       "      <th>3</th>\n",
       "      <td>Con Ed</td>\n",
       "      <td>11935</td>\n",
       "      <td>11935</td>\n",
       "      <td>2709</td>\n",
       "      <td>NM</td>\n",
       "      <td>5.62</td>\n",
       "      <td>4.80</td>\n",
       "      <td>6592.0</td>\n",
       "    </tr>\n",
       "    <tr>\n",
       "      <th>4</th>\n",
       "      <td>Con Ed</td>\n",
       "      <td>1592</td>\n",
       "      <td>23007</td>\n",
       "      <td>2709</td>\n",
       "      <td>NM</td>\n",
       "      <td>6.05</td>\n",
       "      <td>5.17</td>\n",
       "      <td>7100.0</td>\n",
       "    </tr>\n",
       "  </tbody>\n",
       "</table>\n",
       "</div>"
      ],
      "text/plain": [
       "  Utility  City/Town  County  Developer Metering Method  \\\n",
       "0  Con Ed        287   23007       2709              NM   \n",
       "1  Con Ed       5924    5924       2709              NM   \n",
       "2  Con Ed      11935   11935       2519              NM   \n",
       "3  Con Ed      11935   11935       2709              NM   \n",
       "4  Con Ed       1592   23007       2709              NM   \n",
       "\n",
       "   Estimated PV System Size (kWdc)  PV System Size (kWac)  \\\n",
       "0                             6.05                   5.17   \n",
       "1                             6.74                   5.76   \n",
       "2                             3.05                   2.61   \n",
       "3                             5.62                   4.80   \n",
       "4                             6.05                   5.17   \n",
       "\n",
       "   Estimated Annual PV Energy Production (kWh)  \n",
       "0                                       7100.0  \n",
       "1                                       7911.0  \n",
       "2                                       3585.0  \n",
       "3                                       6592.0  \n",
       "4                                       7100.0  "
      ]
     },
     "execution_count": 70,
     "metadata": {},
     "output_type": "execute_result"
    }
   ],
   "source": [
    "data1.head()"
   ]
  },
  {
   "cell_type": "code",
   "execution_count": 71,
   "id": "ffe7cc7d",
   "metadata": {},
   "outputs": [],
   "source": [
    "X = data1.drop(columns=['Estimated Annual PV Energy Production (kWh)'],axis=1)\n",
    "y = data1['Estimated Annual PV Energy Production (kWh)']"
   ]
  },
  {
   "cell_type": "markdown",
   "id": "25bb19ff",
   "metadata": {},
   "source": [
    "# Data Splitting"
   ]
  },
  {
   "cell_type": "code",
   "execution_count": 72,
   "id": "4973d018",
   "metadata": {},
   "outputs": [],
   "source": [
    "from sklearn.model_selection import train_test_split\n",
    "X_train, X_test,y_train,y_test = train_test_split(X,y, test_size=0.2, random_state=42)"
   ]
  },
  {
   "cell_type": "code",
   "execution_count": 73,
   "id": "24f9ed54",
   "metadata": {},
   "outputs": [
    {
     "data": {
      "text/html": [
       "<div>\n",
       "<style scoped>\n",
       "    .dataframe tbody tr th:only-of-type {\n",
       "        vertical-align: middle;\n",
       "    }\n",
       "\n",
       "    .dataframe tbody tr th {\n",
       "        vertical-align: top;\n",
       "    }\n",
       "\n",
       "    .dataframe thead th {\n",
       "        text-align: right;\n",
       "    }\n",
       "</style>\n",
       "<table border=\"1\" class=\"dataframe\">\n",
       "  <thead>\n",
       "    <tr style=\"text-align: right;\">\n",
       "      <th></th>\n",
       "      <th>Utility</th>\n",
       "      <th>City/Town</th>\n",
       "      <th>County</th>\n",
       "      <th>Developer</th>\n",
       "      <th>Metering Method</th>\n",
       "      <th>Estimated PV System Size (kWdc)</th>\n",
       "      <th>PV System Size (kWac)</th>\n",
       "      <th>Estimated Annual PV Energy Production (kWh)</th>\n",
       "    </tr>\n",
       "  </thead>\n",
       "  <tbody>\n",
       "    <tr>\n",
       "      <th>0</th>\n",
       "      <td>Con Ed</td>\n",
       "      <td>287</td>\n",
       "      <td>23007</td>\n",
       "      <td>2709</td>\n",
       "      <td>NM</td>\n",
       "      <td>6.05</td>\n",
       "      <td>5.17</td>\n",
       "      <td>7100.0</td>\n",
       "    </tr>\n",
       "    <tr>\n",
       "      <th>1</th>\n",
       "      <td>Con Ed</td>\n",
       "      <td>5924</td>\n",
       "      <td>5924</td>\n",
       "      <td>2709</td>\n",
       "      <td>NM</td>\n",
       "      <td>6.74</td>\n",
       "      <td>5.76</td>\n",
       "      <td>7911.0</td>\n",
       "    </tr>\n",
       "    <tr>\n",
       "      <th>2</th>\n",
       "      <td>Con Ed</td>\n",
       "      <td>11935</td>\n",
       "      <td>11935</td>\n",
       "      <td>2519</td>\n",
       "      <td>NM</td>\n",
       "      <td>3.05</td>\n",
       "      <td>2.61</td>\n",
       "      <td>3585.0</td>\n",
       "    </tr>\n",
       "    <tr>\n",
       "      <th>3</th>\n",
       "      <td>Con Ed</td>\n",
       "      <td>11935</td>\n",
       "      <td>11935</td>\n",
       "      <td>2709</td>\n",
       "      <td>NM</td>\n",
       "      <td>5.62</td>\n",
       "      <td>4.80</td>\n",
       "      <td>6592.0</td>\n",
       "    </tr>\n",
       "    <tr>\n",
       "      <th>4</th>\n",
       "      <td>Con Ed</td>\n",
       "      <td>1592</td>\n",
       "      <td>23007</td>\n",
       "      <td>2709</td>\n",
       "      <td>NM</td>\n",
       "      <td>6.05</td>\n",
       "      <td>5.17</td>\n",
       "      <td>7100.0</td>\n",
       "    </tr>\n",
       "  </tbody>\n",
       "</table>\n",
       "</div>"
      ],
      "text/plain": [
       "  Utility  City/Town  County  Developer Metering Method  \\\n",
       "0  Con Ed        287   23007       2709              NM   \n",
       "1  Con Ed       5924    5924       2709              NM   \n",
       "2  Con Ed      11935   11935       2519              NM   \n",
       "3  Con Ed      11935   11935       2709              NM   \n",
       "4  Con Ed       1592   23007       2709              NM   \n",
       "\n",
       "   Estimated PV System Size (kWdc)  PV System Size (kWac)  \\\n",
       "0                             6.05                   5.17   \n",
       "1                             6.74                   5.76   \n",
       "2                             3.05                   2.61   \n",
       "3                             5.62                   4.80   \n",
       "4                             6.05                   5.17   \n",
       "\n",
       "   Estimated Annual PV Energy Production (kWh)  \n",
       "0                                       7100.0  \n",
       "1                                       7911.0  \n",
       "2                                       3585.0  \n",
       "3                                       6592.0  \n",
       "4                                       7100.0  "
      ]
     },
     "execution_count": 73,
     "metadata": {},
     "output_type": "execute_result"
    }
   ],
   "source": [
    "data1.head()"
   ]
  },
  {
   "cell_type": "code",
   "execution_count": 74,
   "id": "263e5c35",
   "metadata": {},
   "outputs": [],
   "source": [
    "ohe_col = ['Utility','Metering Method']"
   ]
  },
  {
   "cell_type": "markdown",
   "id": "ee8f6e9b",
   "metadata": {},
   "source": [
    "### One Hot Encoder"
   ]
  },
  {
   "cell_type": "code",
   "execution_count": 75,
   "id": "505687f0",
   "metadata": {},
   "outputs": [
    {
     "data": {
      "text/html": [
       "<style>#sk-container-id-1 {color: black;background-color: white;}#sk-container-id-1 pre{padding: 0;}#sk-container-id-1 div.sk-toggleable {background-color: white;}#sk-container-id-1 label.sk-toggleable__label {cursor: pointer;display: block;width: 100%;margin-bottom: 0;padding: 0.3em;box-sizing: border-box;text-align: center;}#sk-container-id-1 label.sk-toggleable__label-arrow:before {content: \"▸\";float: left;margin-right: 0.25em;color: #696969;}#sk-container-id-1 label.sk-toggleable__label-arrow:hover:before {color: black;}#sk-container-id-1 div.sk-estimator:hover label.sk-toggleable__label-arrow:before {color: black;}#sk-container-id-1 div.sk-toggleable__content {max-height: 0;max-width: 0;overflow: hidden;text-align: left;background-color: #f0f8ff;}#sk-container-id-1 div.sk-toggleable__content pre {margin: 0.2em;color: black;border-radius: 0.25em;background-color: #f0f8ff;}#sk-container-id-1 input.sk-toggleable__control:checked~div.sk-toggleable__content {max-height: 200px;max-width: 100%;overflow: auto;}#sk-container-id-1 input.sk-toggleable__control:checked~label.sk-toggleable__label-arrow:before {content: \"▾\";}#sk-container-id-1 div.sk-estimator input.sk-toggleable__control:checked~label.sk-toggleable__label {background-color: #d4ebff;}#sk-container-id-1 div.sk-label input.sk-toggleable__control:checked~label.sk-toggleable__label {background-color: #d4ebff;}#sk-container-id-1 input.sk-hidden--visually {border: 0;clip: rect(1px 1px 1px 1px);clip: rect(1px, 1px, 1px, 1px);height: 1px;margin: -1px;overflow: hidden;padding: 0;position: absolute;width: 1px;}#sk-container-id-1 div.sk-estimator {font-family: monospace;background-color: #f0f8ff;border: 1px dotted black;border-radius: 0.25em;box-sizing: border-box;margin-bottom: 0.5em;}#sk-container-id-1 div.sk-estimator:hover {background-color: #d4ebff;}#sk-container-id-1 div.sk-parallel-item::after {content: \"\";width: 100%;border-bottom: 1px solid gray;flex-grow: 1;}#sk-container-id-1 div.sk-label:hover label.sk-toggleable__label {background-color: #d4ebff;}#sk-container-id-1 div.sk-serial::before {content: \"\";position: absolute;border-left: 1px solid gray;box-sizing: border-box;top: 0;bottom: 0;left: 50%;z-index: 0;}#sk-container-id-1 div.sk-serial {display: flex;flex-direction: column;align-items: center;background-color: white;padding-right: 0.2em;padding-left: 0.2em;position: relative;}#sk-container-id-1 div.sk-item {position: relative;z-index: 1;}#sk-container-id-1 div.sk-parallel {display: flex;align-items: stretch;justify-content: center;background-color: white;position: relative;}#sk-container-id-1 div.sk-item::before, #sk-container-id-1 div.sk-parallel-item::before {content: \"\";position: absolute;border-left: 1px solid gray;box-sizing: border-box;top: 0;bottom: 0;left: 50%;z-index: -1;}#sk-container-id-1 div.sk-parallel-item {display: flex;flex-direction: column;z-index: 1;position: relative;background-color: white;}#sk-container-id-1 div.sk-parallel-item:first-child::after {align-self: flex-end;width: 50%;}#sk-container-id-1 div.sk-parallel-item:last-child::after {align-self: flex-start;width: 50%;}#sk-container-id-1 div.sk-parallel-item:only-child::after {width: 0;}#sk-container-id-1 div.sk-dashed-wrapped {border: 1px dashed gray;margin: 0 0.4em 0.5em 0.4em;box-sizing: border-box;padding-bottom: 0.4em;background-color: white;}#sk-container-id-1 div.sk-label label {font-family: monospace;font-weight: bold;display: inline-block;line-height: 1.2em;}#sk-container-id-1 div.sk-label-container {text-align: center;}#sk-container-id-1 div.sk-container {/* jupyter's `normalize.less` sets `[hidden] { display: none; }` but bootstrap.min.css set `[hidden] { display: none !important; }` so we also need the `!important` here to be able to override the default hidden behavior on the sphinx rendered scikit-learn.org. See: https://github.com/scikit-learn/scikit-learn/issues/21755 */display: inline-block !important;position: relative;}#sk-container-id-1 div.sk-text-repr-fallback {display: none;}</style><div id=\"sk-container-id-1\" class=\"sk-top-container\"><div class=\"sk-text-repr-fallback\"><pre>OneHotEncoder(drop=&#x27;first&#x27;, handle_unknown=&#x27;ignore&#x27;, sparse_output=False)</pre><b>In a Jupyter environment, please rerun this cell to show the HTML representation or trust the notebook. <br />On GitHub, the HTML representation is unable to render, please try loading this page with nbviewer.org.</b></div><div class=\"sk-container\" hidden><div class=\"sk-item\"><div class=\"sk-estimator sk-toggleable\"><input class=\"sk-toggleable__control sk-hidden--visually\" id=\"sk-estimator-id-1\" type=\"checkbox\" checked><label for=\"sk-estimator-id-1\" class=\"sk-toggleable__label sk-toggleable__label-arrow\">OneHotEncoder</label><div class=\"sk-toggleable__content\"><pre>OneHotEncoder(drop=&#x27;first&#x27;, handle_unknown=&#x27;ignore&#x27;, sparse_output=False)</pre></div></div></div></div></div>"
      ],
      "text/plain": [
       "OneHotEncoder(drop='first', handle_unknown='ignore', sparse_output=False)"
      ]
     },
     "execution_count": 75,
     "metadata": {},
     "output_type": "execute_result"
    }
   ],
   "source": [
    "from sklearn.preprocessing import OneHotEncoder\n",
    "encoder = OneHotEncoder(sparse_output=False, handle_unknown='ignore',drop='first')\n",
    "encoder.fit(X_train[ohe_col])"
   ]
  },
  {
   "cell_type": "code",
   "execution_count": 76,
   "id": "d2dd6906",
   "metadata": {},
   "outputs": [
    {
     "data": {
      "text/plain": [
       "['Utility_Con Ed',\n",
       " 'Utility_NYSEG',\n",
       " 'Utility_National Grid',\n",
       " 'Utility_O&R',\n",
       " 'Utility_PSEGLI',\n",
       " 'Utility_RGE',\n",
       " 'Metering Method_NM',\n",
       " 'Metering Method_RNM']"
      ]
     },
     "execution_count": 76,
     "metadata": {},
     "output_type": "execute_result"
    }
   ],
   "source": [
    "list(encoder.get_feature_names_out())"
   ]
  },
  {
   "cell_type": "code",
   "execution_count": 77,
   "id": "245de12b",
   "metadata": {},
   "outputs": [],
   "source": [
    "encoded_col = list(encoder.get_feature_names_out())"
   ]
  },
  {
   "cell_type": "code",
   "execution_count": 78,
   "id": "8bfd8830",
   "metadata": {},
   "outputs": [],
   "source": [
    "X_train[encoded_col] = encoder.transform(X_train[ohe_col])\n",
    "X_test[encoded_col] = encoder.transform(X_test[ohe_col])"
   ]
  },
  {
   "cell_type": "code",
   "execution_count": 79,
   "id": "0de4419a",
   "metadata": {},
   "outputs": [],
   "source": [
    "X_train.drop(columns=ohe_col,axis=1,inplace=True)\n",
    "X_test.drop(columns=ohe_col,axis=1,inplace=True)"
   ]
  },
  {
   "cell_type": "code",
   "execution_count": 80,
   "id": "6dc8c09b",
   "metadata": {},
   "outputs": [
    {
     "data": {
      "text/html": [
       "<div>\n",
       "<style scoped>\n",
       "    .dataframe tbody tr th:only-of-type {\n",
       "        vertical-align: middle;\n",
       "    }\n",
       "\n",
       "    .dataframe tbody tr th {\n",
       "        vertical-align: top;\n",
       "    }\n",
       "\n",
       "    .dataframe thead th {\n",
       "        text-align: right;\n",
       "    }\n",
       "</style>\n",
       "<table border=\"1\" class=\"dataframe\">\n",
       "  <thead>\n",
       "    <tr style=\"text-align: right;\">\n",
       "      <th></th>\n",
       "      <th>City/Town</th>\n",
       "      <th>County</th>\n",
       "      <th>Developer</th>\n",
       "      <th>Estimated PV System Size (kWdc)</th>\n",
       "      <th>PV System Size (kWac)</th>\n",
       "      <th>Utility_Con Ed</th>\n",
       "      <th>Utility_NYSEG</th>\n",
       "      <th>Utility_National Grid</th>\n",
       "      <th>Utility_O&amp;R</th>\n",
       "      <th>Utility_PSEGLI</th>\n",
       "      <th>Utility_RGE</th>\n",
       "      <th>Metering Method_NM</th>\n",
       "      <th>Metering Method_RNM</th>\n",
       "    </tr>\n",
       "  </thead>\n",
       "  <tbody>\n",
       "    <tr>\n",
       "      <th>57743</th>\n",
       "      <td>788</td>\n",
       "      <td>32194</td>\n",
       "      <td>672</td>\n",
       "      <td>8.89</td>\n",
       "      <td>7.60</td>\n",
       "      <td>0.0</td>\n",
       "      <td>0.0</td>\n",
       "      <td>0.0</td>\n",
       "      <td>0.0</td>\n",
       "      <td>1.0</td>\n",
       "      <td>0.0</td>\n",
       "      <td>1.0</td>\n",
       "      <td>0.0</td>\n",
       "    </tr>\n",
       "    <tr>\n",
       "      <th>173164</th>\n",
       "      <td>30</td>\n",
       "      <td>5300</td>\n",
       "      <td>4911</td>\n",
       "      <td>4.21</td>\n",
       "      <td>3.60</td>\n",
       "      <td>0.0</td>\n",
       "      <td>0.0</td>\n",
       "      <td>0.0</td>\n",
       "      <td>0.0</td>\n",
       "      <td>0.0</td>\n",
       "      <td>0.0</td>\n",
       "      <td>1.0</td>\n",
       "      <td>0.0</td>\n",
       "    </tr>\n",
       "    <tr>\n",
       "      <th>63415</th>\n",
       "      <td>472</td>\n",
       "      <td>51605</td>\n",
       "      <td>12698</td>\n",
       "      <td>5.09</td>\n",
       "      <td>4.35</td>\n",
       "      <td>0.0</td>\n",
       "      <td>0.0</td>\n",
       "      <td>0.0</td>\n",
       "      <td>0.0</td>\n",
       "      <td>1.0</td>\n",
       "      <td>0.0</td>\n",
       "      <td>1.0</td>\n",
       "      <td>0.0</td>\n",
       "    </tr>\n",
       "    <tr>\n",
       "      <th>34549</th>\n",
       "      <td>11935</td>\n",
       "      <td>11935</td>\n",
       "      <td>5393</td>\n",
       "      <td>4.45</td>\n",
       "      <td>3.80</td>\n",
       "      <td>1.0</td>\n",
       "      <td>0.0</td>\n",
       "      <td>0.0</td>\n",
       "      <td>0.0</td>\n",
       "      <td>0.0</td>\n",
       "      <td>0.0</td>\n",
       "      <td>1.0</td>\n",
       "      <td>0.0</td>\n",
       "    </tr>\n",
       "    <tr>\n",
       "      <th>54802</th>\n",
       "      <td>817</td>\n",
       "      <td>32194</td>\n",
       "      <td>4268</td>\n",
       "      <td>8.89</td>\n",
       "      <td>7.60</td>\n",
       "      <td>0.0</td>\n",
       "      <td>0.0</td>\n",
       "      <td>0.0</td>\n",
       "      <td>0.0</td>\n",
       "      <td>1.0</td>\n",
       "      <td>0.0</td>\n",
       "      <td>1.0</td>\n",
       "      <td>0.0</td>\n",
       "    </tr>\n",
       "  </tbody>\n",
       "</table>\n",
       "</div>"
      ],
      "text/plain": [
       "        City/Town  County  Developer  Estimated PV System Size (kWdc)  \\\n",
       "57743         788   32194        672                             8.89   \n",
       "173164         30    5300       4911                             4.21   \n",
       "63415         472   51605      12698                             5.09   \n",
       "34549       11935   11935       5393                             4.45   \n",
       "54802         817   32194       4268                             8.89   \n",
       "\n",
       "        PV System Size (kWac)  Utility_Con Ed  Utility_NYSEG  \\\n",
       "57743                    7.60             0.0            0.0   \n",
       "173164                   3.60             0.0            0.0   \n",
       "63415                    4.35             0.0            0.0   \n",
       "34549                    3.80             1.0            0.0   \n",
       "54802                    7.60             0.0            0.0   \n",
       "\n",
       "        Utility_National Grid  Utility_O&R  Utility_PSEGLI  Utility_RGE  \\\n",
       "57743                     0.0          0.0             1.0          0.0   \n",
       "173164                    0.0          0.0             0.0          0.0   \n",
       "63415                     0.0          0.0             1.0          0.0   \n",
       "34549                     0.0          0.0             0.0          0.0   \n",
       "54802                     0.0          0.0             1.0          0.0   \n",
       "\n",
       "        Metering Method_NM  Metering Method_RNM  \n",
       "57743                  1.0                  0.0  \n",
       "173164                 1.0                  0.0  \n",
       "63415                  1.0                  0.0  \n",
       "34549                  1.0                  0.0  \n",
       "54802                  1.0                  0.0  "
      ]
     },
     "execution_count": 80,
     "metadata": {},
     "output_type": "execute_result"
    }
   ],
   "source": [
    "X_train.head()"
   ]
  },
  {
   "cell_type": "code",
   "execution_count": 81,
   "id": "c42c852b",
   "metadata": {},
   "outputs": [
    {
     "data": {
      "text/html": [
       "<div>\n",
       "<style scoped>\n",
       "    .dataframe tbody tr th:only-of-type {\n",
       "        vertical-align: middle;\n",
       "    }\n",
       "\n",
       "    .dataframe tbody tr th {\n",
       "        vertical-align: top;\n",
       "    }\n",
       "\n",
       "    .dataframe thead th {\n",
       "        text-align: right;\n",
       "    }\n",
       "</style>\n",
       "<table border=\"1\" class=\"dataframe\">\n",
       "  <thead>\n",
       "    <tr style=\"text-align: right;\">\n",
       "      <th></th>\n",
       "      <th>City/Town</th>\n",
       "      <th>County</th>\n",
       "      <th>Developer</th>\n",
       "      <th>Estimated PV System Size (kWdc)</th>\n",
       "      <th>PV System Size (kWac)</th>\n",
       "      <th>Utility_Con Ed</th>\n",
       "      <th>Utility_NYSEG</th>\n",
       "      <th>Utility_National Grid</th>\n",
       "      <th>Utility_O&amp;R</th>\n",
       "      <th>Utility_PSEGLI</th>\n",
       "      <th>Utility_RGE</th>\n",
       "      <th>Metering Method_NM</th>\n",
       "      <th>Metering Method_RNM</th>\n",
       "    </tr>\n",
       "  </thead>\n",
       "  <tbody>\n",
       "    <tr>\n",
       "      <th>57743</th>\n",
       "      <td>788</td>\n",
       "      <td>32194</td>\n",
       "      <td>672</td>\n",
       "      <td>8.89</td>\n",
       "      <td>7.60</td>\n",
       "      <td>0.0</td>\n",
       "      <td>0.0</td>\n",
       "      <td>0.0</td>\n",
       "      <td>0.0</td>\n",
       "      <td>1.0</td>\n",
       "      <td>0.0</td>\n",
       "      <td>1.0</td>\n",
       "      <td>0.0</td>\n",
       "    </tr>\n",
       "    <tr>\n",
       "      <th>173164</th>\n",
       "      <td>30</td>\n",
       "      <td>5300</td>\n",
       "      <td>4911</td>\n",
       "      <td>4.21</td>\n",
       "      <td>3.60</td>\n",
       "      <td>0.0</td>\n",
       "      <td>0.0</td>\n",
       "      <td>0.0</td>\n",
       "      <td>0.0</td>\n",
       "      <td>0.0</td>\n",
       "      <td>0.0</td>\n",
       "      <td>1.0</td>\n",
       "      <td>0.0</td>\n",
       "    </tr>\n",
       "    <tr>\n",
       "      <th>63415</th>\n",
       "      <td>472</td>\n",
       "      <td>51605</td>\n",
       "      <td>12698</td>\n",
       "      <td>5.09</td>\n",
       "      <td>4.35</td>\n",
       "      <td>0.0</td>\n",
       "      <td>0.0</td>\n",
       "      <td>0.0</td>\n",
       "      <td>0.0</td>\n",
       "      <td>1.0</td>\n",
       "      <td>0.0</td>\n",
       "      <td>1.0</td>\n",
       "      <td>0.0</td>\n",
       "    </tr>\n",
       "    <tr>\n",
       "      <th>34549</th>\n",
       "      <td>11935</td>\n",
       "      <td>11935</td>\n",
       "      <td>5393</td>\n",
       "      <td>4.45</td>\n",
       "      <td>3.80</td>\n",
       "      <td>1.0</td>\n",
       "      <td>0.0</td>\n",
       "      <td>0.0</td>\n",
       "      <td>0.0</td>\n",
       "      <td>0.0</td>\n",
       "      <td>0.0</td>\n",
       "      <td>1.0</td>\n",
       "      <td>0.0</td>\n",
       "    </tr>\n",
       "    <tr>\n",
       "      <th>54802</th>\n",
       "      <td>817</td>\n",
       "      <td>32194</td>\n",
       "      <td>4268</td>\n",
       "      <td>8.89</td>\n",
       "      <td>7.60</td>\n",
       "      <td>0.0</td>\n",
       "      <td>0.0</td>\n",
       "      <td>0.0</td>\n",
       "      <td>0.0</td>\n",
       "      <td>1.0</td>\n",
       "      <td>0.0</td>\n",
       "      <td>1.0</td>\n",
       "      <td>0.0</td>\n",
       "    </tr>\n",
       "  </tbody>\n",
       "</table>\n",
       "</div>"
      ],
      "text/plain": [
       "        City/Town  County  Developer  Estimated PV System Size (kWdc)  \\\n",
       "57743         788   32194        672                             8.89   \n",
       "173164         30    5300       4911                             4.21   \n",
       "63415         472   51605      12698                             5.09   \n",
       "34549       11935   11935       5393                             4.45   \n",
       "54802         817   32194       4268                             8.89   \n",
       "\n",
       "        PV System Size (kWac)  Utility_Con Ed  Utility_NYSEG  \\\n",
       "57743                    7.60             0.0            0.0   \n",
       "173164                   3.60             0.0            0.0   \n",
       "63415                    4.35             0.0            0.0   \n",
       "34549                    3.80             1.0            0.0   \n",
       "54802                    7.60             0.0            0.0   \n",
       "\n",
       "        Utility_National Grid  Utility_O&R  Utility_PSEGLI  Utility_RGE  \\\n",
       "57743                     0.0          0.0             1.0          0.0   \n",
       "173164                    0.0          0.0             0.0          0.0   \n",
       "63415                     0.0          0.0             1.0          0.0   \n",
       "34549                     0.0          0.0             0.0          0.0   \n",
       "54802                     0.0          0.0             1.0          0.0   \n",
       "\n",
       "        Metering Method_NM  Metering Method_RNM  \n",
       "57743                  1.0                  0.0  \n",
       "173164                 1.0                  0.0  \n",
       "63415                  1.0                  0.0  \n",
       "34549                  1.0                  0.0  \n",
       "54802                  1.0                  0.0  "
      ]
     },
     "execution_count": 81,
     "metadata": {},
     "output_type": "execute_result"
    }
   ],
   "source": [
    "X_train.head()"
   ]
  },
  {
   "cell_type": "code",
   "execution_count": 82,
   "id": "e66f028d",
   "metadata": {},
   "outputs": [
    {
     "data": {
      "text/plain": [
       "Index(['City/Town', 'County', 'Developer', 'Estimated PV System Size (kWdc)',\n",
       "       'PV System Size (kWac)', 'Utility_Con Ed', 'Utility_NYSEG',\n",
       "       'Utility_National Grid', 'Utility_O&R', 'Utility_PSEGLI', 'Utility_RGE',\n",
       "       'Metering Method_NM', 'Metering Method_RNM'],\n",
       "      dtype='object')"
      ]
     },
     "execution_count": 82,
     "metadata": {},
     "output_type": "execute_result"
    }
   ],
   "source": [
    "X_train.columns"
   ]
  },
  {
   "cell_type": "code",
   "execution_count": 83,
   "id": "8e0932d6",
   "metadata": {},
   "outputs": [],
   "source": [
    "num_col= ['City/Town', 'County', 'Developer', 'Estimated PV System Size (kWdc)',\n",
    "       'PV System Size (kWac)']"
   ]
  },
  {
   "cell_type": "code",
   "execution_count": 84,
   "id": "afca9cd9",
   "metadata": {},
   "outputs": [
    {
     "data": {
      "text/html": [
       "<style>#sk-container-id-2 {color: black;background-color: white;}#sk-container-id-2 pre{padding: 0;}#sk-container-id-2 div.sk-toggleable {background-color: white;}#sk-container-id-2 label.sk-toggleable__label {cursor: pointer;display: block;width: 100%;margin-bottom: 0;padding: 0.3em;box-sizing: border-box;text-align: center;}#sk-container-id-2 label.sk-toggleable__label-arrow:before {content: \"▸\";float: left;margin-right: 0.25em;color: #696969;}#sk-container-id-2 label.sk-toggleable__label-arrow:hover:before {color: black;}#sk-container-id-2 div.sk-estimator:hover label.sk-toggleable__label-arrow:before {color: black;}#sk-container-id-2 div.sk-toggleable__content {max-height: 0;max-width: 0;overflow: hidden;text-align: left;background-color: #f0f8ff;}#sk-container-id-2 div.sk-toggleable__content pre {margin: 0.2em;color: black;border-radius: 0.25em;background-color: #f0f8ff;}#sk-container-id-2 input.sk-toggleable__control:checked~div.sk-toggleable__content {max-height: 200px;max-width: 100%;overflow: auto;}#sk-container-id-2 input.sk-toggleable__control:checked~label.sk-toggleable__label-arrow:before {content: \"▾\";}#sk-container-id-2 div.sk-estimator input.sk-toggleable__control:checked~label.sk-toggleable__label {background-color: #d4ebff;}#sk-container-id-2 div.sk-label input.sk-toggleable__control:checked~label.sk-toggleable__label {background-color: #d4ebff;}#sk-container-id-2 input.sk-hidden--visually {border: 0;clip: rect(1px 1px 1px 1px);clip: rect(1px, 1px, 1px, 1px);height: 1px;margin: -1px;overflow: hidden;padding: 0;position: absolute;width: 1px;}#sk-container-id-2 div.sk-estimator {font-family: monospace;background-color: #f0f8ff;border: 1px dotted black;border-radius: 0.25em;box-sizing: border-box;margin-bottom: 0.5em;}#sk-container-id-2 div.sk-estimator:hover {background-color: #d4ebff;}#sk-container-id-2 div.sk-parallel-item::after {content: \"\";width: 100%;border-bottom: 1px solid gray;flex-grow: 1;}#sk-container-id-2 div.sk-label:hover label.sk-toggleable__label {background-color: #d4ebff;}#sk-container-id-2 div.sk-serial::before {content: \"\";position: absolute;border-left: 1px solid gray;box-sizing: border-box;top: 0;bottom: 0;left: 50%;z-index: 0;}#sk-container-id-2 div.sk-serial {display: flex;flex-direction: column;align-items: center;background-color: white;padding-right: 0.2em;padding-left: 0.2em;position: relative;}#sk-container-id-2 div.sk-item {position: relative;z-index: 1;}#sk-container-id-2 div.sk-parallel {display: flex;align-items: stretch;justify-content: center;background-color: white;position: relative;}#sk-container-id-2 div.sk-item::before, #sk-container-id-2 div.sk-parallel-item::before {content: \"\";position: absolute;border-left: 1px solid gray;box-sizing: border-box;top: 0;bottom: 0;left: 50%;z-index: -1;}#sk-container-id-2 div.sk-parallel-item {display: flex;flex-direction: column;z-index: 1;position: relative;background-color: white;}#sk-container-id-2 div.sk-parallel-item:first-child::after {align-self: flex-end;width: 50%;}#sk-container-id-2 div.sk-parallel-item:last-child::after {align-self: flex-start;width: 50%;}#sk-container-id-2 div.sk-parallel-item:only-child::after {width: 0;}#sk-container-id-2 div.sk-dashed-wrapped {border: 1px dashed gray;margin: 0 0.4em 0.5em 0.4em;box-sizing: border-box;padding-bottom: 0.4em;background-color: white;}#sk-container-id-2 div.sk-label label {font-family: monospace;font-weight: bold;display: inline-block;line-height: 1.2em;}#sk-container-id-2 div.sk-label-container {text-align: center;}#sk-container-id-2 div.sk-container {/* jupyter's `normalize.less` sets `[hidden] { display: none; }` but bootstrap.min.css set `[hidden] { display: none !important; }` so we also need the `!important` here to be able to override the default hidden behavior on the sphinx rendered scikit-learn.org. See: https://github.com/scikit-learn/scikit-learn/issues/21755 */display: inline-block !important;position: relative;}#sk-container-id-2 div.sk-text-repr-fallback {display: none;}</style><div id=\"sk-container-id-2\" class=\"sk-top-container\"><div class=\"sk-text-repr-fallback\"><pre>MinMaxScaler()</pre><b>In a Jupyter environment, please rerun this cell to show the HTML representation or trust the notebook. <br />On GitHub, the HTML representation is unable to render, please try loading this page with nbviewer.org.</b></div><div class=\"sk-container\" hidden><div class=\"sk-item\"><div class=\"sk-estimator sk-toggleable\"><input class=\"sk-toggleable__control sk-hidden--visually\" id=\"sk-estimator-id-2\" type=\"checkbox\" checked><label for=\"sk-estimator-id-2\" class=\"sk-toggleable__label sk-toggleable__label-arrow\">MinMaxScaler</label><div class=\"sk-toggleable__content\"><pre>MinMaxScaler()</pre></div></div></div></div></div>"
      ],
      "text/plain": [
       "MinMaxScaler()"
      ]
     },
     "execution_count": 84,
     "metadata": {},
     "output_type": "execute_result"
    }
   ],
   "source": [
    "from sklearn.preprocessing import MinMaxScaler\n",
    "scaler = MinMaxScaler()\n",
    "scaler.fit(X_train[num_col])"
   ]
  },
  {
   "cell_type": "code",
   "execution_count": 85,
   "id": "374678de",
   "metadata": {},
   "outputs": [],
   "source": [
    "X_train[num_col] = scaler.transform(X_train[num_col])\n",
    "X_test[num_col] = scaler.transform(X_test[num_col])"
   ]
  },
  {
   "cell_type": "code",
   "execution_count": 86,
   "id": "dafb17ae",
   "metadata": {},
   "outputs": [],
   "source": [
    "def adjusted_r2_score(y_true, y_pred, n_samples, n_features):\n",
    "    r2 = r2_score(y_true, y_pred)\n",
    "    adjusted_r2 = 1 - ((1 - r2) * (n_samples - 1) / (n_samples - n_features - 1))\n",
    "    return adjusted_r2"
   ]
  },
  {
   "cell_type": "markdown",
   "id": "837b1484",
   "metadata": {},
   "source": [
    "# Linear Regression"
   ]
  },
  {
   "cell_type": "code",
   "execution_count": 87,
   "id": "9e0624bf",
   "metadata": {},
   "outputs": [
    {
     "data": {
      "text/plain": [
       "(0.8624358722947318, 0.9999999593943301, 0.9999999593822112)"
      ]
     },
     "execution_count": 87,
     "metadata": {},
     "output_type": "execute_result"
    }
   ],
   "source": [
    "from sklearn.linear_model import LinearRegression\n",
    "from sklearn.metrics import mean_squared_error as mse, r2_score\n",
    "lr = LinearRegression()\n",
    "lr.fit(X_train,y_train)\n",
    "y_predict = lr.predict(X_test)\n",
    "n_samples = len(y_test)\n",
    "n_features = X_test.shape[1]\n",
    "mse(y_test,y_predict), r2_score(y_test,y_predict), adjusted_r2_score(y_test,y_predict,n_samples, n_features)"
   ]
  },
  {
   "cell_type": "code",
   "execution_count": 88,
   "id": "a8a11ae7",
   "metadata": {},
   "outputs": [
    {
     "name": "stdout",
     "output_type": "stream",
     "text": [
      "Ridge Regression:\n",
      "MSE: 1.0417272099063974\n",
      "R2 Score: 0.9999999509528388\n",
      "Adjusted R2 Score: 0.9999999509382005\n"
     ]
    }
   ],
   "source": [
    "from sklearn.linear_model import Ridge\n",
    "from sklearn.metrics import mean_squared_error as mse, r2_score\n",
    "from sklearn.model_selection import GridSearchCV\n",
    "\n",
    "ridge = Ridge()\n",
    "\n",
    "param_grid = {'alpha': [0.001, 0.01, 0.1, 1, 10, 100]}\n",
    "\n",
    "\n",
    "grid_search = GridSearchCV(ridge, param_grid, cv=5, scoring='neg_mean_squared_error')\n",
    "grid_search.fit(X_train, y_train)\n",
    "\n",
    "\n",
    "best_ridge = grid_search.best_estimator_\n",
    "\n",
    "\n",
    "n_samples_test = len(y_test)\n",
    "n_features_test = X_test.shape[1]\n",
    "\n",
    "\n",
    "y_predict_ridge = best_ridge.predict(X_test)\n",
    "\n",
    "ridge_mse = mse(y_test, y_predict_ridge)\n",
    "ridge_r2 = r2_score(y_test, y_predict_ridge)\n",
    "ridge_adj_r2 = adjusted_r2_score(y_test, y_predict_ridge, n_samples_test, n_features_test)\n",
    "\n",
    "print(\"Ridge Regression:\")\n",
    "print(\"MSE:\", ridge_mse)\n",
    "print(\"R2 Score:\", ridge_r2)\n",
    "print(\"Adjusted R2 Score:\", ridge_adj_r2)\n"
   ]
  },
  {
   "cell_type": "code",
   "execution_count": 89,
   "id": "42dec65b",
   "metadata": {},
   "outputs": [],
   "source": [
    "from sklearn.ensemble import RandomForestRegressor, GradientBoostingRegressor"
   ]
  },
  {
   "cell_type": "markdown",
   "id": "57942f61",
   "metadata": {},
   "source": [
    "# Random Forest"
   ]
  },
  {
   "cell_type": "code",
   "execution_count": 90,
   "id": "0b2d0b9e",
   "metadata": {},
   "outputs": [
    {
     "data": {
      "text/plain": [
       "(0.18906180094060482, 0.9999999910984905, 0.9999999910958338)"
      ]
     },
     "execution_count": 90,
     "metadata": {},
     "output_type": "execute_result"
    }
   ],
   "source": [
    "from sklearn.metrics import mean_squared_error as mse, r2_score\n",
    "rf = RandomForestRegressor()\n",
    "rf.fit(X_train,y_train)\n",
    "y_predict = rf.predict(X_test)\n",
    "n_samples = len(y_test)\n",
    "n_features = X_test.shape[1]\n",
    "mse(y_test,y_predict), r2_score(y_test,y_predict), adjusted_r2_score(y_test,y_predict,n_samples, n_features)"
   ]
  },
  {
   "cell_type": "markdown",
   "id": "e3ea0c2b",
   "metadata": {},
   "source": [
    "# Gradient Boosting"
   ]
  },
  {
   "cell_type": "code",
   "execution_count": 91,
   "id": "0b378956",
   "metadata": {},
   "outputs": [
    {
     "data": {
      "text/plain": [
       "(593.9134495757579, 0.9999720370472626, 0.9999720287016456)"
      ]
     },
     "execution_count": 91,
     "metadata": {},
     "output_type": "execute_result"
    }
   ],
   "source": [
    "from sklearn.metrics import mean_squared_error as mse, r2_score\n",
    "gb = GradientBoostingRegressor()\n",
    "gb.fit(X_train,y_train)\n",
    "y_predict = gb.predict(X_test)\n",
    "n_samples = len(y_test)\n",
    "n_features = X_test.shape[1]\n",
    "mse(y_test,y_predict), r2_score(y_test,y_predict), adjusted_r2_score(y_test,y_predict,n_samples, n_features)"
   ]
  }
 ],
 "metadata": {
  "kernelspec": {
   "display_name": "Python 3 (ipykernel)",
   "language": "python",
   "name": "python3"
  },
  "language_info": {
   "codemirror_mode": {
    "name": "ipython",
    "version": 3
   },
   "file_extension": ".py",
   "mimetype": "text/x-python",
   "name": "python",
   "nbconvert_exporter": "python",
   "pygments_lexer": "ipython3",
   "version": "3.11.4"
  }
 },
 "nbformat": 4,
 "nbformat_minor": 5
}
